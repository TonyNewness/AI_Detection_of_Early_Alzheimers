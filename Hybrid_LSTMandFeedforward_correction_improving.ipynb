{
  "cells": [
    {
      "cell_type": "code",
      "execution_count": 1,
      "metadata": {
        "id": "d2QmoSWnDldF"
      },
      "outputs": [],
      "source": [
        "!pip install imblearn --quiet\n",
        "!pip install tensorflow --quiet"
      ]
    },
    {
      "cell_type": "code",
      "execution_count": 2,
      "metadata": {
        "id": "gxGEmGoVDgn_"
      },
      "outputs": [],
      "source": [
        "import pandas as pd\n",
        "import numpy as np\n",
        "from sklearn.model_selection import train_test_split\n",
        "from sklearn.preprocessing import StandardScaler\n",
        "from sklearn.metrics import accuracy_score, precision_score, recall_score, f1_score, confusion_matrix\n",
        "import seaborn as sns\n",
        "import matplotlib.pyplot as plt\n",
        "import torch\n",
        "import torch.nn as nn\n",
        "import torch.optim as optim\n",
        "from torch.utils.data import Dataset, DataLoader, TensorDataset\n",
        "from torch.nn.utils.rnn import pad_sequence, pack_padded_sequence, pad_packed_sequence\n",
        "from sklearn.preprocessing import LabelEncoder\n",
        "from sklearn.utils import class_weight\n",
        "from imblearn.over_sampling import RandomOverSampler\n",
        "from sklearn.preprocessing import MinMaxScaler\n",
        "from torch.nn import CrossEntropyLoss\n",
        "from sklearn.tree import DecisionTreeClassifier\n",
        "from sklearn.utils.class_weight import compute_class_weight\n",
        "import tensorflow as tf\n",
        "from tensorflow.keras.models import Sequential\n",
        "from tensorflow.keras.layers import LSTM, Dense, Dropout\n",
        "from tensorflow.keras.optimizers import Adam\n",
        "from tensorflow.keras.utils import to_categorical\n",
        "from keras.callbacks import EarlyStopping\n",
        "from tensorflow.keras.layers import Input # Import the Input object\n",
        "from tensorflow.keras.models import Model # Import the Model object\n",
        "from tensorflow.keras.layers import Input, LSTM, Dense, Concatenate, Dropout,BatchNormalization\n",
        "from tensorflow.keras.regularizers import l2\n",
        "from tensorflow.keras.callbacks import EarlyStopping, ModelCheckpoint"
      ]
    },
    {
      "cell_type": "code",
      "execution_count": 3,
      "metadata": {
        "colab": {
          "base_uri": "https://localhost:8080/"
        },
        "id": "O4JsBJPnHOSK",
        "outputId": "faae5b64-8bfb-4798-ca13-98fec0103f33"
      },
      "outputs": [
        {
          "output_type": "stream",
          "name": "stdout",
          "text": [
            "Mounted at /content/drive\n"
          ]
        }
      ],
      "source": [
        "# Import google drive where dataset is stored\n",
        "from google.colab import drive\n",
        "drive.mount('/content/drive')"
      ]
    },
    {
      "cell_type": "code",
      "execution_count": 4,
      "metadata": {
        "id": "7JW-vsM6HOVY"
      },
      "outputs": [],
      "source": [
        "csv_file = \"/content/drive/MyDrive/Colab_Notebooks1/investigator_nacc63.csv\"\n",
        "df = pd.read_csv(csv_file, low_memory=False)"
      ]
    },
    {
      "cell_type": "code",
      "source": [
        "df.head()"
      ],
      "metadata": {
        "colab": {
          "base_uri": "https://localhost:8080/",
          "height": 255
        },
        "id": "ZcQzYHIJgUJx",
        "outputId": "ea792fe4-e7a0-432b-b9fa-21091c667d59"
      },
      "execution_count": 5,
      "outputs": [
        {
          "output_type": "execute_result",
          "data": {
            "text/plain": [
              "       NACCID  NACCADC PACKET  FORMVER  VISITMO  VISITDAY  VISITYR  NACCVNUM  \\\n",
              "0  NACC002909      186      I      3.0       12        28     2022         1   \n",
              "1  NACC004352      186      I      3.0       10         5     2021         1   \n",
              "2  NACC004687      186      I      3.0       11        14     2022         1   \n",
              "3  NACC008514      186      I      3.0       11        15     2022         1   \n",
              "4  NACC013667      186      I      3.0        3        29     2022         1   \n",
              "\n",
              "   NACCAVST  NACCNVST  ...  NPATGAM1  NPATGAM2  NPATGAM3  NPATGAM4  NPATGAM5  \\\n",
              "0         1         1  ...        -4        -4        -4        -4        -4   \n",
              "1         1         1  ...        -4        -4        -4        -4        -4   \n",
              "2         1         1  ...        -4        -4        -4        -4        -4   \n",
              "3         1         1  ...        -4        -4        -4        -4        -4   \n",
              "4         1         1  ...        -4        -4        -4        -4        -4   \n",
              "\n",
              "   NPATGFRN  NPATGFR1  NPATGFR2  NPATGFR3  NPATGFR4  \n",
              "0        -4        -4        -4        -4        -4  \n",
              "1        -4        -4        -4        -4        -4  \n",
              "2        -4        -4        -4        -4        -4  \n",
              "3        -4        -4        -4        -4        -4  \n",
              "4        -4        -4        -4        -4        -4  \n",
              "\n",
              "[5 rows x 1024 columns]"
            ],
            "text/html": [
              "\n",
              "  <div id=\"df-436d05b9-3d2b-4e33-9c4b-bce349376509\" class=\"colab-df-container\">\n",
              "    <div>\n",
              "<style scoped>\n",
              "    .dataframe tbody tr th:only-of-type {\n",
              "        vertical-align: middle;\n",
              "    }\n",
              "\n",
              "    .dataframe tbody tr th {\n",
              "        vertical-align: top;\n",
              "    }\n",
              "\n",
              "    .dataframe thead th {\n",
              "        text-align: right;\n",
              "    }\n",
              "</style>\n",
              "<table border=\"1\" class=\"dataframe\">\n",
              "  <thead>\n",
              "    <tr style=\"text-align: right;\">\n",
              "      <th></th>\n",
              "      <th>NACCID</th>\n",
              "      <th>NACCADC</th>\n",
              "      <th>PACKET</th>\n",
              "      <th>FORMVER</th>\n",
              "      <th>VISITMO</th>\n",
              "      <th>VISITDAY</th>\n",
              "      <th>VISITYR</th>\n",
              "      <th>NACCVNUM</th>\n",
              "      <th>NACCAVST</th>\n",
              "      <th>NACCNVST</th>\n",
              "      <th>...</th>\n",
              "      <th>NPATGAM1</th>\n",
              "      <th>NPATGAM2</th>\n",
              "      <th>NPATGAM3</th>\n",
              "      <th>NPATGAM4</th>\n",
              "      <th>NPATGAM5</th>\n",
              "      <th>NPATGFRN</th>\n",
              "      <th>NPATGFR1</th>\n",
              "      <th>NPATGFR2</th>\n",
              "      <th>NPATGFR3</th>\n",
              "      <th>NPATGFR4</th>\n",
              "    </tr>\n",
              "  </thead>\n",
              "  <tbody>\n",
              "    <tr>\n",
              "      <th>0</th>\n",
              "      <td>NACC002909</td>\n",
              "      <td>186</td>\n",
              "      <td>I</td>\n",
              "      <td>3.0</td>\n",
              "      <td>12</td>\n",
              "      <td>28</td>\n",
              "      <td>2022</td>\n",
              "      <td>1</td>\n",
              "      <td>1</td>\n",
              "      <td>1</td>\n",
              "      <td>...</td>\n",
              "      <td>-4</td>\n",
              "      <td>-4</td>\n",
              "      <td>-4</td>\n",
              "      <td>-4</td>\n",
              "      <td>-4</td>\n",
              "      <td>-4</td>\n",
              "      <td>-4</td>\n",
              "      <td>-4</td>\n",
              "      <td>-4</td>\n",
              "      <td>-4</td>\n",
              "    </tr>\n",
              "    <tr>\n",
              "      <th>1</th>\n",
              "      <td>NACC004352</td>\n",
              "      <td>186</td>\n",
              "      <td>I</td>\n",
              "      <td>3.0</td>\n",
              "      <td>10</td>\n",
              "      <td>5</td>\n",
              "      <td>2021</td>\n",
              "      <td>1</td>\n",
              "      <td>1</td>\n",
              "      <td>1</td>\n",
              "      <td>...</td>\n",
              "      <td>-4</td>\n",
              "      <td>-4</td>\n",
              "      <td>-4</td>\n",
              "      <td>-4</td>\n",
              "      <td>-4</td>\n",
              "      <td>-4</td>\n",
              "      <td>-4</td>\n",
              "      <td>-4</td>\n",
              "      <td>-4</td>\n",
              "      <td>-4</td>\n",
              "    </tr>\n",
              "    <tr>\n",
              "      <th>2</th>\n",
              "      <td>NACC004687</td>\n",
              "      <td>186</td>\n",
              "      <td>I</td>\n",
              "      <td>3.0</td>\n",
              "      <td>11</td>\n",
              "      <td>14</td>\n",
              "      <td>2022</td>\n",
              "      <td>1</td>\n",
              "      <td>1</td>\n",
              "      <td>1</td>\n",
              "      <td>...</td>\n",
              "      <td>-4</td>\n",
              "      <td>-4</td>\n",
              "      <td>-4</td>\n",
              "      <td>-4</td>\n",
              "      <td>-4</td>\n",
              "      <td>-4</td>\n",
              "      <td>-4</td>\n",
              "      <td>-4</td>\n",
              "      <td>-4</td>\n",
              "      <td>-4</td>\n",
              "    </tr>\n",
              "    <tr>\n",
              "      <th>3</th>\n",
              "      <td>NACC008514</td>\n",
              "      <td>186</td>\n",
              "      <td>I</td>\n",
              "      <td>3.0</td>\n",
              "      <td>11</td>\n",
              "      <td>15</td>\n",
              "      <td>2022</td>\n",
              "      <td>1</td>\n",
              "      <td>1</td>\n",
              "      <td>1</td>\n",
              "      <td>...</td>\n",
              "      <td>-4</td>\n",
              "      <td>-4</td>\n",
              "      <td>-4</td>\n",
              "      <td>-4</td>\n",
              "      <td>-4</td>\n",
              "      <td>-4</td>\n",
              "      <td>-4</td>\n",
              "      <td>-4</td>\n",
              "      <td>-4</td>\n",
              "      <td>-4</td>\n",
              "    </tr>\n",
              "    <tr>\n",
              "      <th>4</th>\n",
              "      <td>NACC013667</td>\n",
              "      <td>186</td>\n",
              "      <td>I</td>\n",
              "      <td>3.0</td>\n",
              "      <td>3</td>\n",
              "      <td>29</td>\n",
              "      <td>2022</td>\n",
              "      <td>1</td>\n",
              "      <td>1</td>\n",
              "      <td>1</td>\n",
              "      <td>...</td>\n",
              "      <td>-4</td>\n",
              "      <td>-4</td>\n",
              "      <td>-4</td>\n",
              "      <td>-4</td>\n",
              "      <td>-4</td>\n",
              "      <td>-4</td>\n",
              "      <td>-4</td>\n",
              "      <td>-4</td>\n",
              "      <td>-4</td>\n",
              "      <td>-4</td>\n",
              "    </tr>\n",
              "  </tbody>\n",
              "</table>\n",
              "<p>5 rows × 1024 columns</p>\n",
              "</div>\n",
              "    <div class=\"colab-df-buttons\">\n",
              "\n",
              "  <div class=\"colab-df-container\">\n",
              "    <button class=\"colab-df-convert\" onclick=\"convertToInteractive('df-436d05b9-3d2b-4e33-9c4b-bce349376509')\"\n",
              "            title=\"Convert this dataframe to an interactive table.\"\n",
              "            style=\"display:none;\">\n",
              "\n",
              "  <svg xmlns=\"http://www.w3.org/2000/svg\" height=\"24px\" viewBox=\"0 -960 960 960\">\n",
              "    <path d=\"M120-120v-720h720v720H120Zm60-500h600v-160H180v160Zm220 220h160v-160H400v160Zm0 220h160v-160H400v160ZM180-400h160v-160H180v160Zm440 0h160v-160H620v160ZM180-180h160v-160H180v160Zm440 0h160v-160H620v160Z\"/>\n",
              "  </svg>\n",
              "    </button>\n",
              "\n",
              "  <style>\n",
              "    .colab-df-container {\n",
              "      display:flex;\n",
              "      gap: 12px;\n",
              "    }\n",
              "\n",
              "    .colab-df-convert {\n",
              "      background-color: #E8F0FE;\n",
              "      border: none;\n",
              "      border-radius: 50%;\n",
              "      cursor: pointer;\n",
              "      display: none;\n",
              "      fill: #1967D2;\n",
              "      height: 32px;\n",
              "      padding: 0 0 0 0;\n",
              "      width: 32px;\n",
              "    }\n",
              "\n",
              "    .colab-df-convert:hover {\n",
              "      background-color: #E2EBFA;\n",
              "      box-shadow: 0px 1px 2px rgba(60, 64, 67, 0.3), 0px 1px 3px 1px rgba(60, 64, 67, 0.15);\n",
              "      fill: #174EA6;\n",
              "    }\n",
              "\n",
              "    .colab-df-buttons div {\n",
              "      margin-bottom: 4px;\n",
              "    }\n",
              "\n",
              "    [theme=dark] .colab-df-convert {\n",
              "      background-color: #3B4455;\n",
              "      fill: #D2E3FC;\n",
              "    }\n",
              "\n",
              "    [theme=dark] .colab-df-convert:hover {\n",
              "      background-color: #434B5C;\n",
              "      box-shadow: 0px 1px 3px 1px rgba(0, 0, 0, 0.15);\n",
              "      filter: drop-shadow(0px 1px 2px rgba(0, 0, 0, 0.3));\n",
              "      fill: #FFFFFF;\n",
              "    }\n",
              "  </style>\n",
              "\n",
              "    <script>\n",
              "      const buttonEl =\n",
              "        document.querySelector('#df-436d05b9-3d2b-4e33-9c4b-bce349376509 button.colab-df-convert');\n",
              "      buttonEl.style.display =\n",
              "        google.colab.kernel.accessAllowed ? 'block' : 'none';\n",
              "\n",
              "      async function convertToInteractive(key) {\n",
              "        const element = document.querySelector('#df-436d05b9-3d2b-4e33-9c4b-bce349376509');\n",
              "        const dataTable =\n",
              "          await google.colab.kernel.invokeFunction('convertToInteractive',\n",
              "                                                    [key], {});\n",
              "        if (!dataTable) return;\n",
              "\n",
              "        const docLinkHtml = 'Like what you see? Visit the ' +\n",
              "          '<a target=\"_blank\" href=https://colab.research.google.com/notebooks/data_table.ipynb>data table notebook</a>'\n",
              "          + ' to learn more about interactive tables.';\n",
              "        element.innerHTML = '';\n",
              "        dataTable['output_type'] = 'display_data';\n",
              "        await google.colab.output.renderOutput(dataTable, element);\n",
              "        const docLink = document.createElement('div');\n",
              "        docLink.innerHTML = docLinkHtml;\n",
              "        element.appendChild(docLink);\n",
              "      }\n",
              "    </script>\n",
              "  </div>\n",
              "\n",
              "\n",
              "<div id=\"df-faa0c807-8431-4fe6-92a4-16c2ca9efe8f\">\n",
              "  <button class=\"colab-df-quickchart\" onclick=\"quickchart('df-faa0c807-8431-4fe6-92a4-16c2ca9efe8f')\"\n",
              "            title=\"Suggest charts\"\n",
              "            style=\"display:none;\">\n",
              "\n",
              "<svg xmlns=\"http://www.w3.org/2000/svg\" height=\"24px\"viewBox=\"0 0 24 24\"\n",
              "     width=\"24px\">\n",
              "    <g>\n",
              "        <path d=\"M19 3H5c-1.1 0-2 .9-2 2v14c0 1.1.9 2 2 2h14c1.1 0 2-.9 2-2V5c0-1.1-.9-2-2-2zM9 17H7v-7h2v7zm4 0h-2V7h2v10zm4 0h-2v-4h2v4z\"/>\n",
              "    </g>\n",
              "</svg>\n",
              "  </button>\n",
              "\n",
              "<style>\n",
              "  .colab-df-quickchart {\n",
              "      --bg-color: #E8F0FE;\n",
              "      --fill-color: #1967D2;\n",
              "      --hover-bg-color: #E2EBFA;\n",
              "      --hover-fill-color: #174EA6;\n",
              "      --disabled-fill-color: #AAA;\n",
              "      --disabled-bg-color: #DDD;\n",
              "  }\n",
              "\n",
              "  [theme=dark] .colab-df-quickchart {\n",
              "      --bg-color: #3B4455;\n",
              "      --fill-color: #D2E3FC;\n",
              "      --hover-bg-color: #434B5C;\n",
              "      --hover-fill-color: #FFFFFF;\n",
              "      --disabled-bg-color: #3B4455;\n",
              "      --disabled-fill-color: #666;\n",
              "  }\n",
              "\n",
              "  .colab-df-quickchart {\n",
              "    background-color: var(--bg-color);\n",
              "    border: none;\n",
              "    border-radius: 50%;\n",
              "    cursor: pointer;\n",
              "    display: none;\n",
              "    fill: var(--fill-color);\n",
              "    height: 32px;\n",
              "    padding: 0;\n",
              "    width: 32px;\n",
              "  }\n",
              "\n",
              "  .colab-df-quickchart:hover {\n",
              "    background-color: var(--hover-bg-color);\n",
              "    box-shadow: 0 1px 2px rgba(60, 64, 67, 0.3), 0 1px 3px 1px rgba(60, 64, 67, 0.15);\n",
              "    fill: var(--button-hover-fill-color);\n",
              "  }\n",
              "\n",
              "  .colab-df-quickchart-complete:disabled,\n",
              "  .colab-df-quickchart-complete:disabled:hover {\n",
              "    background-color: var(--disabled-bg-color);\n",
              "    fill: var(--disabled-fill-color);\n",
              "    box-shadow: none;\n",
              "  }\n",
              "\n",
              "  .colab-df-spinner {\n",
              "    border: 2px solid var(--fill-color);\n",
              "    border-color: transparent;\n",
              "    border-bottom-color: var(--fill-color);\n",
              "    animation:\n",
              "      spin 1s steps(1) infinite;\n",
              "  }\n",
              "\n",
              "  @keyframes spin {\n",
              "    0% {\n",
              "      border-color: transparent;\n",
              "      border-bottom-color: var(--fill-color);\n",
              "      border-left-color: var(--fill-color);\n",
              "    }\n",
              "    20% {\n",
              "      border-color: transparent;\n",
              "      border-left-color: var(--fill-color);\n",
              "      border-top-color: var(--fill-color);\n",
              "    }\n",
              "    30% {\n",
              "      border-color: transparent;\n",
              "      border-left-color: var(--fill-color);\n",
              "      border-top-color: var(--fill-color);\n",
              "      border-right-color: var(--fill-color);\n",
              "    }\n",
              "    40% {\n",
              "      border-color: transparent;\n",
              "      border-right-color: var(--fill-color);\n",
              "      border-top-color: var(--fill-color);\n",
              "    }\n",
              "    60% {\n",
              "      border-color: transparent;\n",
              "      border-right-color: var(--fill-color);\n",
              "    }\n",
              "    80% {\n",
              "      border-color: transparent;\n",
              "      border-right-color: var(--fill-color);\n",
              "      border-bottom-color: var(--fill-color);\n",
              "    }\n",
              "    90% {\n",
              "      border-color: transparent;\n",
              "      border-bottom-color: var(--fill-color);\n",
              "    }\n",
              "  }\n",
              "</style>\n",
              "\n",
              "  <script>\n",
              "    async function quickchart(key) {\n",
              "      const quickchartButtonEl =\n",
              "        document.querySelector('#' + key + ' button');\n",
              "      quickchartButtonEl.disabled = true;  // To prevent multiple clicks.\n",
              "      quickchartButtonEl.classList.add('colab-df-spinner');\n",
              "      try {\n",
              "        const charts = await google.colab.kernel.invokeFunction(\n",
              "            'suggestCharts', [key], {});\n",
              "      } catch (error) {\n",
              "        console.error('Error during call to suggestCharts:', error);\n",
              "      }\n",
              "      quickchartButtonEl.classList.remove('colab-df-spinner');\n",
              "      quickchartButtonEl.classList.add('colab-df-quickchart-complete');\n",
              "    }\n",
              "    (() => {\n",
              "      let quickchartButtonEl =\n",
              "        document.querySelector('#df-faa0c807-8431-4fe6-92a4-16c2ca9efe8f button');\n",
              "      quickchartButtonEl.style.display =\n",
              "        google.colab.kernel.accessAllowed ? 'block' : 'none';\n",
              "    })();\n",
              "  </script>\n",
              "</div>\n",
              "\n",
              "    </div>\n",
              "  </div>\n"
            ],
            "application/vnd.google.colaboratory.intrinsic+json": {
              "type": "dataframe",
              "variable_name": "df"
            }
          },
          "metadata": {},
          "execution_count": 5
        }
      ]
    },
    {
      "cell_type": "code",
      "source": [
        "df.info()"
      ],
      "metadata": {
        "colab": {
          "base_uri": "https://localhost:8080/"
        },
        "id": "ydb-mAKyhWZN",
        "outputId": "8d090867-496e-492a-e522-95c3fa971675"
      },
      "execution_count": 6,
      "outputs": [
        {
          "output_type": "stream",
          "name": "stdout",
          "text": [
            "<class 'pandas.core.frame.DataFrame'>\n",
            "RangeIndex: 183097 entries, 0 to 183096\n",
            "Columns: 1024 entries, NACCID to NPATGFR4\n",
            "dtypes: float64(134), int64(748), object(142)\n",
            "memory usage: 1.4+ GB\n"
          ]
        }
      ]
    },
    {
      "cell_type": "code",
      "source": [
        "df.describe()"
      ],
      "metadata": {
        "colab": {
          "base_uri": "https://localhost:8080/",
          "height": 349
        },
        "id": "_xzLiCyxhasY",
        "outputId": "7e29a2c2-daf4-40c6-9de4-14efb54589ac"
      },
      "execution_count": 7,
      "outputs": [
        {
          "output_type": "execute_result",
          "data": {
            "text/plain": [
              "             NACCADC        FORMVER        VISITMO       VISITDAY  \\\n",
              "count  183097.000000  183097.000000  183097.000000  183097.000000   \n",
              "mean     5045.374386       2.313191       6.364457      15.427145   \n",
              "std      2963.788303       0.699132       3.394358       8.603537   \n",
              "min       186.000000       1.000000       1.000000       1.000000   \n",
              "25%      2289.000000       2.000000       3.000000       8.000000   \n",
              "50%      5310.000000       2.000000       6.000000      15.000000   \n",
              "75%      8361.000000       3.000000       9.000000      23.000000   \n",
              "max      9661.000000       3.200000      12.000000      31.000000   \n",
              "\n",
              "             VISITYR       NACCVNUM       NACCAVST       NACCNVST  \\\n",
              "count  183097.000000  183097.000000  183097.000000  183097.000000   \n",
              "mean     2013.810385       3.762399       6.524798       5.693059   \n",
              "std         4.992962       3.005342       4.086922       3.837000   \n",
              "min      2005.000000       1.000000       1.000000       1.000000   \n",
              "25%      2010.000000       1.000000       3.000000       3.000000   \n",
              "50%      2014.000000       3.000000       6.000000       5.000000   \n",
              "75%      2018.000000       5.000000       9.000000       8.000000   \n",
              "max      2023.000000      18.000000      18.000000      18.000000   \n",
              "\n",
              "            NACCDAYS       NACCFDYS  ...       NPATGAM1       NPATGAM2  \\\n",
              "count  183097.000000  183097.000000  ...  183097.000000  183097.000000   \n",
              "mean     2369.898764    1174.117304  ...      -3.940927      -3.939507   \n",
              "std      1698.312003    1259.653794  ...       0.629914       0.655855   \n",
              "min         0.000000       0.000000  ...      -4.000000      -4.000000   \n",
              "25%      1058.000000       0.000000  ...      -4.000000      -4.000000   \n",
              "50%      2061.000000     777.000000  ...      -4.000000      -4.000000   \n",
              "75%      3626.000000    1823.000000  ...      -4.000000      -4.000000   \n",
              "max      6524.000000    6524.000000  ...       9.000000       9.000000   \n",
              "\n",
              "            NPATGAM3       NPATGAM4       NPATGAM5       NPATGFRN  \\\n",
              "count  183097.000000  183097.000000  183097.000000  183097.000000   \n",
              "mean       -3.941932      -3.940097      -3.940742      -3.924259   \n",
              "std         0.628480       0.642091       0.634493       0.722048   \n",
              "min        -4.000000      -4.000000      -4.000000      -4.000000   \n",
              "25%        -4.000000      -4.000000      -4.000000      -4.000000   \n",
              "50%        -4.000000      -4.000000      -4.000000      -4.000000   \n",
              "75%        -4.000000      -4.000000      -4.000000      -4.000000   \n",
              "max         9.000000       9.000000       9.000000       9.000000   \n",
              "\n",
              "            NPATGFR1       NPATGFR2       NPATGFR3       NPATGFR4  \n",
              "count  183097.000000  183097.000000  183097.000000  183097.000000  \n",
              "mean       -3.980251      -3.979104      -3.979044      -3.980371  \n",
              "std         0.358551       0.375612       0.378239       0.361455  \n",
              "min        -4.000000      -4.000000      -4.000000      -4.000000  \n",
              "25%        -4.000000      -4.000000      -4.000000      -4.000000  \n",
              "50%        -4.000000      -4.000000      -4.000000      -4.000000  \n",
              "75%        -4.000000      -4.000000      -4.000000      -4.000000  \n",
              "max         9.000000       9.000000       9.000000       9.000000  \n",
              "\n",
              "[8 rows x 882 columns]"
            ],
            "text/html": [
              "\n",
              "  <div id=\"df-8e9d1073-889a-439e-bd96-4c70cf3a53e5\" class=\"colab-df-container\">\n",
              "    <div>\n",
              "<style scoped>\n",
              "    .dataframe tbody tr th:only-of-type {\n",
              "        vertical-align: middle;\n",
              "    }\n",
              "\n",
              "    .dataframe tbody tr th {\n",
              "        vertical-align: top;\n",
              "    }\n",
              "\n",
              "    .dataframe thead th {\n",
              "        text-align: right;\n",
              "    }\n",
              "</style>\n",
              "<table border=\"1\" class=\"dataframe\">\n",
              "  <thead>\n",
              "    <tr style=\"text-align: right;\">\n",
              "      <th></th>\n",
              "      <th>NACCADC</th>\n",
              "      <th>FORMVER</th>\n",
              "      <th>VISITMO</th>\n",
              "      <th>VISITDAY</th>\n",
              "      <th>VISITYR</th>\n",
              "      <th>NACCVNUM</th>\n",
              "      <th>NACCAVST</th>\n",
              "      <th>NACCNVST</th>\n",
              "      <th>NACCDAYS</th>\n",
              "      <th>NACCFDYS</th>\n",
              "      <th>...</th>\n",
              "      <th>NPATGAM1</th>\n",
              "      <th>NPATGAM2</th>\n",
              "      <th>NPATGAM3</th>\n",
              "      <th>NPATGAM4</th>\n",
              "      <th>NPATGAM5</th>\n",
              "      <th>NPATGFRN</th>\n",
              "      <th>NPATGFR1</th>\n",
              "      <th>NPATGFR2</th>\n",
              "      <th>NPATGFR3</th>\n",
              "      <th>NPATGFR4</th>\n",
              "    </tr>\n",
              "  </thead>\n",
              "  <tbody>\n",
              "    <tr>\n",
              "      <th>count</th>\n",
              "      <td>183097.000000</td>\n",
              "      <td>183097.000000</td>\n",
              "      <td>183097.000000</td>\n",
              "      <td>183097.000000</td>\n",
              "      <td>183097.000000</td>\n",
              "      <td>183097.000000</td>\n",
              "      <td>183097.000000</td>\n",
              "      <td>183097.000000</td>\n",
              "      <td>183097.000000</td>\n",
              "      <td>183097.000000</td>\n",
              "      <td>...</td>\n",
              "      <td>183097.000000</td>\n",
              "      <td>183097.000000</td>\n",
              "      <td>183097.000000</td>\n",
              "      <td>183097.000000</td>\n",
              "      <td>183097.000000</td>\n",
              "      <td>183097.000000</td>\n",
              "      <td>183097.000000</td>\n",
              "      <td>183097.000000</td>\n",
              "      <td>183097.000000</td>\n",
              "      <td>183097.000000</td>\n",
              "    </tr>\n",
              "    <tr>\n",
              "      <th>mean</th>\n",
              "      <td>5045.374386</td>\n",
              "      <td>2.313191</td>\n",
              "      <td>6.364457</td>\n",
              "      <td>15.427145</td>\n",
              "      <td>2013.810385</td>\n",
              "      <td>3.762399</td>\n",
              "      <td>6.524798</td>\n",
              "      <td>5.693059</td>\n",
              "      <td>2369.898764</td>\n",
              "      <td>1174.117304</td>\n",
              "      <td>...</td>\n",
              "      <td>-3.940927</td>\n",
              "      <td>-3.939507</td>\n",
              "      <td>-3.941932</td>\n",
              "      <td>-3.940097</td>\n",
              "      <td>-3.940742</td>\n",
              "      <td>-3.924259</td>\n",
              "      <td>-3.980251</td>\n",
              "      <td>-3.979104</td>\n",
              "      <td>-3.979044</td>\n",
              "      <td>-3.980371</td>\n",
              "    </tr>\n",
              "    <tr>\n",
              "      <th>std</th>\n",
              "      <td>2963.788303</td>\n",
              "      <td>0.699132</td>\n",
              "      <td>3.394358</td>\n",
              "      <td>8.603537</td>\n",
              "      <td>4.992962</td>\n",
              "      <td>3.005342</td>\n",
              "      <td>4.086922</td>\n",
              "      <td>3.837000</td>\n",
              "      <td>1698.312003</td>\n",
              "      <td>1259.653794</td>\n",
              "      <td>...</td>\n",
              "      <td>0.629914</td>\n",
              "      <td>0.655855</td>\n",
              "      <td>0.628480</td>\n",
              "      <td>0.642091</td>\n",
              "      <td>0.634493</td>\n",
              "      <td>0.722048</td>\n",
              "      <td>0.358551</td>\n",
              "      <td>0.375612</td>\n",
              "      <td>0.378239</td>\n",
              "      <td>0.361455</td>\n",
              "    </tr>\n",
              "    <tr>\n",
              "      <th>min</th>\n",
              "      <td>186.000000</td>\n",
              "      <td>1.000000</td>\n",
              "      <td>1.000000</td>\n",
              "      <td>1.000000</td>\n",
              "      <td>2005.000000</td>\n",
              "      <td>1.000000</td>\n",
              "      <td>1.000000</td>\n",
              "      <td>1.000000</td>\n",
              "      <td>0.000000</td>\n",
              "      <td>0.000000</td>\n",
              "      <td>...</td>\n",
              "      <td>-4.000000</td>\n",
              "      <td>-4.000000</td>\n",
              "      <td>-4.000000</td>\n",
              "      <td>-4.000000</td>\n",
              "      <td>-4.000000</td>\n",
              "      <td>-4.000000</td>\n",
              "      <td>-4.000000</td>\n",
              "      <td>-4.000000</td>\n",
              "      <td>-4.000000</td>\n",
              "      <td>-4.000000</td>\n",
              "    </tr>\n",
              "    <tr>\n",
              "      <th>25%</th>\n",
              "      <td>2289.000000</td>\n",
              "      <td>2.000000</td>\n",
              "      <td>3.000000</td>\n",
              "      <td>8.000000</td>\n",
              "      <td>2010.000000</td>\n",
              "      <td>1.000000</td>\n",
              "      <td>3.000000</td>\n",
              "      <td>3.000000</td>\n",
              "      <td>1058.000000</td>\n",
              "      <td>0.000000</td>\n",
              "      <td>...</td>\n",
              "      <td>-4.000000</td>\n",
              "      <td>-4.000000</td>\n",
              "      <td>-4.000000</td>\n",
              "      <td>-4.000000</td>\n",
              "      <td>-4.000000</td>\n",
              "      <td>-4.000000</td>\n",
              "      <td>-4.000000</td>\n",
              "      <td>-4.000000</td>\n",
              "      <td>-4.000000</td>\n",
              "      <td>-4.000000</td>\n",
              "    </tr>\n",
              "    <tr>\n",
              "      <th>50%</th>\n",
              "      <td>5310.000000</td>\n",
              "      <td>2.000000</td>\n",
              "      <td>6.000000</td>\n",
              "      <td>15.000000</td>\n",
              "      <td>2014.000000</td>\n",
              "      <td>3.000000</td>\n",
              "      <td>6.000000</td>\n",
              "      <td>5.000000</td>\n",
              "      <td>2061.000000</td>\n",
              "      <td>777.000000</td>\n",
              "      <td>...</td>\n",
              "      <td>-4.000000</td>\n",
              "      <td>-4.000000</td>\n",
              "      <td>-4.000000</td>\n",
              "      <td>-4.000000</td>\n",
              "      <td>-4.000000</td>\n",
              "      <td>-4.000000</td>\n",
              "      <td>-4.000000</td>\n",
              "      <td>-4.000000</td>\n",
              "      <td>-4.000000</td>\n",
              "      <td>-4.000000</td>\n",
              "    </tr>\n",
              "    <tr>\n",
              "      <th>75%</th>\n",
              "      <td>8361.000000</td>\n",
              "      <td>3.000000</td>\n",
              "      <td>9.000000</td>\n",
              "      <td>23.000000</td>\n",
              "      <td>2018.000000</td>\n",
              "      <td>5.000000</td>\n",
              "      <td>9.000000</td>\n",
              "      <td>8.000000</td>\n",
              "      <td>3626.000000</td>\n",
              "      <td>1823.000000</td>\n",
              "      <td>...</td>\n",
              "      <td>-4.000000</td>\n",
              "      <td>-4.000000</td>\n",
              "      <td>-4.000000</td>\n",
              "      <td>-4.000000</td>\n",
              "      <td>-4.000000</td>\n",
              "      <td>-4.000000</td>\n",
              "      <td>-4.000000</td>\n",
              "      <td>-4.000000</td>\n",
              "      <td>-4.000000</td>\n",
              "      <td>-4.000000</td>\n",
              "    </tr>\n",
              "    <tr>\n",
              "      <th>max</th>\n",
              "      <td>9661.000000</td>\n",
              "      <td>3.200000</td>\n",
              "      <td>12.000000</td>\n",
              "      <td>31.000000</td>\n",
              "      <td>2023.000000</td>\n",
              "      <td>18.000000</td>\n",
              "      <td>18.000000</td>\n",
              "      <td>18.000000</td>\n",
              "      <td>6524.000000</td>\n",
              "      <td>6524.000000</td>\n",
              "      <td>...</td>\n",
              "      <td>9.000000</td>\n",
              "      <td>9.000000</td>\n",
              "      <td>9.000000</td>\n",
              "      <td>9.000000</td>\n",
              "      <td>9.000000</td>\n",
              "      <td>9.000000</td>\n",
              "      <td>9.000000</td>\n",
              "      <td>9.000000</td>\n",
              "      <td>9.000000</td>\n",
              "      <td>9.000000</td>\n",
              "    </tr>\n",
              "  </tbody>\n",
              "</table>\n",
              "<p>8 rows × 882 columns</p>\n",
              "</div>\n",
              "    <div class=\"colab-df-buttons\">\n",
              "\n",
              "  <div class=\"colab-df-container\">\n",
              "    <button class=\"colab-df-convert\" onclick=\"convertToInteractive('df-8e9d1073-889a-439e-bd96-4c70cf3a53e5')\"\n",
              "            title=\"Convert this dataframe to an interactive table.\"\n",
              "            style=\"display:none;\">\n",
              "\n",
              "  <svg xmlns=\"http://www.w3.org/2000/svg\" height=\"24px\" viewBox=\"0 -960 960 960\">\n",
              "    <path d=\"M120-120v-720h720v720H120Zm60-500h600v-160H180v160Zm220 220h160v-160H400v160Zm0 220h160v-160H400v160ZM180-400h160v-160H180v160Zm440 0h160v-160H620v160ZM180-180h160v-160H180v160Zm440 0h160v-160H620v160Z\"/>\n",
              "  </svg>\n",
              "    </button>\n",
              "\n",
              "  <style>\n",
              "    .colab-df-container {\n",
              "      display:flex;\n",
              "      gap: 12px;\n",
              "    }\n",
              "\n",
              "    .colab-df-convert {\n",
              "      background-color: #E8F0FE;\n",
              "      border: none;\n",
              "      border-radius: 50%;\n",
              "      cursor: pointer;\n",
              "      display: none;\n",
              "      fill: #1967D2;\n",
              "      height: 32px;\n",
              "      padding: 0 0 0 0;\n",
              "      width: 32px;\n",
              "    }\n",
              "\n",
              "    .colab-df-convert:hover {\n",
              "      background-color: #E2EBFA;\n",
              "      box-shadow: 0px 1px 2px rgba(60, 64, 67, 0.3), 0px 1px 3px 1px rgba(60, 64, 67, 0.15);\n",
              "      fill: #174EA6;\n",
              "    }\n",
              "\n",
              "    .colab-df-buttons div {\n",
              "      margin-bottom: 4px;\n",
              "    }\n",
              "\n",
              "    [theme=dark] .colab-df-convert {\n",
              "      background-color: #3B4455;\n",
              "      fill: #D2E3FC;\n",
              "    }\n",
              "\n",
              "    [theme=dark] .colab-df-convert:hover {\n",
              "      background-color: #434B5C;\n",
              "      box-shadow: 0px 1px 3px 1px rgba(0, 0, 0, 0.15);\n",
              "      filter: drop-shadow(0px 1px 2px rgba(0, 0, 0, 0.3));\n",
              "      fill: #FFFFFF;\n",
              "    }\n",
              "  </style>\n",
              "\n",
              "    <script>\n",
              "      const buttonEl =\n",
              "        document.querySelector('#df-8e9d1073-889a-439e-bd96-4c70cf3a53e5 button.colab-df-convert');\n",
              "      buttonEl.style.display =\n",
              "        google.colab.kernel.accessAllowed ? 'block' : 'none';\n",
              "\n",
              "      async function convertToInteractive(key) {\n",
              "        const element = document.querySelector('#df-8e9d1073-889a-439e-bd96-4c70cf3a53e5');\n",
              "        const dataTable =\n",
              "          await google.colab.kernel.invokeFunction('convertToInteractive',\n",
              "                                                    [key], {});\n",
              "        if (!dataTable) return;\n",
              "\n",
              "        const docLinkHtml = 'Like what you see? Visit the ' +\n",
              "          '<a target=\"_blank\" href=https://colab.research.google.com/notebooks/data_table.ipynb>data table notebook</a>'\n",
              "          + ' to learn more about interactive tables.';\n",
              "        element.innerHTML = '';\n",
              "        dataTable['output_type'] = 'display_data';\n",
              "        await google.colab.output.renderOutput(dataTable, element);\n",
              "        const docLink = document.createElement('div');\n",
              "        docLink.innerHTML = docLinkHtml;\n",
              "        element.appendChild(docLink);\n",
              "      }\n",
              "    </script>\n",
              "  </div>\n",
              "\n",
              "\n",
              "<div id=\"df-c2d5e931-1ea5-4d5b-95f9-c93278c2a2f9\">\n",
              "  <button class=\"colab-df-quickchart\" onclick=\"quickchart('df-c2d5e931-1ea5-4d5b-95f9-c93278c2a2f9')\"\n",
              "            title=\"Suggest charts\"\n",
              "            style=\"display:none;\">\n",
              "\n",
              "<svg xmlns=\"http://www.w3.org/2000/svg\" height=\"24px\"viewBox=\"0 0 24 24\"\n",
              "     width=\"24px\">\n",
              "    <g>\n",
              "        <path d=\"M19 3H5c-1.1 0-2 .9-2 2v14c0 1.1.9 2 2 2h14c1.1 0 2-.9 2-2V5c0-1.1-.9-2-2-2zM9 17H7v-7h2v7zm4 0h-2V7h2v10zm4 0h-2v-4h2v4z\"/>\n",
              "    </g>\n",
              "</svg>\n",
              "  </button>\n",
              "\n",
              "<style>\n",
              "  .colab-df-quickchart {\n",
              "      --bg-color: #E8F0FE;\n",
              "      --fill-color: #1967D2;\n",
              "      --hover-bg-color: #E2EBFA;\n",
              "      --hover-fill-color: #174EA6;\n",
              "      --disabled-fill-color: #AAA;\n",
              "      --disabled-bg-color: #DDD;\n",
              "  }\n",
              "\n",
              "  [theme=dark] .colab-df-quickchart {\n",
              "      --bg-color: #3B4455;\n",
              "      --fill-color: #D2E3FC;\n",
              "      --hover-bg-color: #434B5C;\n",
              "      --hover-fill-color: #FFFFFF;\n",
              "      --disabled-bg-color: #3B4455;\n",
              "      --disabled-fill-color: #666;\n",
              "  }\n",
              "\n",
              "  .colab-df-quickchart {\n",
              "    background-color: var(--bg-color);\n",
              "    border: none;\n",
              "    border-radius: 50%;\n",
              "    cursor: pointer;\n",
              "    display: none;\n",
              "    fill: var(--fill-color);\n",
              "    height: 32px;\n",
              "    padding: 0;\n",
              "    width: 32px;\n",
              "  }\n",
              "\n",
              "  .colab-df-quickchart:hover {\n",
              "    background-color: var(--hover-bg-color);\n",
              "    box-shadow: 0 1px 2px rgba(60, 64, 67, 0.3), 0 1px 3px 1px rgba(60, 64, 67, 0.15);\n",
              "    fill: var(--button-hover-fill-color);\n",
              "  }\n",
              "\n",
              "  .colab-df-quickchart-complete:disabled,\n",
              "  .colab-df-quickchart-complete:disabled:hover {\n",
              "    background-color: var(--disabled-bg-color);\n",
              "    fill: var(--disabled-fill-color);\n",
              "    box-shadow: none;\n",
              "  }\n",
              "\n",
              "  .colab-df-spinner {\n",
              "    border: 2px solid var(--fill-color);\n",
              "    border-color: transparent;\n",
              "    border-bottom-color: var(--fill-color);\n",
              "    animation:\n",
              "      spin 1s steps(1) infinite;\n",
              "  }\n",
              "\n",
              "  @keyframes spin {\n",
              "    0% {\n",
              "      border-color: transparent;\n",
              "      border-bottom-color: var(--fill-color);\n",
              "      border-left-color: var(--fill-color);\n",
              "    }\n",
              "    20% {\n",
              "      border-color: transparent;\n",
              "      border-left-color: var(--fill-color);\n",
              "      border-top-color: var(--fill-color);\n",
              "    }\n",
              "    30% {\n",
              "      border-color: transparent;\n",
              "      border-left-color: var(--fill-color);\n",
              "      border-top-color: var(--fill-color);\n",
              "      border-right-color: var(--fill-color);\n",
              "    }\n",
              "    40% {\n",
              "      border-color: transparent;\n",
              "      border-right-color: var(--fill-color);\n",
              "      border-top-color: var(--fill-color);\n",
              "    }\n",
              "    60% {\n",
              "      border-color: transparent;\n",
              "      border-right-color: var(--fill-color);\n",
              "    }\n",
              "    80% {\n",
              "      border-color: transparent;\n",
              "      border-right-color: var(--fill-color);\n",
              "      border-bottom-color: var(--fill-color);\n",
              "    }\n",
              "    90% {\n",
              "      border-color: transparent;\n",
              "      border-bottom-color: var(--fill-color);\n",
              "    }\n",
              "  }\n",
              "</style>\n",
              "\n",
              "  <script>\n",
              "    async function quickchart(key) {\n",
              "      const quickchartButtonEl =\n",
              "        document.querySelector('#' + key + ' button');\n",
              "      quickchartButtonEl.disabled = true;  // To prevent multiple clicks.\n",
              "      quickchartButtonEl.classList.add('colab-df-spinner');\n",
              "      try {\n",
              "        const charts = await google.colab.kernel.invokeFunction(\n",
              "            'suggestCharts', [key], {});\n",
              "      } catch (error) {\n",
              "        console.error('Error during call to suggestCharts:', error);\n",
              "      }\n",
              "      quickchartButtonEl.classList.remove('colab-df-spinner');\n",
              "      quickchartButtonEl.classList.add('colab-df-quickchart-complete');\n",
              "    }\n",
              "    (() => {\n",
              "      let quickchartButtonEl =\n",
              "        document.querySelector('#df-c2d5e931-1ea5-4d5b-95f9-c93278c2a2f9 button');\n",
              "      quickchartButtonEl.style.display =\n",
              "        google.colab.kernel.accessAllowed ? 'block' : 'none';\n",
              "    })();\n",
              "  </script>\n",
              "</div>\n",
              "\n",
              "    </div>\n",
              "  </div>\n"
            ],
            "application/vnd.google.colaboratory.intrinsic+json": {
              "type": "dataframe"
            }
          },
          "metadata": {},
          "execution_count": 7
        }
      ]
    },
    {
      "cell_type": "code",
      "source": [
        "df.isnull().sum()"
      ],
      "metadata": {
        "colab": {
          "base_uri": "https://localhost:8080/",
          "height": 458
        },
        "id": "vznSPeFjheXd",
        "outputId": "122c37ec-f834-4780-fe76-de78c0fdf27b"
      },
      "execution_count": 8,
      "outputs": [
        {
          "output_type": "execute_result",
          "data": {
            "text/plain": [
              "NACCID      0\n",
              "NACCADC     0\n",
              "PACKET      0\n",
              "FORMVER     0\n",
              "VISITMO     0\n",
              "           ..\n",
              "NPATGFRN    0\n",
              "NPATGFR1    0\n",
              "NPATGFR2    0\n",
              "NPATGFR3    0\n",
              "NPATGFR4    0\n",
              "Length: 1024, dtype: int64"
            ],
            "text/html": [
              "<div>\n",
              "<style scoped>\n",
              "    .dataframe tbody tr th:only-of-type {\n",
              "        vertical-align: middle;\n",
              "    }\n",
              "\n",
              "    .dataframe tbody tr th {\n",
              "        vertical-align: top;\n",
              "    }\n",
              "\n",
              "    .dataframe thead th {\n",
              "        text-align: right;\n",
              "    }\n",
              "</style>\n",
              "<table border=\"1\" class=\"dataframe\">\n",
              "  <thead>\n",
              "    <tr style=\"text-align: right;\">\n",
              "      <th></th>\n",
              "      <th>0</th>\n",
              "    </tr>\n",
              "  </thead>\n",
              "  <tbody>\n",
              "    <tr>\n",
              "      <th>NACCID</th>\n",
              "      <td>0</td>\n",
              "    </tr>\n",
              "    <tr>\n",
              "      <th>NACCADC</th>\n",
              "      <td>0</td>\n",
              "    </tr>\n",
              "    <tr>\n",
              "      <th>PACKET</th>\n",
              "      <td>0</td>\n",
              "    </tr>\n",
              "    <tr>\n",
              "      <th>FORMVER</th>\n",
              "      <td>0</td>\n",
              "    </tr>\n",
              "    <tr>\n",
              "      <th>VISITMO</th>\n",
              "      <td>0</td>\n",
              "    </tr>\n",
              "    <tr>\n",
              "      <th>...</th>\n",
              "      <td>...</td>\n",
              "    </tr>\n",
              "    <tr>\n",
              "      <th>NPATGFRN</th>\n",
              "      <td>0</td>\n",
              "    </tr>\n",
              "    <tr>\n",
              "      <th>NPATGFR1</th>\n",
              "      <td>0</td>\n",
              "    </tr>\n",
              "    <tr>\n",
              "      <th>NPATGFR2</th>\n",
              "      <td>0</td>\n",
              "    </tr>\n",
              "    <tr>\n",
              "      <th>NPATGFR3</th>\n",
              "      <td>0</td>\n",
              "    </tr>\n",
              "    <tr>\n",
              "      <th>NPATGFR4</th>\n",
              "      <td>0</td>\n",
              "    </tr>\n",
              "  </tbody>\n",
              "</table>\n",
              "<p>1024 rows × 1 columns</p>\n",
              "</div><br><label><b>dtype:</b> int64</label>"
            ]
          },
          "metadata": {},
          "execution_count": 8
        }
      ]
    },
    {
      "cell_type": "code",
      "source": [
        "total_null = f'{df.isnull().sum().sum():,}'\n",
        "total_null"
      ],
      "metadata": {
        "colab": {
          "base_uri": "https://localhost:8080/",
          "height": 36
        },
        "id": "OorXr4JWUgTf",
        "outputId": "0486a5e5-311a-4a71-aa35-a3bec9d0d81e"
      },
      "execution_count": 9,
      "outputs": [
        {
          "output_type": "execute_result",
          "data": {
            "text/plain": [
              "'23,392,240'"
            ],
            "application/vnd.google.colaboratory.intrinsic+json": {
              "type": "string"
            }
          },
          "metadata": {},
          "execution_count": 9
        }
      ]
    },
    {
      "cell_type": "markdown",
      "source": [
        "#**Functions for Visualisation**"
      ],
      "metadata": {
        "id": "YfSjSORWkWED"
      }
    },
    {
      "cell_type": "code",
      "source": [
        "def plot_bar_chart(df, column, title=None, xlabel=None, ylabel=None, hue=None,\n",
        "                   palette=None, custom_labels=None, show_legend=True, bar_width=0.6):\n",
        "    \"\"\"\n",
        "    Plots a bar chart for a specified column in the DataFrame.\n",
        "\n",
        "    Parameters:\n",
        "    - df: DataFrame\n",
        "    - column: str, column name for the bar chart\n",
        "    - title: str, title of the plot (optional)\n",
        "    - xlabel: str, label for the x-axis (optional)\n",
        "    - ylabel: str, label for the y-axis (optional)\n",
        "    - hue: str, column name for grouping (optional)\n",
        "    - palette: str/list, seaborn color palette for bars (optional)\n",
        "    - custom_labels: dict, custom labels for specific values in the column (optional)\n",
        "    - show_legend: bool, whether to show the legend (default: True)\n",
        "    - bar_width: float, width of the bars (default: 0.6)\n",
        "\n",
        "    Returns:\n",
        "    - None\n",
        "    \"\"\"\n",
        "    if column not in df.columns:\n",
        "        raise ValueError(f\"Column '{column}' not found in DataFrame.\")\n",
        "\n",
        "    if df[column].isnull().all():\n",
        "        raise ValueError(f\"Column '{column}' has all missing values.\")\n",
        "\n",
        "    plt.figure(figsize=(10, 6))\n",
        "\n",
        "    if palette is None:\n",
        "        palette = 'Set2'  # Default seaborn color palette\n",
        "\n",
        "    # Convert numeric columns to categorical for correct bar positioning\n",
        "    if df[column].dtype.kind in 'iufc':  # Integer, unsigned int, float, complex\n",
        "        df[column] = df[column].astype(str)  # Convert numeric categories to string\n",
        "\n",
        "    # Sort unique values for consistent order\n",
        "    unique_values = sorted(df[column].dropna().unique())\n",
        "\n",
        "    # Plot bar chart with adjustable bar width and edge color for clarity\n",
        "    ax = sns.countplot(x=column, data=df, hue=hue, palette=palette, width=bar_width, edgecolor='black')\n",
        "\n",
        "    # Set title and labels\n",
        "    plt.title(title if title else f'Bar Chart for {column}', fontsize=14, fontweight='bold')\n",
        "    plt.xlabel(xlabel if xlabel else column, fontsize=12)\n",
        "    plt.ylabel(ylabel if ylabel else 'Count', fontsize=12)\n",
        "\n",
        "    # Custom labels for x-axis (use provided labels or default)\n",
        "    if custom_labels:\n",
        "        plt.xticks(ticks=range(len(unique_values)), labels=[custom_labels.get(val, val) for val in unique_values])\n",
        "\n",
        "    # Customize legend labels if needed\n",
        "    if show_legend and hue:\n",
        "        handles, labels = ax.get_legend_handles_labels()\n",
        "        if custom_labels:\n",
        "            labels = [f\"{lbl} ({custom_labels.get(lbl, lbl)})\" for lbl in labels]\n",
        "        ax.legend(handles, labels, title=hue, fontsize=10)\n",
        "\n",
        "    plt.xticks(rotation=30)  # Rotate labels if needed\n",
        "    plt.grid(axis='y', linestyle='--', alpha=0.7)  # Add grid lines for better readability\n",
        "    plt.show()"
      ],
      "metadata": {
        "id": "GhegM0ptkdKp"
      },
      "execution_count": 10,
      "outputs": []
    },
    {
      "cell_type": "markdown",
      "metadata": {
        "id": "rALryf3nIqj3"
      },
      "source": [
        "#**Data Processing**"
      ]
    },
    {
      "cell_type": "code",
      "execution_count": 11,
      "metadata": {
        "id": "Ynk80a8QHOYa"
      },
      "outputs": [],
      "source": [
        "def preprocess_dataset(df, target_column):\n",
        "    \"\"\"\n",
        "    Preprocessing dataset for the neural network models.\n",
        "\n",
        "    Args:\n",
        "        df: The pandas DataFrame containing the data.\n",
        "        target_column: The name of the target variable.\n",
        "\n",
        "    Returns:\n",
        "        df: The updated DataFrame with preprocessed data.\n",
        "    \"\"\"\n",
        "    # Handle `-4` as missing value\n",
        "    df.replace(-4, np.nan, inplace=True)\n",
        "\n",
        "    # Handle infinite and missing values in numerical columns\n",
        "    numerical_columns = df.select_dtypes(include=['float64', 'int64']).columns\n",
        "    df[numerical_columns] = df[numerical_columns].replace([np.inf, -np.inf], np.nan).fillna(0)\n",
        "\n",
        "    # Identify categorical columns (excluding the target column, unique IDs, and class_description)\n",
        "    categorical_cols = [\n",
        "        col for col in df.select_dtypes(include=['object', 'category']).columns\n",
        "        if col != 'NACCID' and col != target_column and col != 'class_description'\n",
        "    ]\n",
        "\n",
        "    # Handle missing values for categorical columns and encode them\n",
        "    for col in categorical_cols:\n",
        "        df[col] = df[col].fillna('missing')  # Replace NaN with a placeholder\n",
        "        df[col] = LabelEncoder().fit_transform(df[col].astype(str))  # Encode as integers\n",
        "\n",
        "    # Hash the NACCID column and concatenate all changes at once\n",
        "    if 'NACCID' in df.columns:\n",
        "        # Apply hash function and create a new DataFrame for hashed values\n",
        "        hashed_ids = df['NACCID'].apply(lambda x: int(hash(x) % (10**9))).to_frame('hashed_NACCID')\n",
        "        df = pd.concat([df, hashed_ids], axis=1)  # Concatenate the hashed IDs with the original DataFrame\n",
        "        df.drop(columns=['NACCID'], inplace=True)  # Drop the original NACCID column\n",
        "\n",
        "    # Mapping for the target variable\n",
        "    class_mapping = {\n",
        "        1: 0,  # Normal cognition\n",
        "        2: 1,  # Impaired-not-MCI\n",
        "        3: 2,  # MCI\n",
        "        4: 3   # AD\n",
        "    }\n",
        "    class_descriptions = {\n",
        "        0: 'Normal cognition',\n",
        "        1: 'Impaired-not-MCI',\n",
        "        2: 'MCI',\n",
        "        3: 'AD'\n",
        "    }\n",
        "\n",
        "    # Add a column with the original class descriptions\n",
        "    df['class_description'] = df[target_column].map(class_mapping).map(class_descriptions)\n",
        "\n",
        "    # Map the target column to numeric labels\n",
        "    df[target_column] = df[target_column].map(class_mapping)\n",
        "\n",
        "    # Check for unmapped or missing target values\n",
        "    if df[target_column].isnull().any():\n",
        "        raise ValueError(\n",
        "            f\"Target column '{target_column}' contains unmapped or missing values. Ensure all classes are included in the mapping.\"\n",
        "        )\n",
        "\n",
        "    # Confirm that no columns (excluding 'class_description') have 'object' or 'category' dtype remaining\n",
        "    categorical_cols_to_check = [col for col in df.columns if col != 'class_description']\n",
        "    if any(dtype in ['object', 'category'] for dtype in df[categorical_cols_to_check].dtypes.values):\n",
        "        raise ValueError(\"Some categorical columns (excluding 'class_description') are still of object or category dtype. Ensure all are encoded.\")\n",
        "\n",
        "    return df\n",
        "\n",
        "# Apply function\n",
        "df = preprocess_dataset(df, 'NACCUDSD')"
      ]
    },
    {
      "cell_type": "code",
      "execution_count": 12,
      "metadata": {
        "colab": {
          "base_uri": "https://localhost:8080/"
        },
        "id": "w4xwfZbe_9MY",
        "outputId": "a30f1a0c-634c-4a7f-95d4-0a9162a0d543"
      },
      "outputs": [
        {
          "output_type": "stream",
          "name": "stdout",
          "text": [
            "<class 'pandas.core.frame.DataFrame'>\n",
            "RangeIndex: 183097 entries, 0 to 183096\n",
            "Columns: 1025 entries, NACCADC to class_description\n",
            "dtypes: float64(734), int64(290), object(1)\n",
            "memory usage: 1.4+ GB\n"
          ]
        }
      ],
      "source": [
        "df.info()"
      ]
    },
    {
      "cell_type": "code",
      "source": [
        "total_null = f'{df.isnull().sum().sum():,}'\n",
        "total_null"
      ],
      "metadata": {
        "colab": {
          "base_uri": "https://localhost:8080/",
          "height": 36
        },
        "id": "Wnc6jklTXeoO",
        "outputId": "89e31667-2106-4f25-e1ee-baf71a8a5f33"
      },
      "execution_count": 13,
      "outputs": [
        {
          "output_type": "execute_result",
          "data": {
            "text/plain": [
              "'0'"
            ],
            "application/vnd.google.colaboratory.intrinsic+json": {
              "type": "string"
            }
          },
          "metadata": {},
          "execution_count": 13
        }
      ]
    },
    {
      "cell_type": "markdown",
      "metadata": {
        "id": "BTh9glXk1qFh"
      },
      "source": [
        "#**Data analysis and exploration to determine threshold for sequential feature**"
      ]
    },
    {
      "cell_type": "code",
      "execution_count": 14,
      "metadata": {
        "colab": {
          "base_uri": "https://localhost:8080/",
          "height": 623
        },
        "id": "CsKwazel1d-y",
        "outputId": "0bbbb7bf-501e-42c5-a03f-06b8fef4ab68"
      },
      "outputs": [
        {
          "output_type": "display_data",
          "data": {
            "text/plain": [
              "<Figure size 800x600 with 1 Axes>"
            ],
            "image/png": "[encoded data removed]"
          },
          "metadata": {}
        },
        {
          "output_type": "stream",
          "name": "stdout",
          "text": [
            "75th Percentile: 1.1592466131487442\n",
            "90th Percentile: 5.2318335762268005\n",
            "95th Percentile: 18.974289040441004\n"
          ]
        }
      ],
      "source": [
        "import matplotlib.pyplot as plt\n",
        "import numpy as np\n",
        "\n",
        "def analyze_std_distribution(df, participant_id_column, time_column):\n",
        "    \"\"\"\n",
        "    Analyse standard deviation distribution of numeric features across participants.\n",
        "\n",
        "    Args:\n",
        "        df: Input DataFrame.\n",
        "        participant_id_column: Column indicating participant ID.\n",
        "        time_column: Column indicating visit number.\n",
        "\n",
        "    Returns:\n",
        "        std_values: Dictionary of standard deviations for each numeric feature.\n",
        "        numeric_cols: List of numeric columns analyzed.\n",
        "        percentiles: Dictionary containing the 75th, 90th, and 95th percentiles.\n",
        "    \"\"\"\n",
        "    # Sort by participant and time columns\n",
        "    df = df.sort_values(by=[participant_id_column, time_column]).reset_index(drop=True)\n",
        "\n",
        "    # Select numeric columns, excluding participant ID and time columns\n",
        "    numeric_cols = [col for col in df.select_dtypes(include=['float64', 'int64']).columns\n",
        "                    if col not in [participant_id_column, time_column]]\n",
        "\n",
        "    # Group by participant and calculate standard deviations\n",
        "    groups = df.groupby(participant_id_column)\n",
        "    std_values = {col: groups[col].std().mean() for col in numeric_cols}\n",
        "\n",
        "    # Calculate the percentiles for standard deviations\n",
        "    std_list = list(std_values.values())\n",
        "    percentile_75 = np.percentile(std_list, 75)\n",
        "    percentile_90 = np.percentile(std_list, 90)\n",
        "    percentile_95 = np.percentile(std_list, 95)\n",
        "\n",
        "    # Plot histogram of standard deviations\n",
        "    plt.figure(figsize=(8, 6))\n",
        "    plt.hist(std_list, bins=30, color='skyblue', edgecolor='black', alpha=0.7)\n",
        "    plt.title(\"Distribution of Standard Deviations Across Features\", fontsize=14)\n",
        "    plt.xlabel(\"Standard Deviation\", fontsize=12)\n",
        "    plt.ylabel(\"Frequency\", fontsize=12)\n",
        "\n",
        "    # Plot vertical lines for percentiles\n",
        "    plt.axvline(x=percentile_75, color='orange', linestyle='--', label=f'75th Percentile: {percentile_75:.2f}')\n",
        "    plt.axvline(x=percentile_90, color='green', linestyle='--', label=f'90th Percentile: {percentile_90:.2f}')\n",
        "    plt.axvline(x=percentile_95, color='red', linestyle='--', label=f'95th Percentile: {percentile_95:.2f}')\n",
        "\n",
        "    # Add mean line\n",
        "    mean_std = np.mean(std_list)\n",
        "    plt.axvline(x=mean_std, color='blue', linestyle='-', label=f'Mean: {mean_std:.2f}')\n",
        "\n",
        "    # Add legend\n",
        "    plt.legend(loc='upper right')\n",
        "\n",
        "    # Display the plot\n",
        "    plt.show()\n",
        "\n",
        "    # Return the std values, numeric columns, and percentiles\n",
        "    percentiles = {\n",
        "        '75th_percentile': percentile_75,\n",
        "        '90th_percentile': percentile_90,\n",
        "        '95th_percentile': percentile_95\n",
        "    }\n",
        "\n",
        "    return std_values, numeric_cols, percentiles\n",
        "\n",
        "# Function call\n",
        "std_values, numeric_cols, percentiles = analyze_std_distribution(\n",
        "    df,\n",
        "    participant_id_column='hashed_NACCID',\n",
        "    time_column='NACCVNUM'\n",
        ")\n",
        "\n",
        "# Now, you can dynamically access percentiles like this:\n",
        "print(f\"75th Percentile: {percentiles['75th_percentile']}\")\n",
        "print(f\"90th Percentile: {percentiles['90th_percentile']}\")\n",
        "print(f\"95th Percentile: {percentiles['95th_percentile']}\")\n"
      ]
    },
    {
      "cell_type": "code",
      "execution_count": 15,
      "metadata": {
        "id": "4pz0vo6R68lL"
      },
      "outputs": [],
      "source": [
        "# downcasting of data types for memeory efficiency\n",
        "\n",
        "# Identify and downcast suitable columns before preprocessing\n",
        "for column in df.select_dtypes(include=['int64']).columns:\n",
        "    if df[column].max() < np.iinfo(np.int32).max and df[column].min() > np.iinfo(np.int32).min:\n",
        "        df[column] = df[column].astype('int32')\n",
        "    elif df[column].max() < np.iinfo(np.int16).max and df[column].min() > np.iinfo(np.int16).min:\n",
        "        df[column] = df[column].astype('int16')\n",
        "\n",
        "for column in df.select_dtypes(include=['float64']).columns:\n",
        "    df[column] = df[column].astype('float32')\n",
        "\n"
      ]
    },
    {
      "cell_type": "code",
      "execution_count": 16,
      "metadata": {
        "colab": {
          "base_uri": "https://localhost:8080/"
        },
        "id": "SxXXzlK4CgqL",
        "outputId": "9921ffe5-98ca-4e4b-a387-a00714061c45"
      },
      "outputs": [
        {
          "output_type": "stream",
          "name": "stdout",
          "text": [
            "NACCADC       int32\n",
            "PACKET        int32\n",
            "FORMVER     float32\n",
            "VISITMO       int32\n",
            "VISITDAY      int32\n",
            "             ...   \n",
            "NPATGFRN    float32\n",
            "NPATGFR1    float32\n",
            "NPATGFR2    float32\n",
            "NPATGFR3    float32\n",
            "NPATGFR4    float32\n",
            "Length: 1022, dtype: object\n"
          ]
        }
      ],
      "source": [
        "print(df[numeric_cols].dtypes)  # Check before processing"
      ]
    },
    {
      "cell_type": "code",
      "source": [
        "df.info()"
      ],
      "metadata": {
        "colab": {
          "base_uri": "https://localhost:8080/"
        },
        "id": "vk9ejE74XugM",
        "outputId": "ae15e236-ecd2-4ad6-de12-036089c3b20d"
      },
      "execution_count": 17,
      "outputs": [
        {
          "output_type": "stream",
          "name": "stdout",
          "text": [
            "<class 'pandas.core.frame.DataFrame'>\n",
            "RangeIndex: 183097 entries, 0 to 183096\n",
            "Columns: 1025 entries, NACCADC to class_description\n",
            "dtypes: float32(734), int32(290), object(1)\n",
            "memory usage: 716.6+ MB\n"
          ]
        }
      ]
    },
    {
      "cell_type": "markdown",
      "metadata": {
        "id": "5taiaBytxK9D"
      },
      "source": [
        "#**Identify sequential features for LSTM**"
      ]
    },
    {
      "cell_type": "code",
      "execution_count": 18,
      "metadata": {
        "id": "q5rcTIMSBJCy"
      },
      "outputs": [],
      "source": [
        "def identify_sequential_features(\n",
        "    df, df_temp, participant_id_column, time_column, target_column, percentiles\n",
        "):\n",
        "    \"\"\"\n",
        "    Automatically identify sequential features by checking variability across visits.\n",
        "\n",
        "    Args:\n",
        "        df: Input DataFrame.\n",
        "        participant_id_column: Column indicating participant ID.\n",
        "        time_column: Column indicating visit number.\n",
        "        percentiles: Dictionary containing percentiles for variability thresholds (e.g., 90th, 95th).\n",
        "\n",
        "    Returns:\n",
        "        sequential_features: List of identified sequential feature columns.\n",
        "    \"\"\"\n",
        "    # Select numeric columns, excluding participant ID, time column, and target column\n",
        "    numeric_cols = [\n",
        "        col for col in df.select_dtypes(include=['float64', 'int64', 'int32', 'float32']).columns\n",
        "        if col not in [participant_id_column, time_column, target_column, 'class_description']\n",
        "    ]\n",
        "\n",
        "    sequential_features = []\n",
        "\n",
        "    # Extract the dynamic threshold (90th percentile)\n",
        "    threshold = percentiles['90th_percentile']\n",
        "\n",
        "    # Group by participant and calculate variability for each feature\n",
        "    groups = df.groupby(participant_id_column)\n",
        "    for col in numeric_cols:\n",
        "        # Compute standard deviation across visits for each participant\n",
        "        std_per_participant = groups[col].std()\n",
        "\n",
        "        # Check if the feature exceeds the threshold for variability (90th percentile)\n",
        "        if (std_per_participant > threshold).any():\n",
        "            sequential_features.append(col)\n",
        "\n",
        "    # Ensure only numeric features are selected\n",
        "    sequential_features = [\n",
        "        col for col in sequential_features if col in df.select_dtypes(include=['float32', 'float64', 'int32', 'int64']).columns\n",
        "    ]\n",
        "\n",
        "    # Print and return the identified sequential features\n",
        "    print(f\"Identified Sequential Features (Threshold={threshold}): {sequential_features}\")\n",
        "    return sequential_features\n"
      ]
    },
    {
      "cell_type": "code",
      "source": [
        "# create temporarry copy of df to keep excluded column in case it's needed\n",
        "df_temp = df.copy()"
      ],
      "metadata": {
        "id": "KlbCzUJTAae0"
      },
      "execution_count": 19,
      "outputs": []
    },
    {
      "cell_type": "code",
      "execution_count": 20,
      "metadata": {
        "colab": {
          "base_uri": "https://localhost:8080/"
        },
        "id": "92Sfe63OBVm_",
        "outputId": "0bf9929d-f36b-45fb-f160-279c9c49f2be"
      },
      "outputs": [
        {
          "output_type": "stream",
          "name": "stdout",
          "text": [
            "Identified Sequential Features (Threshold=5.2318335762268005): ['NACCADC', 'VISITMO', 'VISITDAY', 'VISITYR', 'NACCDAYS', 'NACCFDYS', 'BIRTHYR', 'MARISTAT', 'NACCLIVS', 'INDEPEND', 'RESIDENC', 'INBIRMO', 'INBIRYR', 'INHISP', 'INHISPOR', 'INHISPOX', 'NACCNINR', 'INRACE', 'INRACEX', 'INRASEC', 'INRASECX', 'INRATER', 'INRATERX', 'INEDUC', 'INRELTOX', 'INKNOWN', 'INVISITS', 'INCALLS', 'DRUG1', 'DRUG2', 'DRUG3', 'DRUG4', 'DRUG5', 'DRUG6', 'DRUG7', 'DRUG8', 'DRUG9', 'DRUG10', 'DRUG11', 'DRUG12', 'DRUG13', 'DRUG14', 'DRUG15', 'DRUG16', 'DRUG17', 'DRUG18', 'DRUG19', 'DRUG20', 'DRUG21', 'DRUG22', 'DRUG23', 'DRUG24', 'DRUG25', 'DRUG26', 'DRUG27', 'DRUG28', 'DRUG29', 'DRUG30', 'DRUG31', 'DRUG32', 'DRUG33', 'DRUG34', 'DRUG35', 'TOBAC30', 'TOBAC100', 'SMOKYRS', 'PACKSPER', 'QUITSMOK', 'ALCOCCAS', 'ALCFREQ', 'CVHATT', 'HATTMULT', 'HATTYEAR', 'CVAFIB', 'CVANGIO', 'CVBYPASS', 'CVPACDEF', 'CVPACE', 'CVCHF', 'CVANGINA', 'CVHVALVE', 'CVOTHR', 'CVOTHRX', 'CBSTROKE', 'STROKMUL', 'CBTIA', 'TIAMULT', 'NACCTIYR', 'PD', 'PDYR', 'PDOTHR', 'PDOTHRYR', 'SEIZURES', 'NACCTBI', 'TBI', 'TBIBRIEF', 'TRAUMBRF', 'TBIEXTEN', 'TRAUMEXT', 'TBIWOLOS', 'TRAUMCHR', 'TBIYEAR', 'NCOTHR', 'NCOTHRX', 'DIABETES', 'DIABTYPE', 'HYPERTEN', 'HYPERCHO', 'B12DEF', 'THYROID', 'ARTHRIT', 'ARTHTYPE', 'ARTHTYPX', 'ARTHUPEX', 'ARTHLOEX', 'ARTHSPIN', 'ARTHUNK', 'INCONTU', 'INCONTF', 'APNEA', 'RBD', 'INSOMN', 'OTHSLEEP', 'OTHSLEEX', 'ALCOHOL', 'ABUSOTHR', 'ABUSX', 'PTSD', 'BIPOLAR', 'SCHIZ', 'DEP2YRS', 'DEPOTHR', 'ANXIETY', 'OCD', 'NPSYDEV', 'PSYCDIS', 'PSYCDISX', 'HEIGHT', 'WEIGHT', 'BPSYS', 'BPDIAS', 'HRATE', 'VISION', 'VISCORR', 'VISWCORR', 'HEARING', 'HEARAID', 'HEARWAID', 'HACHIN', 'CVDCOG', 'STROKCOG', 'CVDIMAG', 'CVDIMAG1', 'CVDIMAG2', 'CVDIMAG3', 'CVDIMAG4', 'CVDIMAGX', 'PDNORMAL', 'SPEECH', 'SPEECHX', 'FACEXP', 'FACEXPX', 'TRESTFAC', 'TRESTFAX', 'TRESTRHD', 'TRESTRHX', 'TRESTLHD', 'TRESTLHX', 'TRESTRFT', 'TRESTRFX', 'TRESTLFT', 'TRESTLFX', 'TRACTRHD', 'TRACTRHX', 'TRACTLHD', 'TRACTLHX', 'RIGDNECK', 'RIGDNEX', 'RIGDUPRT', 'RIGDUPRX', 'RIGDUPLF', 'RIGDUPLX', 'RIGDLORT', 'RIGDLORX', 'RIGDLOLF', 'RIGDLOLX', 'TAPSRT', 'TAPSRTX', 'TAPSLF', 'TAPSLFX', 'HANDMOVR', 'HANDMVRX', 'HANDMOVL', 'HANDMVLX', 'HANDALTR', 'HANDATRX', 'HANDALTL', 'HANDATLX', 'LEGRT', 'LEGRTX', 'LEGLF', 'LEGLFX', 'ARISING', 'ARISINGX', 'POSTURE', 'POSTUREX', 'GAIT', 'GAITX', 'POSSTAB', 'POSSTABX', 'BRADYKIN', 'BRADYKIX', 'MEMORY', 'ORIENT', 'JUDGMENT', 'COMMUN', 'HOMEHOBB', 'PERSCARE', 'CDRSUM', 'CDRGLOB', 'COMPORT', 'CDRLANG', 'NPIQINFX', 'DEL', 'DELSEV', 'HALL', 'HALLSEV', 'AGIT', 'AGITSEV', 'DEPD', 'DEPDSEV', 'ANX', 'ANXSEV', 'ELAT', 'ELATSEV', 'APA', 'APASEV', 'DISN', 'DISNSEV', 'IRR', 'IRRSEV', 'MOT', 'MOTSEV', 'NITE', 'NITESEV', 'APP', 'APPSEV', 'SATIS', 'DROPACT', 'EMPTY', 'BORED', 'SPIRITS', 'AFRAID', 'HAPPY', 'HELPLESS', 'STAYHOME', 'MEMPROB', 'WONDRFUL', 'WRTHLESS', 'ENERGY', 'HOPELESS', 'BETTER', 'NACCGDS', 'BILLS', 'TAXES', 'SHOPPING', 'GAMES', 'STOVE', 'MEALPREP', 'EVENTS', 'PAYATTN', 'REMDATES', 'TRAVEL', 'NACCNREX', 'FOCLDEF', 'GAITDIS', 'EYEMOVE', 'RESTTRL', 'RESTTRR', 'SLOWINGL', 'SLOWINGR', 'RIGIDL', 'RIGIDR', 'BRADY', 'PARKGAIT', 'POSTINST', 'CORTDEF', 'SIVDFIND', 'CVDMOTL', 'CVDMOTR', 'CORTVISL', 'CORTVISR', 'SOMATL', 'SOMATR', 'EYEPSP', 'DYSPSP', 'AXIALPSP', 'GAITPSP', 'APRAXSP', 'APRAXL', 'APRAXR', 'CORTSENL', 'CORTSENR', 'ATAXL', 'ATAXR', 'ALIENLML', 'ALIENLMR', 'DYSTONL', 'DYSTONR', 'MYOCLLT', 'MYOCLRT', 'OTHNEURX', 'DECSUB', 'DECIN', 'COGMEM', 'COGORI', 'COGJUDG', 'COGLANG', 'COGVIS', 'COGATTN', 'COGFLUC', 'COGFLAGO', 'COGOTHR', 'COGOTHRX', 'NACCCOGF', 'NACCCGFX', 'COGMODE', 'COGMODEX', 'DECAGE', 'BEAPATHY', 'BEDEP', 'BEVHALL', 'BEVWELL', 'BEVHAGO', 'BEAHALL', 'BEDEL', 'BEDISIN', 'BEIRRIT', 'BEAGIT', 'BEPERCH', 'BEREM', 'BEREMAGO', 'BEANX', 'BEOTHRX', 'NACCBEHF', 'NACCBEFX', 'BEMODE', 'BEMODEX', 'BEAGE', 'MOGAIT', 'MOFALLS', 'MOTREM', 'MOSLOW', 'NACCMOTF', 'MOMODE', 'MOMODEX', 'MOMOPARK', 'PARKAGE', 'MOMOALS', 'ALSAGE', 'MOAGE', 'COURSE', 'FRSTCHG', 'MMSELANX', 'MMSEORDA', 'MMSEORLO', 'PENTAGON', 'NACCMMSE', 'NPSYLANX', 'LOGIMO', 'LOGIDAY', 'LOGIYR', 'LOGIPREV', 'LOGIMEM', 'MEMUNITS', 'MEMTIME', 'UDSBENTC', 'UDSBENTD', 'UDSBENRS', 'DIGIF', 'DIGIFLEN', 'DIGIB', 'DIGIBLEN', 'ANIMALS', 'VEG', 'TRAILA', 'TRAILARR', 'TRAILALI', 'TRAILB', 'TRAILBRR', 'TRAILBLI', 'WAIS', 'BOSTON', 'UDSVERFC', 'UDSVERFN', 'UDSVERNF', 'UDSVERLC', 'UDSVERLR', 'UDSVERLN', 'UDSVERTN', 'UDSVERTE', 'UDSVERTI', 'MOCAREAS', 'MOCALANX', 'MOCATOTS', 'MOCATRAI', 'MOCACUBE', 'MOCACLOC', 'MOCACLON', 'MOCACLOH', 'MOCANAMI', 'MOCAREGI', 'MOCADIGI', 'MOCALETT', 'MOCASER7', 'MOCAREPE', 'MOCAFLUE', 'MOCAABST', 'MOCARECN', 'MOCARECC', 'MOCARECR', 'MOCAORDT', 'MOCAORMO', 'MOCAORYR', 'MOCAORDY', 'MOCAORPL', 'MOCAORCT', 'NACCMOCA', 'CRAFTVRS', 'CRAFTURS', 'DIGFORCT', 'DIGFORSL', 'DIGBACCT', 'DIGBACLS', 'CRAFTDVR', 'CRAFTDRE', 'CRAFTDTI', 'MINTTOTS', 'MINTTOTW', 'MINTSCNG', 'MINTSCNC', 'MINTPCNG', 'MINTPCNC', 'MOCBTOTS', 'NACCMOCB', 'REY1REC', 'REY1INT', 'REY2REC', 'REY2INT', 'REY3REC', 'REY3INT', 'REY4REC', 'REY4INT', 'REY5REC', 'REY5INT', 'REY6REC', 'REY6INT', 'OTRAILA', 'OTRLARR', 'OTRLALI', 'OTRAILB', 'OTRLBRR', 'OTRLBLI', 'REYDREC', 'REYDINT', 'REYTCOR', 'REYFPOS', 'VNTTOTW', 'VNTPCNC', 'RESPOTHX', 'AMNDEM', 'PCA', 'NACCPPA', 'NACCPPAG', 'NACCPPME', 'NACCBVFT', 'NACCLBDS', 'NAMNDEM', 'NACCMCIL', 'NACCMCIA', 'NACCMCIE', 'NACCMCIV', 'AMYLPET', 'AMYLCSF', 'FDGAD', 'HIPPATR', 'TAUPETAD', 'CSFTAU', 'FDGFTLD', 'TPETFTLD', 'MRFTLD', 'DATSCAN', 'OTHBIOMX', 'IMAGLINF', 'IMAGLAC', 'IMAGMACH', 'IMAGMICH', 'IMAGMWMH', 'IMAGEWMH', 'OTHMUT', 'OTHMUTX', 'NACCALZD', 'PROBAD', 'PROBADIF', 'POSSAD', 'POSSADIF', 'NACCLBDE', 'MSAIF', 'FTLDMOIF', 'FTLDNOIF', 'FTD', 'FTDIF', 'PPAPH', 'PPAPHIF', 'FTLDSUBT', 'FTLDSUBX', 'CVDIF', 'STROKDEC', 'STKIMAG', 'INFNETW', 'INFWMH', 'VASC', 'VASCIF', 'VASCPS', 'VASCPSIF', 'STROKIF', 'ESSTREIF', 'BRNINCTE', 'EPILEPIF', 'NEOPSTAT', 'HIVIF', 'OTHCOGIF', 'OTHCOGX', 'DEPTREAT', 'BIPOLDIF', 'SCHIZOIF', 'ANXIETIF', 'DELIRIF', 'PTSDDXIF', 'OTHPSYX', 'ALCDEM', 'ALCABUSE', 'IMPSUBIF', 'DEMUN', 'DEMUNIF', 'COGOTHX', 'COGOTH2F', 'COGOTH2X', 'COGOTH3F', 'COGOTH3X', 'NACCETPR', 'CANCER', 'CANCSITE', 'DIABET', 'MYOINF', 'CONGHRT', 'AFIBRILL', 'HYPERT', 'ANGINA', 'HYPCHOL', 'VB12DEF', 'THYDIS', 'ARTH', 'ARTYPE', 'ARTYPEX', 'ARTUPEX', 'ARTLOEX', 'ARTSPIN', 'ARTUNKN', 'URINEINC', 'BOWLINC', 'SLEEPAP', 'REMDIS', 'HYPOSOM', 'SLEEPOTH', 'SLEEPOTX', 'ANGIOCP', 'ANGIOPCI', 'PACEMAKE', 'HVALVE', 'ANTIENC', 'ANTIENCX', 'OTHCONDX', 'NACCAGEB', 'NACCAGE', 'NACCAMD', 'NACCBMI']\n"
          ]
        }
      ],
      "source": [
        "# Calling the function\n",
        "sequential_features = identify_sequential_features(\n",
        "    df=df,\n",
        "    df_temp = df_temp,\n",
        "    participant_id_column='hashed_NACCID',  # Participant ID column\n",
        "    time_column='NACCVNUM',                 # time column\n",
        "    target_column='NACCUDSD',               # Target column\n",
        "    percentiles=percentiles,                # Set an appropriate threshold\n",
        ")"
      ]
    },
    {
      "cell_type": "code",
      "execution_count": 21,
      "metadata": {
        "colab": {
          "base_uri": "https://localhost:8080/"
        },
        "id": "jXVHo3nwCvYR",
        "outputId": "e994f948-2bd6-4fdf-df00-4a7d7b54c5e3"
      },
      "outputs": [
        {
          "output_type": "stream",
          "name": "stdout",
          "text": [
            "['NACCADC', 'VISITMO', 'VISITDAY', 'VISITYR', 'NACCDAYS', 'NACCFDYS', 'BIRTHYR', 'MARISTAT', 'NACCLIVS', 'INDEPEND', 'RESIDENC', 'INBIRMO', 'INBIRYR', 'INHISP', 'INHISPOR', 'INHISPOX', 'NACCNINR', 'INRACE', 'INRACEX', 'INRASEC', 'INRASECX', 'INRATER', 'INRATERX', 'INEDUC', 'INRELTOX', 'INKNOWN', 'INVISITS', 'INCALLS', 'DRUG1', 'DRUG2', 'DRUG3', 'DRUG4', 'DRUG5', 'DRUG6', 'DRUG7', 'DRUG8', 'DRUG9', 'DRUG10', 'DRUG11', 'DRUG12', 'DRUG13', 'DRUG14', 'DRUG15', 'DRUG16', 'DRUG17', 'DRUG18', 'DRUG19', 'DRUG20', 'DRUG21', 'DRUG22', 'DRUG23', 'DRUG24', 'DRUG25', 'DRUG26', 'DRUG27', 'DRUG28', 'DRUG29', 'DRUG30', 'DRUG31', 'DRUG32', 'DRUG33', 'DRUG34', 'DRUG35', 'TOBAC30', 'TOBAC100', 'SMOKYRS', 'PACKSPER', 'QUITSMOK', 'ALCOCCAS', 'ALCFREQ', 'CVHATT', 'HATTMULT', 'HATTYEAR', 'CVAFIB', 'CVANGIO', 'CVBYPASS', 'CVPACDEF', 'CVPACE', 'CVCHF', 'CVANGINA', 'CVHVALVE', 'CVOTHR', 'CVOTHRX', 'CBSTROKE', 'STROKMUL', 'CBTIA', 'TIAMULT', 'NACCTIYR', 'PD', 'PDYR', 'PDOTHR', 'PDOTHRYR', 'SEIZURES', 'NACCTBI', 'TBI', 'TBIBRIEF', 'TRAUMBRF', 'TBIEXTEN', 'TRAUMEXT', 'TBIWOLOS', 'TRAUMCHR', 'TBIYEAR', 'NCOTHR', 'NCOTHRX', 'DIABETES', 'DIABTYPE', 'HYPERTEN', 'HYPERCHO', 'B12DEF', 'THYROID', 'ARTHRIT', 'ARTHTYPE', 'ARTHTYPX', 'ARTHUPEX', 'ARTHLOEX', 'ARTHSPIN', 'ARTHUNK', 'INCONTU', 'INCONTF', 'APNEA', 'RBD', 'INSOMN', 'OTHSLEEP', 'OTHSLEEX', 'ALCOHOL', 'ABUSOTHR', 'ABUSX', 'PTSD', 'BIPOLAR', 'SCHIZ', 'DEP2YRS', 'DEPOTHR', 'ANXIETY', 'OCD', 'NPSYDEV', 'PSYCDIS', 'PSYCDISX', 'HEIGHT', 'WEIGHT', 'BPSYS', 'BPDIAS', 'HRATE', 'VISION', 'VISCORR', 'VISWCORR', 'HEARING', 'HEARAID', 'HEARWAID', 'HACHIN', 'CVDCOG', 'STROKCOG', 'CVDIMAG', 'CVDIMAG1', 'CVDIMAG2', 'CVDIMAG3', 'CVDIMAG4', 'CVDIMAGX', 'PDNORMAL', 'SPEECH', 'SPEECHX', 'FACEXP', 'FACEXPX', 'TRESTFAC', 'TRESTFAX', 'TRESTRHD', 'TRESTRHX', 'TRESTLHD', 'TRESTLHX', 'TRESTRFT', 'TRESTRFX', 'TRESTLFT', 'TRESTLFX', 'TRACTRHD', 'TRACTRHX', 'TRACTLHD', 'TRACTLHX', 'RIGDNECK', 'RIGDNEX', 'RIGDUPRT', 'RIGDUPRX', 'RIGDUPLF', 'RIGDUPLX', 'RIGDLORT', 'RIGDLORX', 'RIGDLOLF', 'RIGDLOLX', 'TAPSRT', 'TAPSRTX', 'TAPSLF', 'TAPSLFX', 'HANDMOVR', 'HANDMVRX', 'HANDMOVL', 'HANDMVLX', 'HANDALTR', 'HANDATRX', 'HANDALTL', 'HANDATLX', 'LEGRT', 'LEGRTX', 'LEGLF', 'LEGLFX', 'ARISING', 'ARISINGX', 'POSTURE', 'POSTUREX', 'GAIT', 'GAITX', 'POSSTAB', 'POSSTABX', 'BRADYKIN', 'BRADYKIX', 'MEMORY', 'ORIENT', 'JUDGMENT', 'COMMUN', 'HOMEHOBB', 'PERSCARE', 'CDRSUM', 'CDRGLOB', 'COMPORT', 'CDRLANG', 'NPIQINFX', 'DEL', 'DELSEV', 'HALL', 'HALLSEV', 'AGIT', 'AGITSEV', 'DEPD', 'DEPDSEV', 'ANX', 'ANXSEV', 'ELAT', 'ELATSEV', 'APA', 'APASEV', 'DISN', 'DISNSEV', 'IRR', 'IRRSEV', 'MOT', 'MOTSEV', 'NITE', 'NITESEV', 'APP', 'APPSEV', 'SATIS', 'DROPACT', 'EMPTY', 'BORED', 'SPIRITS', 'AFRAID', 'HAPPY', 'HELPLESS', 'STAYHOME', 'MEMPROB', 'WONDRFUL', 'WRTHLESS', 'ENERGY', 'HOPELESS', 'BETTER', 'NACCGDS', 'BILLS', 'TAXES', 'SHOPPING', 'GAMES', 'STOVE', 'MEALPREP', 'EVENTS', 'PAYATTN', 'REMDATES', 'TRAVEL', 'NACCNREX', 'FOCLDEF', 'GAITDIS', 'EYEMOVE', 'RESTTRL', 'RESTTRR', 'SLOWINGL', 'SLOWINGR', 'RIGIDL', 'RIGIDR', 'BRADY', 'PARKGAIT', 'POSTINST', 'CORTDEF', 'SIVDFIND', 'CVDMOTL', 'CVDMOTR', 'CORTVISL', 'CORTVISR', 'SOMATL', 'SOMATR', 'EYEPSP', 'DYSPSP', 'AXIALPSP', 'GAITPSP', 'APRAXSP', 'APRAXL', 'APRAXR', 'CORTSENL', 'CORTSENR', 'ATAXL', 'ATAXR', 'ALIENLML', 'ALIENLMR', 'DYSTONL', 'DYSTONR', 'MYOCLLT', 'MYOCLRT', 'OTHNEURX', 'DECSUB', 'DECIN', 'COGMEM', 'COGORI', 'COGJUDG', 'COGLANG', 'COGVIS', 'COGATTN', 'COGFLUC', 'COGFLAGO', 'COGOTHR', 'COGOTHRX', 'NACCCOGF', 'NACCCGFX', 'COGMODE', 'COGMODEX', 'DECAGE', 'BEAPATHY', 'BEDEP', 'BEVHALL', 'BEVWELL', 'BEVHAGO', 'BEAHALL', 'BEDEL', 'BEDISIN', 'BEIRRIT', 'BEAGIT', 'BEPERCH', 'BEREM', 'BEREMAGO', 'BEANX', 'BEOTHRX', 'NACCBEHF', 'NACCBEFX', 'BEMODE', 'BEMODEX', 'BEAGE', 'MOGAIT', 'MOFALLS', 'MOTREM', 'MOSLOW', 'NACCMOTF', 'MOMODE', 'MOMODEX', 'MOMOPARK', 'PARKAGE', 'MOMOALS', 'ALSAGE', 'MOAGE', 'COURSE', 'FRSTCHG', 'MMSELANX', 'MMSEORDA', 'MMSEORLO', 'PENTAGON', 'NACCMMSE', 'NPSYLANX', 'LOGIMO', 'LOGIDAY', 'LOGIYR', 'LOGIPREV', 'LOGIMEM', 'MEMUNITS', 'MEMTIME', 'UDSBENTC', 'UDSBENTD', 'UDSBENRS', 'DIGIF', 'DIGIFLEN', 'DIGIB', 'DIGIBLEN', 'ANIMALS', 'VEG', 'TRAILA', 'TRAILARR', 'TRAILALI', 'TRAILB', 'TRAILBRR', 'TRAILBLI', 'WAIS', 'BOSTON', 'UDSVERFC', 'UDSVERFN', 'UDSVERNF', 'UDSVERLC', 'UDSVERLR', 'UDSVERLN', 'UDSVERTN', 'UDSVERTE', 'UDSVERTI', 'MOCAREAS', 'MOCALANX', 'MOCATOTS', 'MOCATRAI', 'MOCACUBE', 'MOCACLOC', 'MOCACLON', 'MOCACLOH', 'MOCANAMI', 'MOCAREGI', 'MOCADIGI', 'MOCALETT', 'MOCASER7', 'MOCAREPE', 'MOCAFLUE', 'MOCAABST', 'MOCARECN', 'MOCARECC', 'MOCARECR', 'MOCAORDT', 'MOCAORMO', 'MOCAORYR', 'MOCAORDY', 'MOCAORPL', 'MOCAORCT', 'NACCMOCA', 'CRAFTVRS', 'CRAFTURS', 'DIGFORCT', 'DIGFORSL', 'DIGBACCT', 'DIGBACLS', 'CRAFTDVR', 'CRAFTDRE', 'CRAFTDTI', 'MINTTOTS', 'MINTTOTW', 'MINTSCNG', 'MINTSCNC', 'MINTPCNG', 'MINTPCNC', 'MOCBTOTS', 'NACCMOCB', 'REY1REC', 'REY1INT', 'REY2REC', 'REY2INT', 'REY3REC', 'REY3INT', 'REY4REC', 'REY4INT', 'REY5REC', 'REY5INT', 'REY6REC', 'REY6INT', 'OTRAILA', 'OTRLARR', 'OTRLALI', 'OTRAILB', 'OTRLBRR', 'OTRLBLI', 'REYDREC', 'REYDINT', 'REYTCOR', 'REYFPOS', 'VNTTOTW', 'VNTPCNC', 'RESPOTHX', 'AMNDEM', 'PCA', 'NACCPPA', 'NACCPPAG', 'NACCPPME', 'NACCBVFT', 'NACCLBDS', 'NAMNDEM', 'NACCMCIL', 'NACCMCIA', 'NACCMCIE', 'NACCMCIV', 'AMYLPET', 'AMYLCSF', 'FDGAD', 'HIPPATR', 'TAUPETAD', 'CSFTAU', 'FDGFTLD', 'TPETFTLD', 'MRFTLD', 'DATSCAN', 'OTHBIOMX', 'IMAGLINF', 'IMAGLAC', 'IMAGMACH', 'IMAGMICH', 'IMAGMWMH', 'IMAGEWMH', 'OTHMUT', 'OTHMUTX', 'NACCALZD', 'PROBAD', 'PROBADIF', 'POSSAD', 'POSSADIF', 'NACCLBDE', 'MSAIF', 'FTLDMOIF', 'FTLDNOIF', 'FTD', 'FTDIF', 'PPAPH', 'PPAPHIF', 'FTLDSUBT', 'FTLDSUBX', 'CVDIF', 'STROKDEC', 'STKIMAG', 'INFNETW', 'INFWMH', 'VASC', 'VASCIF', 'VASCPS', 'VASCPSIF', 'STROKIF', 'ESSTREIF', 'BRNINCTE', 'EPILEPIF', 'NEOPSTAT', 'HIVIF', 'OTHCOGIF', 'OTHCOGX', 'DEPTREAT', 'BIPOLDIF', 'SCHIZOIF', 'ANXIETIF', 'DELIRIF', 'PTSDDXIF', 'OTHPSYX', 'ALCDEM', 'ALCABUSE', 'IMPSUBIF', 'DEMUN', 'DEMUNIF', 'COGOTHX', 'COGOTH2F', 'COGOTH2X', 'COGOTH3F', 'COGOTH3X', 'NACCETPR', 'CANCER', 'CANCSITE', 'DIABET', 'MYOINF', 'CONGHRT', 'AFIBRILL', 'HYPERT', 'ANGINA', 'HYPCHOL', 'VB12DEF', 'THYDIS', 'ARTH', 'ARTYPE', 'ARTYPEX', 'ARTUPEX', 'ARTLOEX', 'ARTSPIN', 'ARTUNKN', 'URINEINC', 'BOWLINC', 'SLEEPAP', 'REMDIS', 'HYPOSOM', 'SLEEPOTH', 'SLEEPOTX', 'ANGIOCP', 'ANGIOPCI', 'PACEMAKE', 'HVALVE', 'ANTIENC', 'ANTIENCX', 'OTHCONDX', 'NACCAGEB', 'NACCAGE', 'NACCAMD', 'NACCBMI']\n",
            "NACCADC       int32\n",
            "VISITMO       int32\n",
            "VISITDAY      int32\n",
            "VISITYR       int32\n",
            "NACCDAYS      int32\n",
            "             ...   \n",
            "OTHCONDX      int32\n",
            "NACCAGEB      int32\n",
            "NACCAGE       int32\n",
            "NACCAMD     float32\n",
            "NACCBMI     float32\n",
            "Length: 587, dtype: object\n"
          ]
        }
      ],
      "source": [
        "print(sequential_features)\n",
        "print(df[sequential_features].dtypes)"
      ]
    },
    {
      "cell_type": "code",
      "execution_count": 22,
      "metadata": {
        "colab": {
          "base_uri": "https://localhost:8080/"
        },
        "id": "2VWhO_FPuUUm",
        "outputId": "658286c0-343d-4307-d818-cd8e45364ac8"
      },
      "outputs": [
        {
          "output_type": "stream",
          "name": "stdout",
          "text": [
            "False\n",
            "False\n",
            "False\n",
            "False\n"
          ]
        }
      ],
      "source": [
        "# check if sequential_features contains the following columns'hashed_NACCID', 'NACCVNUM', 'NACCUDSD', 'class_description'\n",
        "print('hashed_NACCID' in sequential_features)\n",
        "print('NACCVNUM' in sequential_features)\n",
        "print('NACCUDSD' in sequential_features)\n",
        "print('class_description' in sequential_features)"
      ]
    },
    {
      "cell_type": "code",
      "source": [
        "# check if df_temp contains the following columns'hashed_NACCID', 'NACCVNUM', 'NACCUDSD', 'class_description'\n",
        "print('hashed_NACCID' in df_temp)\n",
        "print('NACCVNUM' in df_temp)\n",
        "print('NACCUDSD' in df_temp)\n",
        "print('class_description' in df_temp)"
      ],
      "metadata": {
        "colab": {
          "base_uri": "https://localhost:8080/"
        },
        "id": "UcFYwAQYApTN",
        "outputId": "291235eb-0786-4903-f7bf-f6645c998607"
      },
      "execution_count": 23,
      "outputs": [
        {
          "output_type": "stream",
          "name": "stdout",
          "text": [
            "True\n",
            "True\n",
            "True\n",
            "True\n"
          ]
        }
      ]
    },
    {
      "cell_type": "markdown",
      "source": [
        "#**Visualisation Call**"
      ],
      "metadata": {
        "id": "IylLuLvIlCh2"
      }
    },
    {
      "cell_type": "code",
      "source": [
        "# Plot bar chart\n",
        "plot_bar_chart(df_temp, 'VISITDAY', title=\"VISITDAY Distribution\", xlabel=\"Visit days by participant with different conginition types\",\n",
        "               ylabel=\"Frequency\", hue='class_description', palette='coolwarm')"
      ],
      "metadata": {
        "colab": {
          "base_uri": "https://localhost:8080/",
          "height": 576
        },
        "id": "HXYkRV9vnKHh",
        "outputId": "23c8ee60-6f82-4ec4-c4fe-c73f6287e664"
      },
      "execution_count": 24,
      "outputs": [
        {
          "output_type": "display_data",
          "data": {
            "text/plain": [
              "<Figure size 1000x600 with 1 Axes>"
            ],
            "image/png": "[encoded data removed]"
          },
          "metadata": {}
        }
      ]
    },
    {
      "cell_type": "code",
      "source": [
        "# Plot bar chart\n",
        "plot_bar_chart(df_temp, 'class_description', title=\"NACCUDSD Distribution\", xlabel=\"Conginition Types\",\n",
        "               ylabel=\"Frequency\", hue='class_description', palette='coolwarm')"
      ],
      "metadata": {
        "colab": {
          "base_uri": "https://localhost:8080/",
          "height": 627
        },
        "id": "8rqN7s6AKT8O",
        "outputId": "77617d48-e1af-494e-fd0b-15c3c09adb90"
      },
      "execution_count": 25,
      "outputs": [
        {
          "output_type": "display_data",
          "data": {
            "text/plain": [
              "<Figure size 1000x600 with 1 Axes>"
            ],
            "image/png": "[encoded data removed]"
          },
          "metadata": {}
        }
      ]
    },
    {
      "cell_type": "code",
      "source": [
        "# Plot bar chart\n",
        "plot_bar_chart(df_temp, 'NACCVNUM', title=\"NACCVNUM Distribution\", xlabel=\"Visit distribution frequency by participant types\",\n",
        "               ylabel=\"Frequency\", hue='class_description', palette='coolwarm')"
      ],
      "metadata": {
        "colab": {
          "base_uri": "https://localhost:8080/",
          "height": 576
        },
        "id": "qC-b8L68K29B",
        "outputId": "bb670591-77c0-4ecb-aa39-30d6790cfd84"
      },
      "execution_count": 26,
      "outputs": [
        {
          "output_type": "display_data",
          "data": {
            "text/plain": [
              "<Figure size 1000x600 with 1 Axes>"
            ],
            "image/png": "[encoded data removed]"
          },
          "metadata": {}
        }
      ]
    },
    {
      "cell_type": "markdown",
      "source": [
        "#**Exploration continues**"
      ],
      "metadata": {
        "id": "mnOVA0WPYZK3"
      }
    },
    {
      "cell_type": "code",
      "source": [
        "df['NACCVNUM'].unique()"
      ],
      "metadata": {
        "colab": {
          "base_uri": "https://localhost:8080/"
        },
        "id": "lW8Kys8jME0-",
        "outputId": "ebeeaaac-0e19-478c-a363-e4274759e301"
      },
      "execution_count": 27,
      "outputs": [
        {
          "output_type": "execute_result",
          "data": {
            "text/plain": [
              "array([ 1,  2,  3,  4,  5,  6,  7,  8,  9, 10, 11, 12, 13, 14, 15, 16, 17,\n",
              "       18], dtype=int32)"
            ]
          },
          "metadata": {},
          "execution_count": 27
        }
      ]
    },
    {
      "cell_type": "code",
      "source": [
        "# Least vist\n",
        "df['NACCVNUM'].min()"
      ],
      "metadata": {
        "colab": {
          "base_uri": "https://localhost:8080/"
        },
        "id": "U3fL64rqOTEH",
        "outputId": "0422eb20-c375-4a84-e3d7-ae5a04b79267"
      },
      "execution_count": 28,
      "outputs": [
        {
          "output_type": "execute_result",
          "data": {
            "text/plain": [
              "1"
            ]
          },
          "metadata": {},
          "execution_count": 28
        }
      ]
    },
    {
      "cell_type": "code",
      "source": [
        "# MAximum visit\n",
        "df['NACCVNUM'].max()"
      ],
      "metadata": {
        "colab": {
          "base_uri": "https://localhost:8080/"
        },
        "id": "IOKiXOv6OYoi",
        "outputId": "6f87818b-5f69-496c-e9ff-593ac9170788"
      },
      "execution_count": 29,
      "outputs": [
        {
          "output_type": "execute_result",
          "data": {
            "text/plain": [
              "18"
            ]
          },
          "metadata": {},
          "execution_count": 29
        }
      ]
    },
    {
      "cell_type": "code",
      "source": [
        "# Number of participants that visited the most\n",
        "df[df['NACCVNUM'] == 18]['hashed_NACCID'].nunique()"
      ],
      "metadata": {
        "colab": {
          "base_uri": "https://localhost:8080/"
        },
        "id": "mndLOIiqMMd8",
        "outputId": "ffac76a6-6caa-4e2a-c9ba-8e99c6bb9e1d"
      },
      "execution_count": 30,
      "outputs": [
        {
          "output_type": "execute_result",
          "data": {
            "text/plain": [
              "37"
            ]
          },
          "metadata": {},
          "execution_count": 30
        }
      ]
    },
    {
      "cell_type": "code",
      "source": [
        "# Number of participants that visited the at least once\n",
        "least_visitors = df[df['NACCVNUM'] == 1]['hashed_NACCID'].nunique()\n",
        "f\"{least_visitors:,}\""
      ],
      "metadata": {
        "colab": {
          "base_uri": "https://localhost:8080/",
          "height": 36
        },
        "id": "L5q5OryuOeEh",
        "outputId": "fac2f196-5e90-4978-9fc4-36a93ceda98b"
      },
      "execution_count": 31,
      "outputs": [
        {
          "output_type": "execute_result",
          "data": {
            "text/plain": [
              "'49,411'"
            ],
            "application/vnd.google.colaboratory.intrinsic+json": {
              "type": "string"
            }
          },
          "metadata": {},
          "execution_count": 31
        }
      ]
    },
    {
      "cell_type": "code",
      "source": [
        "date_columns = df[['VISITDAY', 'VISITMO', 'VISITYR']].head(10)\n",
        "date_columns"
      ],
      "metadata": {
        "colab": {
          "base_uri": "https://localhost:8080/",
          "height": 363
        },
        "id": "VO4zW5hTm9A-",
        "outputId": "794019b3-abc9-4166-b335-0becbaaa5b27"
      },
      "execution_count": 38,
      "outputs": [
        {
          "output_type": "execute_result",
          "data": {
            "text/plain": [
              "   VISITDAY  VISITMO  VISITYR\n",
              "0        28       12     2022\n",
              "1         5       10     2021\n",
              "2        14       11     2022\n",
              "3        15       11     2022\n",
              "4        29        3     2022\n",
              "5        16        5     2023\n",
              "6        13        2     2023\n",
              "7        11        8     2022\n",
              "8        21        4     2022\n",
              "9        24       10     2022"
            ],
            "text/html": [
              "\n",
              "  <div id=\"df-0e273fd8-658b-451d-82d6-74e9da7946d4\" class=\"colab-df-container\">\n",
              "    <div>\n",
              "<style scoped>\n",
              "    .dataframe tbody tr th:only-of-type {\n",
              "        vertical-align: middle;\n",
              "    }\n",
              "\n",
              "    .dataframe tbody tr th {\n",
              "        vertical-align: top;\n",
              "    }\n",
              "\n",
              "    .dataframe thead th {\n",
              "        text-align: right;\n",
              "    }\n",
              "</style>\n",
              "<table border=\"1\" class=\"dataframe\">\n",
              "  <thead>\n",
              "    <tr style=\"text-align: right;\">\n",
              "      <th></th>\n",
              "      <th>VISITDAY</th>\n",
              "      <th>VISITMO</th>\n",
              "      <th>VISITYR</th>\n",
              "    </tr>\n",
              "  </thead>\n",
              "  <tbody>\n",
              "    <tr>\n",
              "      <th>0</th>\n",
              "      <td>28</td>\n",
              "      <td>12</td>\n",
              "      <td>2022</td>\n",
              "    </tr>\n",
              "    <tr>\n",
              "      <th>1</th>\n",
              "      <td>5</td>\n",
              "      <td>10</td>\n",
              "      <td>2021</td>\n",
              "    </tr>\n",
              "    <tr>\n",
              "      <th>2</th>\n",
              "      <td>14</td>\n",
              "      <td>11</td>\n",
              "      <td>2022</td>\n",
              "    </tr>\n",
              "    <tr>\n",
              "      <th>3</th>\n",
              "      <td>15</td>\n",
              "      <td>11</td>\n",
              "      <td>2022</td>\n",
              "    </tr>\n",
              "    <tr>\n",
              "      <th>4</th>\n",
              "      <td>29</td>\n",
              "      <td>3</td>\n",
              "      <td>2022</td>\n",
              "    </tr>\n",
              "    <tr>\n",
              "      <th>5</th>\n",
              "      <td>16</td>\n",
              "      <td>5</td>\n",
              "      <td>2023</td>\n",
              "    </tr>\n",
              "    <tr>\n",
              "      <th>6</th>\n",
              "      <td>13</td>\n",
              "      <td>2</td>\n",
              "      <td>2023</td>\n",
              "    </tr>\n",
              "    <tr>\n",
              "      <th>7</th>\n",
              "      <td>11</td>\n",
              "      <td>8</td>\n",
              "      <td>2022</td>\n",
              "    </tr>\n",
              "    <tr>\n",
              "      <th>8</th>\n",
              "      <td>21</td>\n",
              "      <td>4</td>\n",
              "      <td>2022</td>\n",
              "    </tr>\n",
              "    <tr>\n",
              "      <th>9</th>\n",
              "      <td>24</td>\n",
              "      <td>10</td>\n",
              "      <td>2022</td>\n",
              "    </tr>\n",
              "  </tbody>\n",
              "</table>\n",
              "</div>\n",
              "    <div class=\"colab-df-buttons\">\n",
              "\n",
              "  <div class=\"colab-df-container\">\n",
              "    <button class=\"colab-df-convert\" onclick=\"convertToInteractive('df-0e273fd8-658b-451d-82d6-74e9da7946d4')\"\n",
              "            title=\"Convert this dataframe to an interactive table.\"\n",
              "            style=\"display:none;\">\n",
              "\n",
              "  <svg xmlns=\"http://www.w3.org/2000/svg\" height=\"24px\" viewBox=\"0 -960 960 960\">\n",
              "    <path d=\"M120-120v-720h720v720H120Zm60-500h600v-160H180v160Zm220 220h160v-160H400v160Zm0 220h160v-160H400v160ZM180-400h160v-160H180v160Zm440 0h160v-160H620v160ZM180-180h160v-160H180v160Zm440 0h160v-160H620v160Z\"/>\n",
              "  </svg>\n",
              "    </button>\n",
              "\n",
              "  <style>\n",
              "    .colab-df-container {\n",
              "      display:flex;\n",
              "      gap: 12px;\n",
              "    }\n",
              "\n",
              "    .colab-df-convert {\n",
              "      background-color: #E8F0FE;\n",
              "      border: none;\n",
              "      border-radius: 50%;\n",
              "      cursor: pointer;\n",
              "      display: none;\n",
              "      fill: #1967D2;\n",
              "      height: 32px;\n",
              "      padding: 0 0 0 0;\n",
              "      width: 32px;\n",
              "    }\n",
              "\n",
              "    .colab-df-convert:hover {\n",
              "      background-color: #E2EBFA;\n",
              "      box-shadow: 0px 1px 2px rgba(60, 64, 67, 0.3), 0px 1px 3px 1px rgba(60, 64, 67, 0.15);\n",
              "      fill: #174EA6;\n",
              "    }\n",
              "\n",
              "    .colab-df-buttons div {\n",
              "      margin-bottom: 4px;\n",
              "    }\n",
              "\n",
              "    [theme=dark] .colab-df-convert {\n",
              "      background-color: #3B4455;\n",
              "      fill: #D2E3FC;\n",
              "    }\n",
              "\n",
              "    [theme=dark] .colab-df-convert:hover {\n",
              "      background-color: #434B5C;\n",
              "      box-shadow: 0px 1px 3px 1px rgba(0, 0, 0, 0.15);\n",
              "      filter: drop-shadow(0px 1px 2px rgba(0, 0, 0, 0.3));\n",
              "      fill: #FFFFFF;\n",
              "    }\n",
              "  </style>\n",
              "\n",
              "    <script>\n",
              "      const buttonEl =\n",
              "        document.querySelector('#df-0e273fd8-658b-451d-82d6-74e9da7946d4 button.colab-df-convert');\n",
              "      buttonEl.style.display =\n",
              "        google.colab.kernel.accessAllowed ? 'block' : 'none';\n",
              "\n",
              "      async function convertToInteractive(key) {\n",
              "        const element = document.querySelector('#df-0e273fd8-658b-451d-82d6-74e9da7946d4');\n",
              "        const dataTable =\n",
              "          await google.colab.kernel.invokeFunction('convertToInteractive',\n",
              "                                                    [key], {});\n",
              "        if (!dataTable) return;\n",
              "\n",
              "        const docLinkHtml = 'Like what you see? Visit the ' +\n",
              "          '<a target=\"_blank\" href=https://colab.research.google.com/notebooks/data_table.ipynb>data table notebook</a>'\n",
              "          + ' to learn more about interactive tables.';\n",
              "        element.innerHTML = '';\n",
              "        dataTable['output_type'] = 'display_data';\n",
              "        await google.colab.output.renderOutput(dataTable, element);\n",
              "        const docLink = document.createElement('div');\n",
              "        docLink.innerHTML = docLinkHtml;\n",
              "        element.appendChild(docLink);\n",
              "      }\n",
              "    </script>\n",
              "  </div>\n",
              "\n",
              "\n",
              "<div id=\"df-16ea27a5-27ca-4b18-aa51-61afd8f9f3c2\">\n",
              "  <button class=\"colab-df-quickchart\" onclick=\"quickchart('df-16ea27a5-27ca-4b18-aa51-61afd8f9f3c2')\"\n",
              "            title=\"Suggest charts\"\n",
              "            style=\"display:none;\">\n",
              "\n",
              "<svg xmlns=\"http://www.w3.org/2000/svg\" height=\"24px\"viewBox=\"0 0 24 24\"\n",
              "     width=\"24px\">\n",
              "    <g>\n",
              "        <path d=\"M19 3H5c-1.1 0-2 .9-2 2v14c0 1.1.9 2 2 2h14c1.1 0 2-.9 2-2V5c0-1.1-.9-2-2-2zM9 17H7v-7h2v7zm4 0h-2V7h2v10zm4 0h-2v-4h2v4z\"/>\n",
              "    </g>\n",
              "</svg>\n",
              "  </button>\n",
              "\n",
              "<style>\n",
              "  .colab-df-quickchart {\n",
              "      --bg-color: #E8F0FE;\n",
              "      --fill-color: #1967D2;\n",
              "      --hover-bg-color: #E2EBFA;\n",
              "      --hover-fill-color: #174EA6;\n",
              "      --disabled-fill-color: #AAA;\n",
              "      --disabled-bg-color: #DDD;\n",
              "  }\n",
              "\n",
              "  [theme=dark] .colab-df-quickchart {\n",
              "      --bg-color: #3B4455;\n",
              "      --fill-color: #D2E3FC;\n",
              "      --hover-bg-color: #434B5C;\n",
              "      --hover-fill-color: #FFFFFF;\n",
              "      --disabled-bg-color: #3B4455;\n",
              "      --disabled-fill-color: #666;\n",
              "  }\n",
              "\n",
              "  .colab-df-quickchart {\n",
              "    background-color: var(--bg-color);\n",
              "    border: none;\n",
              "    border-radius: 50%;\n",
              "    cursor: pointer;\n",
              "    display: none;\n",
              "    fill: var(--fill-color);\n",
              "    height: 32px;\n",
              "    padding: 0;\n",
              "    width: 32px;\n",
              "  }\n",
              "\n",
              "  .colab-df-quickchart:hover {\n",
              "    background-color: var(--hover-bg-color);\n",
              "    box-shadow: 0 1px 2px rgba(60, 64, 67, 0.3), 0 1px 3px 1px rgba(60, 64, 67, 0.15);\n",
              "    fill: var(--button-hover-fill-color);\n",
              "  }\n",
              "\n",
              "  .colab-df-quickchart-complete:disabled,\n",
              "  .colab-df-quickchart-complete:disabled:hover {\n",
              "    background-color: var(--disabled-bg-color);\n",
              "    fill: var(--disabled-fill-color);\n",
              "    box-shadow: none;\n",
              "  }\n",
              "\n",
              "  .colab-df-spinner {\n",
              "    border: 2px solid var(--fill-color);\n",
              "    border-color: transparent;\n",
              "    border-bottom-color: var(--fill-color);\n",
              "    animation:\n",
              "      spin 1s steps(1) infinite;\n",
              "  }\n",
              "\n",
              "  @keyframes spin {\n",
              "    0% {\n",
              "      border-color: transparent;\n",
              "      border-bottom-color: var(--fill-color);\n",
              "      border-left-color: var(--fill-color);\n",
              "    }\n",
              "    20% {\n",
              "      border-color: transparent;\n",
              "      border-left-color: var(--fill-color);\n",
              "      border-top-color: var(--fill-color);\n",
              "    }\n",
              "    30% {\n",
              "      border-color: transparent;\n",
              "      border-left-color: var(--fill-color);\n",
              "      border-top-color: var(--fill-color);\n",
              "      border-right-color: var(--fill-color);\n",
              "    }\n",
              "    40% {\n",
              "      border-color: transparent;\n",
              "      border-right-color: var(--fill-color);\n",
              "      border-top-color: var(--fill-color);\n",
              "    }\n",
              "    60% {\n",
              "      border-color: transparent;\n",
              "      border-right-color: var(--fill-color);\n",
              "    }\n",
              "    80% {\n",
              "      border-color: transparent;\n",
              "      border-right-color: var(--fill-color);\n",
              "      border-bottom-color: var(--fill-color);\n",
              "    }\n",
              "    90% {\n",
              "      border-color: transparent;\n",
              "      border-bottom-color: var(--fill-color);\n",
              "    }\n",
              "  }\n",
              "</style>\n",
              "\n",
              "  <script>\n",
              "    async function quickchart(key) {\n",
              "      const quickchartButtonEl =\n",
              "        document.querySelector('#' + key + ' button');\n",
              "      quickchartButtonEl.disabled = true;  // To prevent multiple clicks.\n",
              "      quickchartButtonEl.classList.add('colab-df-spinner');\n",
              "      try {\n",
              "        const charts = await google.colab.kernel.invokeFunction(\n",
              "            'suggestCharts', [key], {});\n",
              "      } catch (error) {\n",
              "        console.error('Error during call to suggestCharts:', error);\n",
              "      }\n",
              "      quickchartButtonEl.classList.remove('colab-df-spinner');\n",
              "      quickchartButtonEl.classList.add('colab-df-quickchart-complete');\n",
              "    }\n",
              "    (() => {\n",
              "      let quickchartButtonEl =\n",
              "        document.querySelector('#df-16ea27a5-27ca-4b18-aa51-61afd8f9f3c2 button');\n",
              "      quickchartButtonEl.style.display =\n",
              "        google.colab.kernel.accessAllowed ? 'block' : 'none';\n",
              "    })();\n",
              "  </script>\n",
              "</div>\n",
              "\n",
              "  <div id=\"id_d223b12b-3921-4d59-9005-72ef48e7136d\">\n",
              "    <style>\n",
              "      .colab-df-generate {\n",
              "        background-color: #E8F0FE;\n",
              "        border: none;\n",
              "        border-radius: 50%;\n",
              "        cursor: pointer;\n",
              "        display: none;\n",
              "        fill: #1967D2;\n",
              "        height: 32px;\n",
              "        padding: 0 0 0 0;\n",
              "        width: 32px;\n",
              "      }\n",
              "\n",
              "      .colab-df-generate:hover {\n",
              "        background-color: #E2EBFA;\n",
              "        box-shadow: 0px 1px 2px rgba(60, 64, 67, 0.3), 0px 1px 3px 1px rgba(60, 64, 67, 0.15);\n",
              "        fill: #174EA6;\n",
              "      }\n",
              "\n",
              "      [theme=dark] .colab-df-generate {\n",
              "        background-color: #3B4455;\n",
              "        fill: #D2E3FC;\n",
              "      }\n",
              "\n",
              "      [theme=dark] .colab-df-generate:hover {\n",
              "        background-color: #434B5C;\n",
              "        box-shadow: 0px 1px 3px 1px rgba(0, 0, 0, 0.15);\n",
              "        filter: drop-shadow(0px 1px 2px rgba(0, 0, 0, 0.3));\n",
              "        fill: #FFFFFF;\n",
              "      }\n",
              "    </style>\n",
              "    <button class=\"colab-df-generate\" onclick=\"generateWithVariable('date_columns')\"\n",
              "            title=\"Generate code using this dataframe.\"\n",
              "            style=\"display:none;\">\n",
              "\n",
              "  <svg xmlns=\"http://www.w3.org/2000/svg\" height=\"24px\"viewBox=\"0 0 24 24\"\n",
              "       width=\"24px\">\n",
              "    <path d=\"M7,19H8.4L18.45,9,17,7.55,7,17.6ZM5,21V16.75L18.45,3.32a2,2,0,0,1,2.83,0l1.4,1.43a1.91,1.91,0,0,1,.58,1.4,1.91,1.91,0,0,1-.58,1.4L9.25,21ZM18.45,9,17,7.55Zm-12,3A5.31,5.31,0,0,0,4.9,8.1,5.31,5.31,0,0,0,1,6.5,5.31,5.31,0,0,0,4.9,4.9,5.31,5.31,0,0,0,6.5,1,5.31,5.31,0,0,0,8.1,4.9,5.31,5.31,0,0,0,12,6.5,5.46,5.46,0,0,0,6.5,12Z\"/>\n",
              "  </svg>\n",
              "    </button>\n",
              "    <script>\n",
              "      (() => {\n",
              "      const buttonEl =\n",
              "        document.querySelector('#id_d223b12b-3921-4d59-9005-72ef48e7136d button.colab-df-generate');\n",
              "      buttonEl.style.display =\n",
              "        google.colab.kernel.accessAllowed ? 'block' : 'none';\n",
              "\n",
              "      buttonEl.onclick = () => {\n",
              "        google.colab.notebook.generateWithVariable('date_columns');\n",
              "      }\n",
              "      })();\n",
              "    </script>\n",
              "  </div>\n",
              "\n",
              "    </div>\n",
              "  </div>\n"
            ],
            "application/vnd.google.colaboratory.intrinsic+json": {
              "type": "dataframe",
              "variable_name": "date_columns",
              "summary": "{\n  \"name\": \"date_columns\",\n  \"rows\": 10,\n  \"fields\": [\n    {\n      \"column\": \"VISITDAY\",\n      \"properties\": {\n        \"dtype\": \"int32\",\n        \"num_unique_values\": 10,\n        \"samples\": [\n          21,\n          5,\n          16\n        ],\n        \"semantic_type\": \"\",\n        \"description\": \"\"\n      }\n    },\n    {\n      \"column\": \"VISITMO\",\n      \"properties\": {\n        \"dtype\": \"int32\",\n        \"num_unique_values\": 8,\n        \"samples\": [\n          10,\n          2,\n          12\n        ],\n        \"semantic_type\": \"\",\n        \"description\": \"\"\n      }\n    },\n    {\n      \"column\": \"VISITYR\",\n      \"properties\": {\n        \"dtype\": \"int32\",\n        \"num_unique_values\": 3,\n        \"samples\": [\n          2022,\n          2021,\n          2023\n        ],\n        \"semantic_type\": \"\",\n        \"description\": \"\"\n      }\n    }\n  ]\n}"
            }
          },
          "metadata": {},
          "execution_count": 38
        }
      ]
    },
    {
      "cell_type": "code",
      "source": [
        "date_columns.isnull().sum().sum()"
      ],
      "metadata": {
        "colab": {
          "base_uri": "https://localhost:8080/"
        },
        "id": "W9FzziDCnR_J",
        "outputId": "613b8a25-913f-4f2c-c431-9781f5e09a41"
      },
      "execution_count": 39,
      "outputs": [
        {
          "output_type": "execute_result",
          "data": {
            "text/plain": [
              "0"
            ]
          },
          "metadata": {},
          "execution_count": 39
        }
      ]
    },
    {
      "cell_type": "code",
      "source": [
        "# Create date and time column\n",
        "# Check if the columns exist and rename them if necessary\n",
        "df = df.rename(columns={\n",
        "    'VISITDAY': 'day',  # Rename 'VISITDAY' to 'day'\n",
        "    'VISITMO': 'month',  # Rename 'VISITMO' to 'month'\n",
        "    'VISITYR': 'year'   # Rename 'VISITYR' to 'year'\n",
        "})\n",
        "\n",
        "# Correct Column Format\n",
        "# Check the content of those columns before converting\n",
        "for col in ['day', 'month', 'year']:\n",
        "    print(f\"Column '{col}' - Unique Values:\", df[col].unique()[:20])  # Print first 20 unique values\n",
        "\n",
        "# Concatenate year, month, and day columns into a single column\n",
        "df['date'] = df['year'].astype(str) + '-' + df['month'].astype(str) + '-' + df['day'].astype(str)\n",
        "\n",
        "# Convert the concatenated date column to datetime with handling errors\n",
        "df['VisitDate'] = pd.to_datetime(df['date'], errors='coerce')\n",
        "\n",
        "# Sort dataframe by visit date and participants ID\n",
        "df = df.sort_values(by=['hashed_NACCID', 'VisitDate']).reset_index(drop=True)\n",
        "\n",
        "# Check result\n",
        "print(df[['hashed_NACCID', 'VisitDate']].head(10))"
      ],
      "metadata": {
        "colab": {
          "base_uri": "https://localhost:8080/"
        },
        "id": "S9A1I78SXbyi",
        "outputId": "98027bec-8ab7-4ebd-836b-48b12bedd1db"
      },
      "execution_count": 43,
      "outputs": [
        {
          "output_type": "stream",
          "name": "stdout",
          "text": [
            "Column 'day' - Unique Values: [28  5 14 15 29 16 13 11 21 24  2 22 17  9  1  8  7 19  4 12]\n",
            "Column 'month' - Unique Values: [12 10 11  3  5  2  8  4  9  6  1  7]\n",
            "Column 'year' - Unique Values: [2022 2021 2023 2019 2020 2006 2008 2009 2010 2011 2012 2013 2018 2016\n",
            " 2017 2014 2007 2015 2005]\n",
            "   hashed_NACCID  VisitDate\n",
            "0          21693 2015-04-21\n",
            "1          21693 2016-03-15\n",
            "2          21693 2017-05-08\n",
            "3          21693 2018-09-25\n",
            "4          21693 2019-09-12\n",
            "5          21693 2020-10-09\n",
            "6          21693 2021-12-03\n",
            "7          21693 2023-05-23\n",
            "8          39086 2006-02-08\n",
            "9          39086 2007-01-03\n"
          ]
        }
      ]
    },
    {
      "cell_type": "markdown",
      "source": [
        "**Compute time difference Between visits**\n",
        "<br> Helps to track disease progression for each patience\n",
        "\n"
      ],
      "metadata": {
        "id": "v6910Nira47N"
      }
    },
    {
      "cell_type": "code",
      "source": [
        "# Compute time difference (in days) from first visit\n",
        "df['DaysSinceFirstVisit'] = df.groupby('hashed_NACCID')['VisitDate'].transform(lambda x: (x-x.min()).dt.days)\n",
        "\n",
        "# Compute yearly visit intervals\n",
        "df['YearSinceFirstVisit'] = df['DaysSinceFirstVisit'] / 365.25\n",
        "\n",
        "# Check result\n",
        "df[['hashed_NACCID', 'VisitDate', 'DaysSinceFirstVisit', 'YearSinceFirstVisit']].head(10)"
      ],
      "metadata": {
        "colab": {
          "base_uri": "https://localhost:8080/",
          "height": 363
        },
        "id": "vItUIMKWYhp7",
        "outputId": "97f5a84a-7248-4539-b5a4-ac7f20308794"
      },
      "execution_count": 44,
      "outputs": [
        {
          "output_type": "execute_result",
          "data": {
            "text/plain": [
              "   hashed_NACCID  VisitDate  DaysSinceFirstVisit  YearSinceFirstVisit\n",
              "0          21693 2015-04-21                    0             0.000000\n",
              "1          21693 2016-03-15                  329             0.900753\n",
              "2          21693 2017-05-08                  748             2.047912\n",
              "3          21693 2018-09-25                 1253             3.430527\n",
              "4          21693 2019-09-12                 1605             4.394251\n",
              "5          21693 2020-10-09                 1998             5.470226\n",
              "6          21693 2021-12-03                 2418             6.620123\n",
              "7          21693 2023-05-23                 2954             8.087611\n",
              "8          39086 2006-02-08                    0             0.000000\n",
              "9          39086 2007-01-03                  329             0.900753"
            ],
            "text/html": [
              "\n",
              "  <div id=\"df-b5eec2e5-2b8f-4e42-8521-e68bff1f3e74\" class=\"colab-df-container\">\n",
              "    <div>\n",
              "<style scoped>\n",
              "    .dataframe tbody tr th:only-of-type {\n",
              "        vertical-align: middle;\n",
              "    }\n",
              "\n",
              "    .dataframe tbody tr th {\n",
              "        vertical-align: top;\n",
              "    }\n",
              "\n",
              "    .dataframe thead th {\n",
              "        text-align: right;\n",
              "    }\n",
              "</style>\n",
              "<table border=\"1\" class=\"dataframe\">\n",
              "  <thead>\n",
              "    <tr style=\"text-align: right;\">\n",
              "      <th></th>\n",
              "      <th>hashed_NACCID</th>\n",
              "      <th>VisitDate</th>\n",
              "      <th>DaysSinceFirstVisit</th>\n",
              "      <th>YearSinceFirstVisit</th>\n",
              "    </tr>\n",
              "  </thead>\n",
              "  <tbody>\n",
              "    <tr>\n",
              "      <th>0</th>\n",
              "      <td>21693</td>\n",
              "      <td>2015-04-21</td>\n",
              "      <td>0</td>\n",
              "      <td>0.000000</td>\n",
              "    </tr>\n",
              "    <tr>\n",
              "      <th>1</th>\n",
              "      <td>21693</td>\n",
              "      <td>2016-03-15</td>\n",
              "      <td>329</td>\n",
              "      <td>0.900753</td>\n",
              "    </tr>\n",
              "    <tr>\n",
              "      <th>2</th>\n",
              "      <td>21693</td>\n",
              "      <td>2017-05-08</td>\n",
              "      <td>748</td>\n",
              "      <td>2.047912</td>\n",
              "    </tr>\n",
              "    <tr>\n",
              "      <th>3</th>\n",
              "      <td>21693</td>\n",
              "      <td>2018-09-25</td>\n",
              "      <td>1253</td>\n",
              "      <td>3.430527</td>\n",
              "    </tr>\n",
              "    <tr>\n",
              "      <th>4</th>\n",
              "      <td>21693</td>\n",
              "      <td>2019-09-12</td>\n",
              "      <td>1605</td>\n",
              "      <td>4.394251</td>\n",
              "    </tr>\n",
              "    <tr>\n",
              "      <th>5</th>\n",
              "      <td>21693</td>\n",
              "      <td>2020-10-09</td>\n",
              "      <td>1998</td>\n",
              "      <td>5.470226</td>\n",
              "    </tr>\n",
              "    <tr>\n",
              "      <th>6</th>\n",
              "      <td>21693</td>\n",
              "      <td>2021-12-03</td>\n",
              "      <td>2418</td>\n",
              "      <td>6.620123</td>\n",
              "    </tr>\n",
              "    <tr>\n",
              "      <th>7</th>\n",
              "      <td>21693</td>\n",
              "      <td>2023-05-23</td>\n",
              "      <td>2954</td>\n",
              "      <td>8.087611</td>\n",
              "    </tr>\n",
              "    <tr>\n",
              "      <th>8</th>\n",
              "      <td>39086</td>\n",
              "      <td>2006-02-08</td>\n",
              "      <td>0</td>\n",
              "      <td>0.000000</td>\n",
              "    </tr>\n",
              "    <tr>\n",
              "      <th>9</th>\n",
              "      <td>39086</td>\n",
              "      <td>2007-01-03</td>\n",
              "      <td>329</td>\n",
              "      <td>0.900753</td>\n",
              "    </tr>\n",
              "  </tbody>\n",
              "</table>\n",
              "</div>\n",
              "    <div class=\"colab-df-buttons\">\n",
              "\n",
              "  <div class=\"colab-df-container\">\n",
              "    <button class=\"colab-df-convert\" onclick=\"convertToInteractive('df-b5eec2e5-2b8f-4e42-8521-e68bff1f3e74')\"\n",
              "            title=\"Convert this dataframe to an interactive table.\"\n",
              "            style=\"display:none;\">\n",
              "\n",
              "  <svg xmlns=\"http://www.w3.org/2000/svg\" height=\"24px\" viewBox=\"0 -960 960 960\">\n",
              "    <path d=\"M120-120v-720h720v720H120Zm60-500h600v-160H180v160Zm220 220h160v-160H400v160Zm0 220h160v-160H400v160ZM180-400h160v-160H180v160Zm440 0h160v-160H620v160ZM180-180h160v-160H180v160Zm440 0h160v-160H620v160Z\"/>\n",
              "  </svg>\n",
              "    </button>\n",
              "\n",
              "  <style>\n",
              "    .colab-df-container {\n",
              "      display:flex;\n",
              "      gap: 12px;\n",
              "    }\n",
              "\n",
              "    .colab-df-convert {\n",
              "      background-color: #E8F0FE;\n",
              "      border: none;\n",
              "      border-radius: 50%;\n",
              "      cursor: pointer;\n",
              "      display: none;\n",
              "      fill: #1967D2;\n",
              "      height: 32px;\n",
              "      padding: 0 0 0 0;\n",
              "      width: 32px;\n",
              "    }\n",
              "\n",
              "    .colab-df-convert:hover {\n",
              "      background-color: #E2EBFA;\n",
              "      box-shadow: 0px 1px 2px rgba(60, 64, 67, 0.3), 0px 1px 3px 1px rgba(60, 64, 67, 0.15);\n",
              "      fill: #174EA6;\n",
              "    }\n",
              "\n",
              "    .colab-df-buttons div {\n",
              "      margin-bottom: 4px;\n",
              "    }\n",
              "\n",
              "    [theme=dark] .colab-df-convert {\n",
              "      background-color: #3B4455;\n",
              "      fill: #D2E3FC;\n",
              "    }\n",
              "\n",
              "    [theme=dark] .colab-df-convert:hover {\n",
              "      background-color: #434B5C;\n",
              "      box-shadow: 0px 1px 3px 1px rgba(0, 0, 0, 0.15);\n",
              "      filter: drop-shadow(0px 1px 2px rgba(0, 0, 0, 0.3));\n",
              "      fill: #FFFFFF;\n",
              "    }\n",
              "  </style>\n",
              "\n",
              "    <script>\n",
              "      const buttonEl =\n",
              "        document.querySelector('#df-b5eec2e5-2b8f-4e42-8521-e68bff1f3e74 button.colab-df-convert');\n",
              "      buttonEl.style.display =\n",
              "        google.colab.kernel.accessAllowed ? 'block' : 'none';\n",
              "\n",
              "      async function convertToInteractive(key) {\n",
              "        const element = document.querySelector('#df-b5eec2e5-2b8f-4e42-8521-e68bff1f3e74');\n",
              "        const dataTable =\n",
              "          await google.colab.kernel.invokeFunction('convertToInteractive',\n",
              "                                                    [key], {});\n",
              "        if (!dataTable) return;\n",
              "\n",
              "        const docLinkHtml = 'Like what you see? Visit the ' +\n",
              "          '<a target=\"_blank\" href=https://colab.research.google.com/notebooks/data_table.ipynb>data table notebook</a>'\n",
              "          + ' to learn more about interactive tables.';\n",
              "        element.innerHTML = '';\n",
              "        dataTable['output_type'] = 'display_data';\n",
              "        await google.colab.output.renderOutput(dataTable, element);\n",
              "        const docLink = document.createElement('div');\n",
              "        docLink.innerHTML = docLinkHtml;\n",
              "        element.appendChild(docLink);\n",
              "      }\n",
              "    </script>\n",
              "  </div>\n",
              "\n",
              "\n",
              "<div id=\"df-c57020b2-109c-411e-8f1b-b70133559476\">\n",
              "  <button class=\"colab-df-quickchart\" onclick=\"quickchart('df-c57020b2-109c-411e-8f1b-b70133559476')\"\n",
              "            title=\"Suggest charts\"\n",
              "            style=\"display:none;\">\n",
              "\n",
              "<svg xmlns=\"http://www.w3.org/2000/svg\" height=\"24px\"viewBox=\"0 0 24 24\"\n",
              "     width=\"24px\">\n",
              "    <g>\n",
              "        <path d=\"M19 3H5c-1.1 0-2 .9-2 2v14c0 1.1.9 2 2 2h14c1.1 0 2-.9 2-2V5c0-1.1-.9-2-2-2zM9 17H7v-7h2v7zm4 0h-2V7h2v10zm4 0h-2v-4h2v4z\"/>\n",
              "    </g>\n",
              "</svg>\n",
              "  </button>\n",
              "\n",
              "<style>\n",
              "  .colab-df-quickchart {\n",
              "      --bg-color: #E8F0FE;\n",
              "      --fill-color: #1967D2;\n",
              "      --hover-bg-color: #E2EBFA;\n",
              "      --hover-fill-color: #174EA6;\n",
              "      --disabled-fill-color: #AAA;\n",
              "      --disabled-bg-color: #DDD;\n",
              "  }\n",
              "\n",
              "  [theme=dark] .colab-df-quickchart {\n",
              "      --bg-color: #3B4455;\n",
              "      --fill-color: #D2E3FC;\n",
              "      --hover-bg-color: #434B5C;\n",
              "      --hover-fill-color: #FFFFFF;\n",
              "      --disabled-bg-color: #3B4455;\n",
              "      --disabled-fill-color: #666;\n",
              "  }\n",
              "\n",
              "  .colab-df-quickchart {\n",
              "    background-color: var(--bg-color);\n",
              "    border: none;\n",
              "    border-radius: 50%;\n",
              "    cursor: pointer;\n",
              "    display: none;\n",
              "    fill: var(--fill-color);\n",
              "    height: 32px;\n",
              "    padding: 0;\n",
              "    width: 32px;\n",
              "  }\n",
              "\n",
              "  .colab-df-quickchart:hover {\n",
              "    background-color: var(--hover-bg-color);\n",
              "    box-shadow: 0 1px 2px rgba(60, 64, 67, 0.3), 0 1px 3px 1px rgba(60, 64, 67, 0.15);\n",
              "    fill: var(--button-hover-fill-color);\n",
              "  }\n",
              "\n",
              "  .colab-df-quickchart-complete:disabled,\n",
              "  .colab-df-quickchart-complete:disabled:hover {\n",
              "    background-color: var(--disabled-bg-color);\n",
              "    fill: var(--disabled-fill-color);\n",
              "    box-shadow: none;\n",
              "  }\n",
              "\n",
              "  .colab-df-spinner {\n",
              "    border: 2px solid var(--fill-color);\n",
              "    border-color: transparent;\n",
              "    border-bottom-color: var(--fill-color);\n",
              "    animation:\n",
              "      spin 1s steps(1) infinite;\n",
              "  }\n",
              "\n",
              "  @keyframes spin {\n",
              "    0% {\n",
              "      border-color: transparent;\n",
              "      border-bottom-color: var(--fill-color);\n",
              "      border-left-color: var(--fill-color);\n",
              "    }\n",
              "    20% {\n",
              "      border-color: transparent;\n",
              "      border-left-color: var(--fill-color);\n",
              "      border-top-color: var(--fill-color);\n",
              "    }\n",
              "    30% {\n",
              "      border-color: transparent;\n",
              "      border-left-color: var(--fill-color);\n",
              "      border-top-color: var(--fill-color);\n",
              "      border-right-color: var(--fill-color);\n",
              "    }\n",
              "    40% {\n",
              "      border-color: transparent;\n",
              "      border-right-color: var(--fill-color);\n",
              "      border-top-color: var(--fill-color);\n",
              "    }\n",
              "    60% {\n",
              "      border-color: transparent;\n",
              "      border-right-color: var(--fill-color);\n",
              "    }\n",
              "    80% {\n",
              "      border-color: transparent;\n",
              "      border-right-color: var(--fill-color);\n",
              "      border-bottom-color: var(--fill-color);\n",
              "    }\n",
              "    90% {\n",
              "      border-color: transparent;\n",
              "      border-bottom-color: var(--fill-color);\n",
              "    }\n",
              "  }\n",
              "</style>\n",
              "\n",
              "  <script>\n",
              "    async function quickchart(key) {\n",
              "      const quickchartButtonEl =\n",
              "        document.querySelector('#' + key + ' button');\n",
              "      quickchartButtonEl.disabled = true;  // To prevent multiple clicks.\n",
              "      quickchartButtonEl.classList.add('colab-df-spinner');\n",
              "      try {\n",
              "        const charts = await google.colab.kernel.invokeFunction(\n",
              "            'suggestCharts', [key], {});\n",
              "      } catch (error) {\n",
              "        console.error('Error during call to suggestCharts:', error);\n",
              "      }\n",
              "      quickchartButtonEl.classList.remove('colab-df-spinner');\n",
              "      quickchartButtonEl.classList.add('colab-df-quickchart-complete');\n",
              "    }\n",
              "    (() => {\n",
              "      let quickchartButtonEl =\n",
              "        document.querySelector('#df-c57020b2-109c-411e-8f1b-b70133559476 button');\n",
              "      quickchartButtonEl.style.display =\n",
              "        google.colab.kernel.accessAllowed ? 'block' : 'none';\n",
              "    })();\n",
              "  </script>\n",
              "</div>\n",
              "\n",
              "    </div>\n",
              "  </div>\n"
            ],
            "application/vnd.google.colaboratory.intrinsic+json": {
              "type": "dataframe",
              "summary": "{\n  \"name\": \"df[['hashed_NACCID', 'VisitDate', 'DaysSinceFirstVisit', 'YearSinceFirstVisit']]\",\n  \"rows\": 10,\n  \"fields\": [\n    {\n      \"column\": \"hashed_NACCID\",\n      \"properties\": {\n        \"dtype\": \"int32\",\n        \"num_unique_values\": 2,\n        \"samples\": [\n          39086,\n          21693\n        ],\n        \"semantic_type\": \"\",\n        \"description\": \"\"\n      }\n    },\n    {\n      \"column\": \"VisitDate\",\n      \"properties\": {\n        \"dtype\": \"date\",\n        \"min\": \"2006-02-08 00:00:00\",\n        \"max\": \"2023-05-23 00:00:00\",\n        \"num_unique_values\": 10,\n        \"samples\": [\n          \"2006-02-08 00:00:00\",\n          \"2016-03-15 00:00:00\"\n        ],\n        \"semantic_type\": \"\",\n        \"description\": \"\"\n      }\n    },\n    {\n      \"column\": \"DaysSinceFirstVisit\",\n      \"properties\": {\n        \"dtype\": \"number\",\n        \"std\": 1051,\n        \"min\": 0,\n        \"max\": 2954,\n        \"num_unique_values\": 8,\n        \"samples\": [\n          329,\n          1998\n        ],\n        \"semantic_type\": \"\",\n        \"description\": \"\"\n      }\n    },\n    {\n      \"column\": \"YearSinceFirstVisit\",\n      \"properties\": {\n        \"dtype\": \"number\",\n        \"std\": 2.8789944846230515,\n        \"min\": 0.0,\n        \"max\": 8.087611225188228,\n        \"num_unique_values\": 8,\n        \"samples\": [\n          0.9007529089664613,\n          5.470225872689938\n        ],\n        \"semantic_type\": \"\",\n        \"description\": \"\"\n      }\n    }\n  ]\n}"
            }
          },
          "metadata": {},
          "execution_count": 44
        }
      ]
    },
    {
      "cell_type": "markdown",
      "source": [
        "**Visualise diease progression over time**\n",
        "<br>This is track cognitive decline for the different cognitive test score over time"
      ],
      "metadata": {
        "id": "3q4SMwoheYxG"
      }
    },
    {
      "cell_type": "code",
      "source": [
        "cognitive_score_col = 'NACCMMSE'\n",
        "\n",
        "plt.figure(figsize=(12, 6))\n",
        "for subject_id, gorup in df.groupby(\"hashed_NACCID\"):\n",
        "    plt.plot(gorup[\"YearSinceFirstVisit\"], gorup[cognitive_score_col], marker='o', linestyle='-', label=subject_id)\n",
        "\n",
        "plt.title(f\"Progression of {cognitive_score_col} Over Time\")\n",
        "plt.xlabel(\"Years Since First Visit\")\n",
        "plt.ylabel(f\"{cognitive_score_col} Score\")\n",
        "plt.legend()\n",
        "plt.grid(True)\n",
        "plt.show()"
      ],
      "metadata": {
        "colab": {
          "base_uri": "https://localhost:8080/"
        },
        "id": "n1jO0gAEZ3VF",
        "outputId": "450b284e-9e19-4fd4-dd93-a890a2eb7c79"
      },
      "execution_count": null,
      "outputs": [
        {
          "output_type": "stream",
          "name": "stderr",
          "text": [
            "/usr/local/lib/python3.11/dist-packages/IPython/core/pylabtools.py:151: UserWarning: Creating legend with loc=\"best\" can be slow with large amounts of data.\n",
            "  fig.canvas.print_figure(bytes_io, **kw)\n"
          ]
        }
      ]
    },
    {
      "cell_type": "markdown",
      "source": [
        "Grouping by participants diagnosis status"
      ],
      "metadata": {
        "id": "y-XGfpTrh_jJ"
      }
    },
    {
      "cell_type": "code",
      "source": [
        "plt.figure(figsize=(12, 6))\n",
        "sns.lineplot(data=df, x=\"YearsSinceFirstVisit\", y=cognitive_score_col, hue=\"class_description\", ci=None)\n",
        "plt.xlabel(\"Years Since First Visit\")\n",
        "plt.ylabel(f\"{cognitive_score_col} Score\")\n",
        "plt.title(f\"Cognitive Decline by Diagnosis Group\")\n",
        "plt.legend(title=\"Diagnosis\")\n",
        "plt.show()\n"
      ],
      "metadata": {
        "colab": {
          "base_uri": "https://localhost:8080/",
          "height": 218
        },
        "collapsed": true,
        "id": "xAwzBp2IaJSE",
        "outputId": "02bba149-9676-42b0-dfab-45eef960e02b"
      },
      "execution_count": 1,
      "outputs": [
        {
          "output_type": "error",
          "ename": "NameError",
          "evalue": "name 'plt' is not defined",
          "traceback": [
            "\u001b[0;31m---------------------------------------------------------------------------\u001b[0m",
            "\u001b[0;31mNameError\u001b[0m                                 Traceback (most recent call last)",
            "\u001b[0;32m<ipython-input-1-53895203b0d8>\u001b[0m in \u001b[0;36m<cell line: 0>\u001b[0;34m()\u001b[0m\n\u001b[0;32m----> 1\u001b[0;31m \u001b[0mplt\u001b[0m\u001b[0;34m.\u001b[0m\u001b[0mfigure\u001b[0m\u001b[0;34m(\u001b[0m\u001b[0mfigsize\u001b[0m\u001b[0;34m=\u001b[0m\u001b[0;34m(\u001b[0m\u001b[0;36m12\u001b[0m\u001b[0;34m,\u001b[0m \u001b[0;36m6\u001b[0m\u001b[0;34m)\u001b[0m\u001b[0;34m)\u001b[0m\u001b[0;34m\u001b[0m\u001b[0;34m\u001b[0m\u001b[0m\n\u001b[0m\u001b[1;32m      2\u001b[0m \u001b[0msns\u001b[0m\u001b[0;34m.\u001b[0m\u001b[0mlineplot\u001b[0m\u001b[0;34m(\u001b[0m\u001b[0mdata\u001b[0m\u001b[0;34m=\u001b[0m\u001b[0mdf\u001b[0m\u001b[0;34m,\u001b[0m \u001b[0mx\u001b[0m\u001b[0;34m=\u001b[0m\u001b[0;34m\"YearsSinceFirstVisit\"\u001b[0m\u001b[0;34m,\u001b[0m \u001b[0my\u001b[0m\u001b[0;34m=\u001b[0m\u001b[0mcognitive_score_col\u001b[0m\u001b[0;34m,\u001b[0m \u001b[0mhue\u001b[0m\u001b[0;34m=\u001b[0m\u001b[0;34m\"class_description\"\u001b[0m\u001b[0;34m,\u001b[0m \u001b[0mci\u001b[0m\u001b[0;34m=\u001b[0m\u001b[0;32mNone\u001b[0m\u001b[0;34m)\u001b[0m\u001b[0;34m\u001b[0m\u001b[0;34m\u001b[0m\u001b[0m\n\u001b[1;32m      3\u001b[0m \u001b[0mplt\u001b[0m\u001b[0;34m.\u001b[0m\u001b[0mxlabel\u001b[0m\u001b[0;34m(\u001b[0m\u001b[0;34m\"Years Since First Visit\"\u001b[0m\u001b[0;34m)\u001b[0m\u001b[0;34m\u001b[0m\u001b[0;34m\u001b[0m\u001b[0m\n\u001b[1;32m      4\u001b[0m \u001b[0mplt\u001b[0m\u001b[0;34m.\u001b[0m\u001b[0mylabel\u001b[0m\u001b[0;34m(\u001b[0m\u001b[0;34mf\"{cognitive_score_col} Score\"\u001b[0m\u001b[0;34m)\u001b[0m\u001b[0;34m\u001b[0m\u001b[0;34m\u001b[0m\u001b[0m\n\u001b[1;32m      5\u001b[0m \u001b[0mplt\u001b[0m\u001b[0;34m.\u001b[0m\u001b[0mtitle\u001b[0m\u001b[0;34m(\u001b[0m\u001b[0;34mf\"Cognitive Decline by Diagnosis Group\"\u001b[0m\u001b[0;34m)\u001b[0m\u001b[0;34m\u001b[0m\u001b[0;34m\u001b[0m\u001b[0m\n",
            "\u001b[0;31mNameError\u001b[0m: name 'plt' is not defined"
          ]
        }
      ]
    },
    {
      "cell_type": "markdown",
      "source": [
        "#**Sequential Feature Engineering**"
      ],
      "metadata": {
        "id": "QCNHKdd9PunV"
      }
    },
    {
      "cell_type": "code",
      "execution_count": null,
      "metadata": {
        "colab": {
          "base_uri": "https://localhost:8080/"
        },
        "id": "7ozZZumQuHf5",
        "outputId": "032fe137-a684-496a-f081-6b261bc12bef"
      },
      "outputs": [
        {
          "output_type": "stream",
          "name": "stdout",
          "text": [
            "Total Non-Sequential Features: 427\n",
            "Sample Non-Sequential Features: ['PACKET', 'FORMVER', 'NACCAVST', 'NACCNVST', 'NACCCORE', 'NACCREAS', 'NACCREFR', 'BIRTHMO', 'SEX', 'HISPANIC']\n"
          ]
        }
      ],
      "source": [
        "# Define columns to exclude from non-sequential features\n",
        "excluded_columns = sequential_features + ['hashed_NACCID', 'NACCVNUM', 'NACCUDSD', 'class_description']  # Add other irrelevant columns as needed\n",
        "\n",
        "# Identify remaining features not in sequential_features or excluded columns\n",
        "non_sequential_features = [col for col in df.columns if col not in excluded_columns]\n",
        "\n",
        "# Print the number of non-sequential features\n",
        "print(f\"Total Non-Sequential Features: {len(non_sequential_features)}\")\n",
        "print(f\"Sample Non-Sequential Features: {non_sequential_features[:10]}\")  # Display first 10 features"
      ]
    },
    {
      "cell_type": "code",
      "execution_count": null,
      "metadata": {
        "colab": {
          "base_uri": "https://localhost:8080/"
        },
        "id": "vKDYS0TUuvjd",
        "outputId": "dc249c6e-824f-4653-990b-bf69cdc5e9d9"
      },
      "outputs": [
        {
          "output_type": "stream",
          "name": "stdout",
          "text": [
            "0\n"
          ]
        }
      ],
      "source": [
        "# check how many non_sequential_features are in sequential_features\n",
        "print(len(set(non_sequential_features) & set(sequential_features)))"
      ]
    },
    {
      "cell_type": "code",
      "execution_count": null,
      "metadata": {
        "colab": {
          "base_uri": "https://localhost:8080/"
        },
        "id": "F6_wHXyqu-2Z",
        "outputId": "ef842f84-a803-4176-c5d3-c1311d33d114"
      },
      "outputs": [
        {
          "output_type": "stream",
          "name": "stdout",
          "text": [
            "False\n",
            "False\n",
            "False\n",
            "False\n"
          ]
        }
      ],
      "source": [
        "print('hashed_NACCID' in non_sequential_features)\n",
        "print('NACCVNUM' in non_sequential_features)\n",
        "print('NACCUDSD' in non_sequential_features)\n",
        "print('class_description' in non_sequential_features)"
      ]
    },
    {
      "cell_type": "code",
      "execution_count": null,
      "metadata": {
        "colab": {
          "base_uri": "https://localhost:8080/"
        },
        "id": "apNTdTa96lKL",
        "outputId": "83aaab7d-9bb7-4db4-c9f0-f58f0aff9ed5"
      },
      "outputs": [
        {
          "output_type": "stream",
          "name": "stdout",
          "text": [
            "Features retained after pruning:\n",
            "['PACKET', 'FORMVER', 'NACCAVST', 'NACCCORE', 'NACCREAS', 'NACCREFR', 'BIRTHMO', 'SEX', 'HISPANIC', 'HISPOR', 'HISPORX', 'RACE', 'RACEX', 'RACESEC', 'RACESECX', 'RACETER', 'RACETERX', 'PRIMLANG', 'PRIMLANX', 'EDUC', 'HANDED', 'INSEX', 'NEWINF', 'INRELTO', 'INLIVWTH', 'INRELY', 'NACCFAM', 'NACCMOM', 'NACCDAD', 'NACCAM', 'NACCAMX', 'NACCOMSX', 'NACCFADM', 'NACCFFTD', 'ANYMEDS', 'DRUG36', 'DRUG37', 'DRUG38', 'DRUG39', 'NACCSTYR', 'NACCTIYR', 'ABRUPT', 'STEPWISE', 'SOMATIC', 'EMOT', 'HXHYPER', 'HXSTROKE', 'FOCLSYM', 'FOCLSIGN', 'NPIQINF', 'NOGDS', 'NORMEXAM', 'PARKSIGN', 'CVDSIGNS', 'POSTCORT', 'PSPCBS', 'ALSFIND', 'GAITNPH', 'OTHNEUR', 'B9CHG', 'DECCLIN', 'DECCLCOG', 'DECCLBE', 'BEOTHR', 'DECCLMOT', 'LBDEVAL', 'FTLDEVAL', 'MMSECOMP', 'MMSELOC', 'MMSELAN', 'MMSEVIS', 'MMSEHEAR', 'NPSYCLOC', 'NPSYLAN', 'COGSTAT', 'NACCC1', 'MOCACOMP', 'MOCAVIS', 'MOCAHEAR', 'CRAFTCUE', 'NACCC2', 'MODCOMM', 'RESPHEAR', 'RESPDIST', 'RESPINTR', 'RESPDISN', 'RESPFATG', 'RESPEMOT', 'RESPASST', 'RESPOTH', 'WHODIDDX', 'NORMCOG', 'DEMENTED', 'NACCTMCI', 'NACCMCII', 'IMPNOMCI', 'OTHBIOM', 'NACCALZP', 'NACCLBDP', 'PARK', 'MSA', 'PSP', 'PSPIF', 'CORT', 'CORTIF', 'FTLDMO', 'FTLDNOS', 'CVD', 'PREVSTK', 'STROKE', 'ESSTREM', 'DOWNS', 'HUNT', 'PRION', 'BRNINJ', 'BRNINJIF', 'HYCEPH', 'EPILEP', 'NEOP', 'HIV', 'OTHCOG', 'DEP', 'DEPIF', 'BIPOLDX', 'SCHIZOP', 'ANXIET', 'DELIR', 'PTSDDX', 'OTHPSY', 'OTHPSYIF', 'IMPSUB', 'DYSILL', 'DYSILLIF', 'MEDS', 'MEDSIF', 'COGOTH', 'COGOTHIF', 'COGOTH2', 'COGOTH3', 'NACCADMU', 'NACCFTDM', 'OTHCOND', 'NACCNORM', 'NACCAAAS', 'NACCAANX', 'NACCAC', 'NACCACEI', 'NACCADEP', 'NACCADMD', 'NACCAHTN', 'NACCANGI', 'NACCAPSY', 'NACCBETA', 'NACCCCBS', 'NACCDBMD', 'NACCDIUR', 'NACCEMD', 'NACCEPMD', 'NACCHTNC', 'NACCLIPL', 'NACCNSD', 'NACCPDMD', 'NACCVASD', 'NACCDIED', 'NACCACTV', 'NACCNOVS', 'NACCNURP', 'NACCFTD', 'NACCMDSS', 'NACCPAFF', 'NACCLBDM', 'NACCACSF', 'NACCMRSA', 'NACCNMRI', 'NACCAPSA', 'TELCOV', 'ADGCGWAS', 'ADGCEXOM', 'ADGCEXR', 'NGDSGWAS', 'NGDSEXOM', 'NGDSWGS', 'NGDSWES', 'NACCNCRD', 'NACCAPOE', 'NPFORMVER', 'NPPMIH', 'NPFIX', 'NPFIXX', 'NPWBRWT', 'NACCBRNN', 'NPGRCCA', 'NPGRLA', 'NPGRHA', 'NPGRSNH', 'NPGRLCH', 'NACCAVAS', 'NPTAN', 'NPABAN', 'NPABANX', 'NPASAN', 'NPTDPAN', 'NPHISMB', 'NPHISG', 'NPHISSS', 'NPHIST', 'NPHISO', 'NPTHAL', 'NACCDIFF', 'NACCVASC', 'NACCAMY', 'NPINF', 'NPINF1A', 'NPINF1B', 'NPHEMO', 'NPOLD', 'NPOLD1', 'NPOLD2', 'NPOLD3', 'NPOLD4', 'NPOLDD', 'NACCARTE', 'NPWMR', 'NPPATH', 'NACCNEC', 'NPPATH7', 'NPPATH10', 'NPPATHO', 'NACCLEWY', 'NPLBOD', 'NPNLOSS', 'NPHIPSCL', 'NPFTDTAU', 'NPFTDT2', 'NPFTDT5', 'NPFTDT10', 'NPALSMND', 'NPOFTD', 'NPTDPA', 'NPTDPB', 'NPTDPC', 'NPTDPD', 'NPPDXA', 'NPPDXB', 'NACCPRIO', 'NPPDXD', 'NPPDXE', 'NPPDXP', 'NACCOTHP', 'NACCWRI1', 'NACCWRI2', 'NACCWRI3', 'NACCBNKF', 'NPBNKB', 'NACCCSFP', 'NPBNKF', 'NPFAUT', 'NPNIT', 'NPGENE', 'NPFHSPEC', 'NPOTH1X', 'NPOTH2X', 'NPOTH3X', 'NPARTAG', 'NPATGSEV', 'NPATGAMY', 'NPATGAM1', 'NPATGAM2', 'NPATGFRN', 'NPATGFR1']\n"
          ]
        }
      ],
      "source": [
        "# Set correlation threshold\n",
        "correlation_threshold = 0.85\n",
        "\n",
        "# Copy of features for iterative pruning\n",
        "remaining_features = non_sequential_features.copy()\n",
        "\n",
        "# Compute initial correlation matrix\n",
        "corr_matrix = df[remaining_features].corr().abs()\n",
        "\n",
        "while True:\n",
        "    # Select the upper triangle of the correlation matrix\n",
        "    upper_triangle = corr_matrix.where(np.triu(np.ones(corr_matrix.shape), k=1).astype(bool))\n",
        "\n",
        "    # Find the strongest correlation\n",
        "    max_corr = upper_triangle.max().max()\n",
        "\n",
        "    if max_corr < correlation_threshold:\n",
        "        # Stop if no correlations exceed the threshold\n",
        "        break\n",
        "\n",
        "    # Identify the pair of features with the strongest correlation\n",
        "    to_drop = upper_triangle.stack().idxmax()[1]  # Drop 'Feature_2' from the strongest pair\n",
        "\n",
        "    # Remove the feature from the remaining features\n",
        "    remaining_features.remove(to_drop)\n",
        "\n",
        "    # Drop the feature from the correlation matrix\n",
        "    corr_matrix = corr_matrix.loc[remaining_features, remaining_features]\n",
        "\n",
        "# Final filtered DataFrame\n",
        "df_non_sequential_filtered = df[remaining_features]\n",
        "\n",
        "# Print the features that were not eliminated\n",
        "print(\"Features retained after pruning:\")\n",
        "print(remaining_features)"
      ]
    },
    {
      "cell_type": "code",
      "execution_count": null,
      "metadata": {
        "id": "mmvc0pP3m7XR",
        "colab": {
          "base_uri": "https://localhost:8080/"
        },
        "outputId": "052b056f-0377-4935-f745-30b7890c3d4f"
      },
      "outputs": [
        {
          "output_type": "stream",
          "name": "stdout",
          "text": [
            "<class 'pandas.core.frame.DataFrame'>\n",
            "RangeIndex: 183097 entries, 0 to 183096\n",
            "Columns: 270 entries, PACKET to NPATGFR1\n",
            "dtypes: float32(179), int32(91)\n",
            "memory usage: 188.6 MB\n"
          ]
        }
      ],
      "source": [
        "df_non_sequential_filtered.info()"
      ]
    },
    {
      "cell_type": "markdown",
      "metadata": {
        "id": "A9xCWPNBJrXp"
      },
      "source": [
        "#**Building the Model**"
      ]
    },
    {
      "cell_type": "markdown",
      "metadata": {
        "id": "cSqBJzDBL1ZU"
      },
      "source": [
        "##**Preprocessing Sequential data**"
      ]
    },
    {
      "cell_type": "code",
      "execution_count": null,
      "metadata": {
        "id": "Fm9EKGWVERin"
      },
      "outputs": [],
      "source": [
        "def sort_sequential_data(df, participant_id_column, time_column, sequential_features, df_non_sequential_filtered, target_column):\n",
        "    \"\"\"\n",
        "    Sort sequential data by participant ID and time.\n",
        "\n",
        "    Args:\n",
        "        df: The pandas DataFrame containing the sequential data.\n",
        "        participant_id_column: Column indicating participant ID.\n",
        "        time_column: Column indicating visit number.\n",
        "        sequential_features: List of sequential feature columns.\n",
        "        non_sequential_features: List of non-sequential feature columns.\n",
        "        target_column: The name of the target variable column.\n",
        "\n",
        "    Returns:\n",
        "        sorted_seq_data: The sorted sequential data.\n",
        "    \"\"\"\n",
        "\n",
        "\n",
        "    seq_data = df[[participant_id_column, time_column] + sequential_features + non_sequential_features + [target_column]]\n",
        "    sorted_seq_data = seq_data.sort_values(by=[participant_id_column, time_column]).reset_index(drop=True)\n",
        "    return sorted_seq_data\n",
        "participant_id_column = 'hashed_NACCID'  # Define participant_id_column\n",
        "time_column = 'NACCVNUM'                # Define time_column\n",
        "target_column = 'NACCUDSD'              # Define target_column\n",
        "sorted_seq_data = sort_sequential_data(df, participant_id_column, time_column, sequential_features, df_non_sequential_filtered, target_column)"
      ]
    },
    {
      "cell_type": "code",
      "execution_count": null,
      "metadata": {
        "id": "X9x_FIgFEUxI"
      },
      "outputs": [],
      "source": [
        "def split_sequential_data_by_participants(sorted_seq_data, participant_id_column, train_ratio=0.7, val_ratio=0.15, test_ratio=0.15):\n",
        "    \"\"\"\n",
        "    Split sequential data into training, validation, and test sets by participants.\n",
        "\n",
        "    Args:\n",
        "        sorted_seq_data: The sorted sequential data.\n",
        "        participant_id_column: Column indicating participant ID.\n",
        "        train_ratio: Ratio for training set.\n",
        "        val_ratio: Ratio for validation set.\n",
        "        test_ratio: Ratio for test set.\n",
        "\n",
        "        Returns:\n",
        "        train_seq: Training set.\n",
        "        val_seq: Validation set.\n",
        "        test_seq: Test set.\n",
        "    \"\"\"\n",
        "    # Get unique participant IDs and shuffle them\n",
        "    participant_ids = sorted_seq_data[participant_id_column].unique()  # Get unique participant IDs\n",
        "    np.random.seed(42)\n",
        "    np.random.shuffle(participant_ids)\n",
        "    num_participants = len(participant_ids)\n",
        "    train_end = int(train_ratio * num_participants)\n",
        "    val_end = train_end + int(val_ratio * num_participants)\n",
        "    train_ids = participant_ids[:train_end]\n",
        "    val_ids = participant_ids[train_end:val_end]\n",
        "    test_ids = participant_ids[val_end:]\n",
        "    train_seq = sorted_seq_data[sorted_seq_data[participant_id_column].isin(train_ids)].reset_index(drop=True)\n",
        "    val_seq = sorted_seq_data[sorted_seq_data[participant_id_column].isin(val_ids)].reset_index(drop=True)\n",
        "    test_seq = sorted_seq_data[sorted_seq_data[participant_id_column].isin(test_ids)].reset_index(drop=True)\n",
        "    return train_seq, val_seq, test_seq"
      ]
    },
    {
      "cell_type": "code",
      "execution_count": null,
      "metadata": {
        "id": "UzeEJ9Z4EU0X"
      },
      "outputs": [],
      "source": [
        "def normalize_sequential_data(train_seq, val_seq, test_seq, sequential_features, scaler=None):\n",
        "    from sklearn.preprocessing import StandardScaler\n",
        "    if scaler is None:\n",
        "        scaler = StandardScaler()\n",
        "    scaler.fit(train_seq[sequential_features])\n",
        "    train_seq = train_seq.copy()\n",
        "    val_seq = val_seq.copy()\n",
        "    test_seq = test_seq.copy()\n",
        "\n",
        "    # Transform and cast to original dtype for train_seq\n",
        "    transformed_train = scaler.transform(train_seq[sequential_features])\n",
        "    for i, col in enumerate(sequential_features):\n",
        "        train_seq[col] = transformed_train[:, i].astype(train_seq[col].dtype)\n",
        "\n",
        "    # Transform and cast to original dtype for val_seq\n",
        "    transformed_val = scaler.transform(val_seq[sequential_features])\n",
        "    for i, col in enumerate(sequential_features):\n",
        "        val_seq[col] = transformed_val[:, i].astype(val_seq[col].dtype)\n",
        "\n",
        "    # Transform and cast to original dtype for test_seq\n",
        "    transformed_test = scaler.transform(test_seq[sequential_features])\n",
        "    for i, col in enumerate(sequential_features):\n",
        "        test_seq[col] = transformed_test[:, i].astype(test_seq[col].dtype)\n",
        "\n",
        "    return train_seq, val_seq, test_seq, scaler"
      ]
    },
    {
      "cell_type": "code",
      "execution_count": null,
      "metadata": {
        "id": "u8GGFVn7LCer"
      },
      "outputs": [],
      "source": [
        "def prepare_lstm_data(df, sequential_features, target_column, sequence_length):\n",
        "    num_samples = len(df)\n",
        "    num_features = len(sequential_features)\n",
        "    X = np.empty((num_samples, sequence_length, num_features), dtype=np.float32)\n",
        "    y = np.empty(num_samples, dtype=np.float32)\n",
        "    for i in range(num_samples - sequence_length + 1):\n",
        "        X[i] = df.iloc[i:i + sequence_length][sequential_features].values\n",
        "        y[i] = df.loc[df.index[i + sequence_length - 1], target_column]\n",
        "    X[num_samples - sequence_length + 1:] = X[num_samples - sequence_length]\n",
        "    y[num_samples - sequence_length + 1:] = y[num_samples - sequence_length]\n",
        "    return X, y"
      ]
    },
    {
      "cell_type": "markdown",
      "metadata": {
        "id": "hFEkppOR73ZX"
      },
      "source": [
        "#**Intergrate into Pipeline**"
      ]
    },
    {
      "cell_type": "code",
      "execution_count": null,
      "metadata": {
        "id": "2Em8ryqlN6uW"
      },
      "outputs": [],
      "source": [
        "# Intergrate into Pipeline\n",
        "def preprocess_and_split_dataset(df, participant_id_column, time_column, sorted_seq_data, df_non_sequential_filtered, target_column, sequence_length):\n",
        "    # Step 1: Sort dataset\n",
        "    # sorted_seq_data = sort_sequential_data(df, participant_id_column, time_column, sequential_features, non_sequential_features, target_column)\n",
        "\n",
        "    # Step 2: Split dataset by participants\n",
        "    train_seq, val_seq, test_seq = split_sequential_data_by_participants(sorted_seq_data, participant_id_column)\n",
        "\n",
        "    # Step 3: Normalize sequential data\n",
        "    train_seq, val_seq, test_seq, scaler = normalize_sequential_data(train_seq, val_seq, test_seq, sequential_features)\n",
        "\n",
        "    # Step 4: Prepare sequential data for LSTM\n",
        "    X_train_seq, y_train_seq = prepare_lstm_data(train_seq, sequential_features, target_column, sequence_length)\n",
        "    X_val_seq, y_val_seq = prepare_lstm_data(val_seq, sequential_features, target_column, sequence_length)\n",
        "    X_test_seq, y_test_seq = prepare_lstm_data(test_seq, sequential_features, target_column, sequence_length)\n",
        "\n",
        "    # Step 5: Split non-sequential data\n",
        "    X_train_non_seq = train_seq[df_non_sequential_filtered.columns].values\n",
        "    X_val_non_seq = val_seq[df_non_sequential_filtered.columns].values\n",
        "    X_test_non_seq = test_seq[df_non_sequential_filtered.columns].values\n",
        "\n",
        "\n",
        "    return (X_train_seq, y_train_seq, X_val_seq, y_val_seq, X_test_seq, y_test_seq,\n",
        "            X_train_non_seq, X_val_non_seq, X_test_non_seq)"
      ]
    },
    {
      "cell_type": "code",
      "execution_count": null,
      "metadata": {
        "id": "Ne9yYhm5SJ4E"
      },
      "outputs": [],
      "source": [
        "# Call\n",
        "df = df\n",
        "# Call the sort_sequential_data function to create sorted_seq_data\n",
        "sorted_seq_data = sort_sequential_data(df, participant_id_column, time_column, sequential_features, df_non_sequential_filtered, target_column)  # Assign the output to sorted_seq_data\n",
        "df_non_sequential_filtered = df_non_sequential_filtered\n",
        "participant_id_column = 'hashed_NACCID'\n",
        "time_column = 'NACCVNUM'\n",
        "target_column = 'NACCUDSD'\n",
        "sequence_length = 10\n",
        "\n",
        "(X_train_seq, y_train_seq, X_val_seq, y_val_seq, X_test_seq, y_test_seq,\n",
        "            X_train_non_seq, X_val_non_seq, X_test_non_seq) = \\\n",
        "preprocess_and_split_dataset(df, participant_id_column, time_column, sorted_seq_data,\n",
        "                              df_non_sequential_filtered, target_column, sequence_length)"
      ]
    },
    {
      "cell_type": "markdown",
      "metadata": {
        "id": "VnkQaAJoJbtG"
      },
      "source": [
        "#**Build the parellel model**"
      ]
    },
    {
      "cell_type": "code",
      "execution_count": null,
      "metadata": {
        "id": "CyfWUcj_t1IG"
      },
      "outputs": [],
      "source": [
        "def build_parallel_model(input_shape_seq, input_shape_non_seq, num_classes, lstm_units=32, dense_units=16, dropout_rate=0.6):\n",
        "    \"\"\"\n",
        "    Builds a Parallel LSTM and Feedforward Network with Feature Fusion.\n",
        "    \"\"\"\n",
        "    # Sequential Input and LSTM\n",
        "    seq_input = Input(shape=input_shape_seq, name=\"Sequential_Input\")\n",
        "    lstm_out = LSTM(lstm_units, return_sequences=False, kernel_regularizer=l2(1e-4), name=\"LSTM\")(seq_input)\n",
        "    lstm_out = BatchNormalization(name=\"LSTM_BatchNorm\")(lstm_out)\n",
        "    lstm_out = Dropout(dropout_rate, name=\"LSTM_Dropout\")(lstm_out)\n",
        "\n",
        "    # Non-Sequential Input and Feedforward Network\n",
        "    non_seq_input = Input(shape=input_shape_non_seq, name=\"Non_Sequential_Input\")\n",
        "    dense_out = Dense(dense_units, activation=\"relu\", kernel_regularizer=l2(1e-4), name=\"Feedforward\")(non_seq_input)\n",
        "    dense_out = BatchNormalization(name=\"Feedforward_BatchNorm\")(dense_out)\n",
        "    dense_out = Dropout(dropout_rate, name=\"Feedforward_Dropout\")(dense_out)\n",
        "\n",
        "    # Combine Outputs\n",
        "    concatenated = Concatenate(name=\"Feature_Fusion\")([lstm_out, dense_out])\n",
        "\n",
        "    # Add Final Dense Layers\n",
        "    x = Dropout(dropout_rate, name=\"Dropout\")(concatenated)\n",
        "    output = Dense(num_classes, activation=\"softmax\", name=\"Output\")(x)\n",
        "\n",
        "    # Build and Compile Model\n",
        "    model = Model(inputs=[seq_input, non_seq_input], outputs=output)\n",
        "    model.compile(optimizer=\"adam\", loss=\"sparse_categorical_crossentropy\", metrics=[\"accuracy\"])\n",
        "\n",
        "    return model\n"
      ]
    },
    {
      "cell_type": "code",
      "execution_count": null,
      "metadata": {
        "id": "rWaEAwHOL5Av"
      },
      "outputs": [],
      "source": [
        "\n",
        "# Before training, build the model:\n",
        "input_shape_seq = X_train_seq.shape[1:]  # Get the shape of sequential data (excluding batch size)\n",
        "input_shape_non_seq = X_train_non_seq.shape[1:]  # Get the shape of non-sequential data (excluding batch size)\n",
        "num_classes = len(np.unique(y_train_seq))  # Dynamically get the number of unique classes in the target column the NACCUDSD target\n",
        "\n",
        "model = build_parallel_model(input_shape_seq, input_shape_non_seq, num_classes)\n"
      ]
    },
    {
      "cell_type": "markdown",
      "metadata": {
        "id": "gFjQiogVKMjk"
      },
      "source": [
        "#**Train Model**"
      ]
    },
    {
      "cell_type": "code",
      "execution_count": null,
      "metadata": {
        "id": "C24TJq65x8gn",
        "colab": {
          "base_uri": "https://localhost:8080/"
        },
        "outputId": "e7d1c6f2-f3f8-4f2b-e5b4-b70ba15d030f"
      },
      "outputs": [
        {
          "output_type": "stream",
          "name": "stdout",
          "text": [
            "Epoch 1/20\n",
            "\u001b[1m4000/4000\u001b[0m \u001b[32m━━━━━━━━━━━━━━━━━━━━\u001b[0m\u001b[37m\u001b[0m \u001b[1m31s\u001b[0m 7ms/step - accuracy: 0.8136 - loss: 0.6283 - val_accuracy: 0.9959 - val_loss: 0.0466\n",
            "Epoch 2/20\n",
            "\u001b[1m4000/4000\u001b[0m \u001b[32m━━━━━━━━━━━━━━━━━━━━\u001b[0m\u001b[37m\u001b[0m \u001b[1m29s\u001b[0m 7ms/step - accuracy: 0.9592 - loss: 0.1612 - val_accuracy: 0.9976 - val_loss: 0.0432\n",
            "Epoch 3/20\n",
            "\u001b[1m4000/4000\u001b[0m \u001b[32m━━━━━━━━━━━━━━━━━━━━\u001b[0m\u001b[37m\u001b[0m \u001b[1m29s\u001b[0m 7ms/step - accuracy: 0.9675 - loss: 0.1314 - val_accuracy: 0.9981 - val_loss: 0.0422\n",
            "Epoch 4/20\n",
            "\u001b[1m4000/4000\u001b[0m \u001b[32m━━━━━━━━━━━━━━━━━━━━\u001b[0m\u001b[37m\u001b[0m \u001b[1m29s\u001b[0m 7ms/step - accuracy: 0.9701 - loss: 0.1271 - val_accuracy: 0.9980 - val_loss: 0.0406\n",
            "Epoch 5/20\n",
            "\u001b[1m4000/4000\u001b[0m \u001b[32m━━━━━━━━━━━━━━━━━━━━\u001b[0m\u001b[37m\u001b[0m \u001b[1m28s\u001b[0m 7ms/step - accuracy: 0.9710 - loss: 0.1195 - val_accuracy: 0.9984 - val_loss: 0.0417\n",
            "Epoch 6/20\n",
            "\u001b[1m4000/4000\u001b[0m \u001b[32m━━━━━━━━━━━━━━━━━━━━\u001b[0m\u001b[37m\u001b[0m \u001b[1m28s\u001b[0m 7ms/step - accuracy: 0.9718 - loss: 0.1220 - val_accuracy: 0.9983 - val_loss: 0.0389\n",
            "Epoch 7/20\n",
            "\u001b[1m4000/4000\u001b[0m \u001b[32m━━━━━━━━━━━━━━━━━━━━\u001b[0m\u001b[37m\u001b[0m \u001b[1m28s\u001b[0m 7ms/step - accuracy: 0.9716 - loss: 0.1184 - val_accuracy: 0.9982 - val_loss: 0.0396\n",
            "Epoch 8/20\n",
            "\u001b[1m4000/4000\u001b[0m \u001b[32m━━━━━━━━━━━━━━━━━━━━\u001b[0m\u001b[37m\u001b[0m \u001b[1m28s\u001b[0m 7ms/step - accuracy: 0.9721 - loss: 0.1238 - val_accuracy: 0.9983 - val_loss: 0.0385\n",
            "Epoch 9/20\n",
            "\u001b[1m4000/4000\u001b[0m \u001b[32m━━━━━━━━━━━━━━━━━━━━\u001b[0m\u001b[37m\u001b[0m \u001b[1m29s\u001b[0m 7ms/step - accuracy: 0.9726 - loss: 0.1191 - val_accuracy: 0.9985 - val_loss: 0.0403\n",
            "Epoch 10/20\n",
            "\u001b[1m4000/4000\u001b[0m \u001b[32m━━━━━━━━━━━━━━━━━━━━\u001b[0m\u001b[37m\u001b[0m \u001b[1m28s\u001b[0m 7ms/step - accuracy: 0.9712 - loss: 0.1187 - val_accuracy: 0.9983 - val_loss: 0.0391\n",
            "Epoch 11/20\n",
            "\u001b[1m4000/4000\u001b[0m \u001b[32m━━━━━━━━━━━━━━━━━━━━\u001b[0m\u001b[37m\u001b[0m \u001b[1m28s\u001b[0m 7ms/step - accuracy: 0.9729 - loss: 0.1163 - val_accuracy: 0.9984 - val_loss: 0.0378\n",
            "Epoch 12/20\n",
            "\u001b[1m4000/4000\u001b[0m \u001b[32m━━━━━━━━━━━━━━━━━━━━\u001b[0m\u001b[37m\u001b[0m \u001b[1m28s\u001b[0m 7ms/step - accuracy: 0.9717 - loss: 0.1213 - val_accuracy: 0.9985 - val_loss: 0.0406\n",
            "Epoch 13/20\n",
            "\u001b[1m4000/4000\u001b[0m \u001b[32m━━━━━━━━━━━━━━━━━━━━\u001b[0m\u001b[37m\u001b[0m \u001b[1m28s\u001b[0m 7ms/step - accuracy: 0.9748 - loss: 0.1120 - val_accuracy: 0.9984 - val_loss: 0.0380\n",
            "Epoch 14/20\n",
            "\u001b[1m4000/4000\u001b[0m \u001b[32m━━━━━━━━━━━━━━━━━━━━\u001b[0m\u001b[37m\u001b[0m \u001b[1m28s\u001b[0m 7ms/step - accuracy: 0.9733 - loss: 0.1118 - val_accuracy: 0.9985 - val_loss: 0.0376\n",
            "Epoch 15/20\n",
            "\u001b[1m4000/4000\u001b[0m \u001b[32m━━━━━━━━━━━━━━━━━━━━\u001b[0m\u001b[37m\u001b[0m \u001b[1m28s\u001b[0m 7ms/step - accuracy: 0.9700 - loss: 0.1281 - val_accuracy: 0.9982 - val_loss: 0.0410\n",
            "Epoch 16/20\n",
            "\u001b[1m4000/4000\u001b[0m \u001b[32m━━━━━━━━━━━━━━━━━━━━\u001b[0m\u001b[37m\u001b[0m \u001b[1m28s\u001b[0m 7ms/step - accuracy: 0.9724 - loss: 0.1165 - val_accuracy: 0.9983 - val_loss: 0.0382\n",
            "Epoch 17/20\n",
            "\u001b[1m4000/4000\u001b[0m \u001b[32m━━━━━━━━━━━━━━━━━━━━\u001b[0m\u001b[37m\u001b[0m \u001b[1m28s\u001b[0m 7ms/step - accuracy: 0.9728 - loss: 0.1132 - val_accuracy: 0.9984 - val_loss: 0.0363\n",
            "Epoch 18/20\n",
            "\u001b[1m4000/4000\u001b[0m \u001b[32m━━━━━━━━━━━━━━━━━━━━\u001b[0m\u001b[37m\u001b[0m \u001b[1m28s\u001b[0m 7ms/step - accuracy: 0.9733 - loss: 0.1118 - val_accuracy: 0.9981 - val_loss: 0.0366\n",
            "Epoch 19/20\n",
            "\u001b[1m4000/4000\u001b[0m \u001b[32m━━━━━━━━━━━━━━━━━━━━\u001b[0m\u001b[37m\u001b[0m \u001b[1m27s\u001b[0m 7ms/step - accuracy: 0.9731 - loss: 0.1137 - val_accuracy: 0.9984 - val_loss: 0.0368\n",
            "Epoch 20/20\n",
            "\u001b[1m4000/4000\u001b[0m \u001b[32m━━━━━━━━━━━━━━━━━━━━\u001b[0m\u001b[37m\u001b[0m \u001b[1m28s\u001b[0m 7ms/step - accuracy: 0.9658 - loss: 0.1619 - val_accuracy: 0.9983 - val_loss: 0.0394\n",
            "\u001b[1m861/861\u001b[0m \u001b[32m━━━━━━━━━━━━━━━━━━━━\u001b[0m\u001b[37m\u001b[0m \u001b[1m3s\u001b[0m 3ms/step - accuracy: 0.9977 - loss: 0.0392\n",
            "Test Results: Loss = 0.03780093044042587, Accuracy = 0.9979674816131592\n"
          ]
        }
      ],
      "source": [
        "def data_generator(seq_data, non_seq_data, targets, batch_size, shuffle=True):\n",
        "    \"\"\"\n",
        "    Generator for yielding aligned batches of sequential and non-sequential data.\n",
        "\n",
        "    Parameters:\n",
        "        seq_data (ndarray): Sequential input data (e.g., LSTM input).\n",
        "        non_seq_data (ndarray): Non-sequential input data (e.g., feedforward input).\n",
        "        targets (ndarray): Target labels.\n",
        "        batch_size (int): Number of samples per batch.\n",
        "        shuffle (bool): Whether to shuffle data at the start of each epoch.\n",
        "\n",
        "    Yields:\n",
        "        (tuple): Batch of sequential data, non-sequential data, and targets.\n",
        "    \"\"\"\n",
        "    num_samples = len(seq_data)\n",
        "    assert len(seq_data) == len(non_seq_data) == len(targets), \"Input arrays must have the same length\"\n",
        "\n",
        "    indices = np.arange(num_samples)  # Index array\n",
        "\n",
        "    while True:\n",
        "        if shuffle:\n",
        "            np.random.shuffle(indices)  # Shuffle indices at the start of each epoch\n",
        "\n",
        "        for start in range(0, num_samples, batch_size):\n",
        "            end = min(start + batch_size, num_samples)\n",
        "            batch_indices = indices[start:end]\n",
        "\n",
        "            yield (\n",
        "                (seq_data[batch_indices], non_seq_data[batch_indices]),\n",
        "                targets[batch_indices]\n",
        "            )\n",
        "\n",
        "# Define batch size\n",
        "batch_size = 32\n",
        "\n",
        "# Training and validation data generators\n",
        "train_generator = data_generator(X_train_seq, X_train_non_seq, y_train_seq, batch_size, shuffle=True)\n",
        "val_generator = data_generator(X_val_seq, X_val_non_seq, y_val_seq, batch_size, shuffle=False)  # Shuffle set to false No need to shuffle validation.\n",
        "\n",
        "# Steps per epoch\n",
        "steps_per_epoch_train = np.ceil(len(X_train_seq) / batch_size).astype(int)\n",
        "steps_per_epoch_val = np.ceil(len(X_val_seq) / batch_size).astype(int)\n",
        "\n",
        "# Test generator (no shuffling needed)\n",
        "test_generator = data_generator(X_test_seq, X_test_non_seq, y_test_seq, batch_size, shuffle=False)\n",
        "steps_per_test = np.ceil(len(X_test_seq) / batch_size).astype(int)\n",
        "\n",
        "# Define output signatures for the generators\n",
        "output_signature = (\n",
        "    (\n",
        "        tf.TensorSpec(shape=(None, *X_train_seq.shape[1:]), dtype=tf.float32),  # Sequential input signature\n",
        "        tf.TensorSpec(shape=(None, *X_train_non_seq.shape[1:]), dtype=tf.float32)  # Non-sequential input signature\n",
        "    ),\n",
        "    tf.TensorSpec(shape=(None,), dtype=tf.float32)  # Target signature\n",
        ")\n",
        "\n",
        "# Create data generators with output_signature\n",
        "train_generator = tf.data.Dataset.from_generator(\n",
        "    lambda: data_generator(X_train_seq, X_train_non_seq, y_train_seq, batch_size, shuffle=True),\n",
        "    output_signature=output_signature\n",
        ")\n",
        "\n",
        "val_generator = tf.data.Dataset.from_generator(\n",
        "    lambda: data_generator(X_val_seq, X_val_non_seq, y_val_seq, batch_size, shuffle=False),\n",
        "    output_signature=output_signature\n",
        ")\n",
        "\n",
        "test_generator = tf.data.Dataset.from_generator(\n",
        "    lambda: data_generator(X_test_seq, X_test_non_seq, y_test_seq, batch_size, shuffle=False),\n",
        "    output_signature=output_signature\n",
        ")\n",
        "\n",
        "# Train the model using the generators\n",
        "history = model.fit(\n",
        "    train_generator,\n",
        "    steps_per_epoch=steps_per_epoch_train,\n",
        "    validation_data=val_generator,\n",
        "    validation_steps=steps_per_epoch_val,\n",
        "    epochs=20,\n",
        "    callbacks=[  # Callbacks added for better training control\n",
        "        EarlyStopping(monitor='val_loss', patience=5, restore_best_weights=True),\n",
        "        ModelCheckpoint('best_model.keras', save_best_only=True, monitor='val_loss')\n",
        "    ]\n",
        ")\n",
        "# Evaluate the model on the test set\n",
        "steps_per_test = len(y_test_seq) // batch_size  # Adjust based on test set size and batch size\n",
        "evaluation_results = model.evaluate(test_generator, steps=steps_per_test)\n",
        "print(f\"Test Results: Loss = {evaluation_results[0]}, Accuracy = {evaluation_results[1]}\")"
      ]
    },
    {
      "cell_type": "code",
      "source": [
        "# Function to plot training and validation trends\n",
        "def plot_training_history(history):\n",
        "    \"\"\"\n",
        "    Plot training and validation accuracy and loss over epochs.\n",
        "\n",
        "    Parameters:\n",
        "        history (History object): The training history returned by model.fit().\n",
        "    \"\"\"\n",
        "    # Extract metrics\n",
        "    acc = history.history.get('accuracy', None)\n",
        "    val_acc = history.history.get('val_accuracy', None)\n",
        "    loss = history.history.get('loss', None)\n",
        "    val_loss = history.history.get('val_loss', None)\n",
        "\n",
        "    epochs = range(1, len(loss) + 1)\n",
        "\n",
        "    # Plot accuracy\n",
        "    if acc and val_acc:\n",
        "        plt.figure(figsize=(12, 5))\n",
        "\n",
        "        # Accuracy subplot\n",
        "        plt.subplot(1, 2, 1)\n",
        "        plt.plot(epochs, acc, 'b-', label='Training Accuracy')\n",
        "        plt.plot(epochs, val_acc, 'r-', label='Validation Accuracy')\n",
        "        plt.title('Training and Validation Accuracy')\n",
        "        plt.xlabel('Epochs')\n",
        "        plt.ylabel('Accuracy')\n",
        "        plt.legend()\n",
        "\n",
        "    # Plot loss\n",
        "    if loss and val_loss:\n",
        "        # Loss subplot\n",
        "        plt.subplot(1, 2, 2)\n",
        "        plt.plot(epochs, loss, 'b-', label='Training Loss')\n",
        "        plt.plot(epochs, val_loss, 'r-', label='Validation Loss')\n",
        "        plt.title('Training and Validation Loss')\n",
        "        plt.xlabel('Epochs')\n",
        "        plt.ylabel('Loss')\n",
        "        plt.legend()\n",
        "\n",
        "    plt.tight_layout()\n",
        "    plt.show()\n",
        "\n",
        "# Call the plotting function with the history object\n",
        "plot_training_history(history)\n"
      ],
      "metadata": {
        "colab": {
          "base_uri": "https://localhost:8080/",
          "height": 507
        },
        "id": "LKvRITdd70bo",
        "outputId": "cac6b78b-6db5-4f4f-c24b-69f8615b7a8f"
      },
      "execution_count": null,
      "outputs": [
        {
          "output_type": "display_data",
          "data": {
            "text/plain": [
              "<Figure size 1200x500 with 2 Axes>"
            ],
            "image/png": "[encoded data removed]"
          },
          "metadata": {}
        }
      ]
    },
    {
      "cell_type": "markdown",
      "metadata": {
        "id": "sIVGIWJvKb0n"
      },
      "source": [
        "#**Custom Metrics and Confusion Matrix with Predictions**"
      ]
    },
    {
      "cell_type": "code",
      "execution_count": null,
      "metadata": {
        "id": "_gaI2HaKKacS",
        "colab": {
          "base_uri": "https://localhost:8080/",
          "height": 790
        },
        "outputId": "ccd19f47-83e5-4343-ae33-b51d45b845be"
      },
      "outputs": [
        {
          "output_type": "stream",
          "name": "stdout",
          "text": [
            "\u001b[1m861/861\u001b[0m \u001b[32m━━━━━━━━━━━━━━━━━━━━\u001b[0m\u001b[37m\u001b[0m \u001b[1m3s\u001b[0m 3ms/step\n",
            "Precision: 0.9980\n",
            "Recall: 0.9980\n",
            "F1 Score: 0.9979\n"
          ]
        },
        {
          "output_type": "display_data",
          "data": {
            "text/plain": [
              "<Figure size 1000x800 with 2 Axes>"
            ],
            "image/png": "[encoded data removed]"
          },
          "metadata": {}
        }
      ],
      "source": [
        "# Define class names corresponding to the mapped values in the target column\n",
        "# Example: Replace the values below with the actual class names in your dataset\n",
        "class_names = [ 'Normal cognition', 'Impaired-not-MCI', 'MCI', 'AD']  # Replace with your actual feature names\n",
        "\n",
        "# Get predictions\n",
        "y_pred_probs = model.predict(test_generator, steps=steps_per_test)\n",
        "y_pred = np.argmax(y_pred_probs, axis=1)\n",
        "\n",
        "# Calculate additional metrics\n",
        "\n",
        "# Acessess y_test_seq to confirm it matches generator output\n",
        "precision = precision_score(y_test_seq[:len(y_pred)], y_pred, average='weighted')\n",
        "recall = recall_score(y_test_seq[:len(y_pred)], y_pred, average='weighted')\n",
        "f1 = f1_score(y_test_seq[:len(y_pred)], y_pred, average='weighted')\n",
        "cm = confusion_matrix(y_test_seq[:len(y_pred)], y_pred)\n",
        "\n",
        "print(f\"Precision: {precision:.4f}\")\n",
        "print(f\"Recall: {recall:.4f}\")\n",
        "print(f\"F1 Score: {f1:.4f}\")\n",
        "\n",
        "# Confusion Matrix Plot with feature names\n",
        "plt.figure(figsize=(10, 8))\n",
        "sns.heatmap(cm, annot=True, fmt='d', cmap='Blues', xticklabels=class_names, yticklabels=class_names)\n",
        "plt.xlabel('Predicted')\n",
        "plt.ylabel('True')\n",
        "plt.title('Confusion Matrix')\n",
        "plt.show()\n"
      ]
    },
    {
      "cell_type": "code",
      "execution_count": null,
      "metadata": {
        "id": "ahyFzIANK9kQ"
      },
      "outputs": [],
      "source": [
        "model.save('Hybrid_LSTM&Feedforward.keras')"
      ]
    },
    {
      "cell_type": "code",
      "source": [],
      "metadata": {
        "id": "ieP3LmcVCyZB"
      },
      "execution_count": null,
      "outputs": []
    },
    {
      "cell_type": "code",
      "source": [],
      "metadata": {
        "id": "-KY2BeriCybu"
      },
      "execution_count": null,
      "outputs": []
    }
  ],
  "metadata": {
    "colab": {
      "provenance": [],
      "gpuType": "V28"
    },
    "kernelspec": {
      "display_name": "Python 3",
      "name": "python3"
    },
    "language_info": {
      "name": "python"
    },
    "accelerator": "TPU"
  },
  "nbformat": 4,
  "nbformat_minor": 0
}