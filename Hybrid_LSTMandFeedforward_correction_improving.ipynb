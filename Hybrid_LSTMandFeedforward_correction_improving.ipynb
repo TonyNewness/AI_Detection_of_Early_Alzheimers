{
  "cells": [
    {
      "cell_type": "code",
      "execution_count": null,
      "metadata": {
        "id": "d2QmoSWnDldF"
      },
      "outputs": [],
      "source": [
        "!pip install imblearn --quiet\n",
        "!pip install tensorflow --quiet"
      ]
    },
    {
      "cell_type": "code",
      "execution_count": null,
      "metadata": {
        "id": "gxGEmGoVDgn_"
      },
      "outputs": [],
      "source": [
        "import pandas as pd\n",
        "import numpy as np\n",
        "from sklearn.model_selection import train_test_split\n",
        "from sklearn.preprocessing import StandardScaler\n",
        "from sklearn.metrics import accuracy_score, precision_score, recall_score, f1_score, confusion_matrix\n",
        "import seaborn as sns\n",
        "import matplotlib.pyplot as plt\n",
        "import torch\n",
        "import torch.nn as nn\n",
        "import torch.optim as optim\n",
        "from torch.utils.data import Dataset, DataLoader, TensorDataset\n",
        "from torch.nn.utils.rnn import pad_sequence, pack_padded_sequence, pad_packed_sequence\n",
        "from sklearn.preprocessing import LabelEncoder\n",
        "from sklearn.utils import class_weight\n",
        "from imblearn.over_sampling import RandomOverSampler\n",
        "from sklearn.preprocessing import MinMaxScaler\n",
        "from torch.nn import CrossEntropyLoss\n",
        "from sklearn.tree import DecisionTreeClassifier\n",
        "from sklearn.utils.class_weight import compute_class_weight\n",
        "import tensorflow as tf\n",
        "from tensorflow.keras.models import Sequential\n",
        "from tensorflow.keras.layers import LSTM, Dense, Dropout\n",
        "from tensorflow.keras.optimizers import Adam\n",
        "from tensorflow.keras.utils import to_categorical\n",
        "from keras.callbacks import EarlyStopping\n",
        "from tensorflow.keras.layers import Input # Import the Input object\n",
        "from tensorflow.keras.models import Model # Import the Model object\n",
        "from tensorflow.keras.layers import Input, LSTM, Dense, Concatenate, Dropout,BatchNormalization\n",
        "from tensorflow.keras.regularizers import l2\n",
        "from tensorflow.keras.callbacks import EarlyStopping, ModelCheckpoint"
      ]
    },
    {
      "cell_type": "code",
      "execution_count": null,
      "metadata": {
        "colab": {
          "base_uri": "https://localhost:8080/"
        },
        "id": "O4JsBJPnHOSK",
        "outputId": "ab45928b-c338-4321-89c1-b4cb88ab177a"
      },
      "outputs": [
        {
          "output_type": "stream",
          "name": "stdout",
          "text": [
            "Mounted at /content/drive\n"
          ]
        }
      ],
      "source": [
        "# Import google drive where dataset is stored\n",
        "from google.colab import drive\n",
        "drive.mount('/content/drive')"
      ]
    },
    {
      "cell_type": "code",
      "execution_count": null,
      "metadata": {
        "id": "7JW-vsM6HOVY"
      },
      "outputs": [],
      "source": [
        "csv_file = \"/content/drive/MyDrive/Colab_Notebooks1/investigator_nacc63.csv\"\n",
        "df = pd.read_csv(csv_file, low_memory=False)"
      ]
    },
    {
      "cell_type": "markdown",
      "metadata": {
        "id": "rALryf3nIqj3"
      },
      "source": [
        "#**Data Processing**"
      ]
    },
    {
      "cell_type": "code",
      "execution_count": null,
      "metadata": {
        "id": "Ynk80a8QHOYa"
      },
      "outputs": [],
      "source": [
        "def preprocess_dataset(df, target_column):\n",
        "    \"\"\"\n",
        "    Preprocessing dataset for the neural network models.\n",
        "\n",
        "    Args:\n",
        "        df: The pandas DataFrame containing the data.\n",
        "        target_column: The name of the target variable.\n",
        "\n",
        "    Returns:\n",
        "        df: The updated DataFrame with preprocessed data.\n",
        "    \"\"\"\n",
        "    # Handle `-4` as missing value\n",
        "    df.replace(-4, np.nan, inplace=True)\n",
        "\n",
        "    # Handle infinite and missing values in numerical columns\n",
        "    numerical_columns = df.select_dtypes(include=['float64', 'int64']).columns\n",
        "    df[numerical_columns] = df[numerical_columns].replace([np.inf, -np.inf], np.nan).fillna(0)\n",
        "\n",
        "    # Identify categorical columns (excluding the target column, unique IDs, and class_description)\n",
        "    categorical_cols = [\n",
        "        col for col in df.select_dtypes(include=['object', 'category']).columns\n",
        "        if col != 'NACCID' and col != target_column and col != 'class_description'\n",
        "    ]\n",
        "\n",
        "    # Handle missing values for categorical columns and encode them\n",
        "    for col in categorical_cols:\n",
        "        df[col] = df[col].fillna('missing')  # Replace NaN with a placeholder\n",
        "        df[col] = LabelEncoder().fit_transform(df[col].astype(str))  # Encode as integers\n",
        "\n",
        "    # Hash the NACCID column and concatenate all changes at once\n",
        "    if 'NACCID' in df.columns:\n",
        "        # Apply hash function and create a new DataFrame for hashed values\n",
        "        hashed_ids = df['NACCID'].apply(lambda x: int(hash(x) % (10**9))).to_frame('hashed_NACCID')\n",
        "        df = pd.concat([df, hashed_ids], axis=1)  # Concatenate the hashed IDs with the original DataFrame\n",
        "        df.drop(columns=['NACCID'], inplace=True)  # Drop the original NACCID column\n",
        "\n",
        "    # Mapping for the target variable\n",
        "    class_mapping = {\n",
        "        1: 0,  # Normal cognition\n",
        "        2: 1,  # Impaired-not-MCI\n",
        "        3: 2,  # MCI\n",
        "        4: 3   # AD\n",
        "    }\n",
        "    class_descriptions = {\n",
        "        0: 'Normal cognition',\n",
        "        1: 'Impaired-not-MCI',\n",
        "        2: 'MCI',\n",
        "        3: 'AD'\n",
        "    }\n",
        "\n",
        "    # Add a column with the original class descriptions\n",
        "    df['class_description'] = df[target_column].map(class_mapping).map(class_descriptions)\n",
        "\n",
        "    # Map the target column to numeric labels\n",
        "    df[target_column] = df[target_column].map(class_mapping)\n",
        "\n",
        "    # Check for unmapped or missing target values\n",
        "    if df[target_column].isnull().any():\n",
        "        raise ValueError(\n",
        "            f\"Target column '{target_column}' contains unmapped or missing values. Ensure all classes are included in the mapping.\"\n",
        "        )\n",
        "\n",
        "    # Confirm that no columns (excluding 'class_description') have 'object' or 'category' dtype remaining\n",
        "    categorical_cols_to_check = [col for col in df.columns if col != 'class_description']\n",
        "    if any(dtype in ['object', 'category'] for dtype in df[categorical_cols_to_check].dtypes.values):\n",
        "        raise ValueError(\"Some categorical columns (excluding 'class_description') are still of object or category dtype. Ensure all are encoded.\")\n",
        "\n",
        "    return df\n",
        "\n",
        "# Apply function\n",
        "df = preprocess_dataset(df, 'NACCUDSD')"
      ]
    },
    {
      "cell_type": "code",
      "execution_count": null,
      "metadata": {
        "colab": {
          "base_uri": "https://localhost:8080/"
        },
        "id": "w4xwfZbe_9MY",
        "outputId": "cab16266-ea16-4567-95cd-501cdf84aab7"
      },
      "outputs": [
        {
          "output_type": "stream",
          "name": "stdout",
          "text": [
            "<class 'pandas.core.frame.DataFrame'>\n",
            "RangeIndex: 183097 entries, 0 to 183096\n",
            "Columns: 1025 entries, NACCADC to class_description\n",
            "dtypes: float64(734), int64(290), object(1)\n",
            "memory usage: 1.4+ GB\n"
          ]
        }
      ],
      "source": [
        "df.info()"
      ]
    },
    {
      "cell_type": "markdown",
      "metadata": {
        "id": "BTh9glXk1qFh"
      },
      "source": [
        "#**Data analysis and exploration to determine threshold for sequential feature**"
      ]
    },
    {
      "cell_type": "code",
      "execution_count": null,
      "metadata": {
        "colab": {
          "base_uri": "https://localhost:8080/",
          "height": 623
        },
        "id": "CsKwazel1d-y",
        "outputId": "b571ec35-5464-4def-8c63-781fa7940ed8"
      },
      "outputs": [
        {
          "output_type": "display_data",
          "data": {
            "text/plain": [
              "<Figure size 800x600 with 1 Axes>"
            ],
            "image/png": "[encoded data removed]"
          },
          "metadata": {}
        },
        {
          "output_type": "stream",
          "name": "stdout",
          "text": [
            "75th Percentile: 1.1592305635951683\n",
            "90th Percentile: 5.231969657449739\n",
            "95th Percentile: 18.974334215908577\n"
          ]
        }
      ],
      "source": [
        "import matplotlib.pyplot as plt\n",
        "import numpy as np\n",
        "\n",
        "def analyze_std_distribution(df, participant_id_column, time_column):\n",
        "    \"\"\"\n",
        "    Analyse standard deviation distribution of numeric features across participants.\n",
        "\n",
        "    Args:\n",
        "        df: Input DataFrame.\n",
        "        participant_id_column: Column indicating participant ID.\n",
        "        time_column: Column indicating visit number.\n",
        "\n",
        "    Returns:\n",
        "        std_values: Dictionary of standard deviations for each numeric feature.\n",
        "        numeric_cols: List of numeric columns analyzed.\n",
        "        percentiles: Dictionary containing the 75th, 90th, and 95th percentiles.\n",
        "    \"\"\"\n",
        "    # Sort by participant and time columns\n",
        "    df = df.sort_values(by=[participant_id_column, time_column]).reset_index(drop=True)\n",
        "\n",
        "    # Select numeric columns, excluding participant ID and time columns\n",
        "    numeric_cols = [col for col in df.select_dtypes(include=['float64', 'int64']).columns\n",
        "                    if col not in [participant_id_column, time_column]]\n",
        "\n",
        "    # Group by participant and calculate standard deviations\n",
        "    groups = df.groupby(participant_id_column)\n",
        "    std_values = {col: groups[col].std().mean() for col in numeric_cols}\n",
        "\n",
        "    # Calculate the percentiles for standard deviations\n",
        "    std_list = list(std_values.values())\n",
        "    percentile_75 = np.percentile(std_list, 75)\n",
        "    percentile_90 = np.percentile(std_list, 90)\n",
        "    percentile_95 = np.percentile(std_list, 95)\n",
        "\n",
        "    # Plot histogram of standard deviations\n",
        "    plt.figure(figsize=(8, 6))\n",
        "    plt.hist(std_list, bins=30, color='skyblue', edgecolor='black', alpha=0.7)\n",
        "    plt.title(\"Distribution of Standard Deviations Across Features\", fontsize=14)\n",
        "    plt.xlabel(\"Standard Deviation\", fontsize=12)\n",
        "    plt.ylabel(\"Frequency\", fontsize=12)\n",
        "\n",
        "    # Plot vertical lines for percentiles\n",
        "    plt.axvline(x=percentile_75, color='orange', linestyle='--', label=f'75th Percentile: {percentile_75:.2f}')\n",
        "    plt.axvline(x=percentile_90, color='green', linestyle='--', label=f'90th Percentile: {percentile_90:.2f}')\n",
        "    plt.axvline(x=percentile_95, color='red', linestyle='--', label=f'95th Percentile: {percentile_95:.2f}')\n",
        "\n",
        "    # Add mean line\n",
        "    mean_std = np.mean(std_list)\n",
        "    plt.axvline(x=mean_std, color='blue', linestyle='-', label=f'Mean: {mean_std:.2f}')\n",
        "\n",
        "    # Add legend\n",
        "    plt.legend(loc='upper right')\n",
        "\n",
        "    # Display the plot\n",
        "    plt.show()\n",
        "\n",
        "    # Return the std values, numeric columns, and percentiles\n",
        "    percentiles = {\n",
        "        '75th_percentile': percentile_75,\n",
        "        '90th_percentile': percentile_90,\n",
        "        '95th_percentile': percentile_95\n",
        "    }\n",
        "\n",
        "    return std_values, numeric_cols, percentiles\n",
        "\n",
        "# Function call\n",
        "std_values, numeric_cols, percentiles = analyze_std_distribution(\n",
        "    df,\n",
        "    participant_id_column='hashed_NACCID',\n",
        "    time_column='NACCVNUM'\n",
        ")\n",
        "\n",
        "# Now, you can dynamically access percentiles like this:\n",
        "print(f\"75th Percentile: {percentiles['75th_percentile']}\")\n",
        "print(f\"90th Percentile: {percentiles['90th_percentile']}\")\n",
        "print(f\"95th Percentile: {percentiles['95th_percentile']}\")\n"
      ]
    },
    {
      "cell_type": "code",
      "execution_count": null,
      "metadata": {
        "id": "4pz0vo6R68lL"
      },
      "outputs": [],
      "source": [
        "# downcasting of data types for memeory efficiency\n",
        "\n",
        "# Identify and downcast suitable columns before preprocessing\n",
        "for column in df.select_dtypes(include=['int64']).columns:\n",
        "    if df[column].max() < np.iinfo(np.int32).max and df[column].min() > np.iinfo(np.int32).min:\n",
        "        df[column] = df[column].astype('int32')\n",
        "    elif df[column].max() < np.iinfo(np.int16).max and df[column].min() > np.iinfo(np.int16).min:\n",
        "        df[column] = df[column].astype('int16')\n",
        "\n",
        "for column in df.select_dtypes(include=['float64']).columns:\n",
        "    df[column] = df[column].astype('float32')\n",
        "\n"
      ]
    },
    {
      "cell_type": "code",
      "execution_count": null,
      "metadata": {
        "colab": {
          "base_uri": "https://localhost:8080/"
        },
        "id": "SxXXzlK4CgqL",
        "outputId": "e6210647-77b3-419b-ea14-9e486e2adddb"
      },
      "outputs": [
        {
          "output_type": "stream",
          "name": "stdout",
          "text": [
            "NACCADC       int32\n",
            "PACKET        int32\n",
            "FORMVER     float32\n",
            "VISITMO       int32\n",
            "VISITDAY      int32\n",
            "             ...   \n",
            "NPATGFRN    float32\n",
            "NPATGFR1    float32\n",
            "NPATGFR2    float32\n",
            "NPATGFR3    float32\n",
            "NPATGFR4    float32\n",
            "Length: 1022, dtype: object\n"
          ]
        }
      ],
      "source": [
        "print(df[numeric_cols].dtypes)  # Check before processing"
      ]
    },
    {
      "cell_type": "markdown",
      "metadata": {
        "id": "5taiaBytxK9D"
      },
      "source": [
        "#**Identify sequential features for LSTM**"
      ]
    },
    {
      "cell_type": "code",
      "execution_count": null,
      "metadata": {
        "id": "q5rcTIMSBJCy"
      },
      "outputs": [],
      "source": [
        "def identify_sequential_features(\n",
        "    df, participant_id_column, time_column, target_column, percentiles\n",
        "):\n",
        "    \"\"\"\n",
        "    Automatically identify sequential features by checking variability across visits.\n",
        "\n",
        "    Args:\n",
        "        df: Input DataFrame.\n",
        "        participant_id_column: Column indicating participant ID.\n",
        "        time_column: Column indicating visit number.\n",
        "        percentiles: Dictionary containing percentiles for variability thresholds (e.g., 90th, 95th).\n",
        "\n",
        "    Returns:\n",
        "        sequential_features: List of identified sequential feature columns.\n",
        "    \"\"\"\n",
        "    # Select numeric columns, excluding participant ID, time column, and target column\n",
        "    numeric_cols = [\n",
        "        col for col in df.select_dtypes(include=['float64', 'int64', 'int32', 'float32']).columns\n",
        "        if col not in [participant_id_column, time_column, target_column, 'class_description']\n",
        "    ]\n",
        "\n",
        "    sequential_features = []\n",
        "\n",
        "    # Extract the dynamic threshold (90th percentile)\n",
        "    threshold = percentiles['90th_percentile']\n",
        "\n",
        "    # Group by participant and calculate variability for each feature\n",
        "    groups = df.groupby(participant_id_column)\n",
        "    for col in numeric_cols:\n",
        "        # Compute standard deviation across visits for each participant\n",
        "        std_per_participant = groups[col].std()\n",
        "\n",
        "        # Check if the feature exceeds the threshold for variability (90th percentile)\n",
        "        if (std_per_participant > threshold).any():\n",
        "            sequential_features.append(col)\n",
        "\n",
        "    # Ensure only numeric features are selected\n",
        "    sequential_features = [\n",
        "        col for col in sequential_features if col in df.select_dtypes(include=['float32', 'float64', 'int32', 'int64']).columns\n",
        "    ]\n",
        "\n",
        "    # Print and return the identified sequential features\n",
        "    print(f\"Identified Sequential Features (Threshold={threshold}): {sequential_features}\")\n",
        "    return sequential_features\n"
      ]
    },
    {
      "cell_type": "code",
      "execution_count": null,
      "metadata": {
        "colab": {
          "base_uri": "https://localhost:8080/"
        },
        "id": "92Sfe63OBVm_",
        "outputId": "3ada33ca-4795-48b9-b36b-d074619777a4"
      },
      "outputs": [
        {
          "output_type": "stream",
          "name": "stdout",
          "text": [
            "Identified Sequential Features (Threshold=5.231969657449739): ['NACCADC', 'VISITMO', 'VISITDAY', 'VISITYR', 'NACCDAYS', 'NACCFDYS', 'BIRTHYR', 'MARISTAT', 'NACCLIVS', 'INDEPEND', 'RESIDENC', 'INBIRMO', 'INBIRYR', 'INHISP', 'INHISPOR', 'INHISPOX', 'NACCNINR', 'INRACE', 'INRACEX', 'INRASEC', 'INRASECX', 'INRATER', 'INRATERX', 'INEDUC', 'INRELTOX', 'INKNOWN', 'INVISITS', 'INCALLS', 'DRUG1', 'DRUG2', 'DRUG3', 'DRUG4', 'DRUG5', 'DRUG6', 'DRUG7', 'DRUG8', 'DRUG9', 'DRUG10', 'DRUG11', 'DRUG12', 'DRUG13', 'DRUG14', 'DRUG15', 'DRUG16', 'DRUG17', 'DRUG18', 'DRUG19', 'DRUG20', 'DRUG21', 'DRUG22', 'DRUG23', 'DRUG24', 'DRUG25', 'DRUG26', 'DRUG27', 'DRUG28', 'DRUG29', 'DRUG30', 'DRUG31', 'DRUG32', 'DRUG33', 'DRUG34', 'DRUG35', 'TOBAC30', 'TOBAC100', 'SMOKYRS', 'PACKSPER', 'QUITSMOK', 'ALCOCCAS', 'ALCFREQ', 'CVHATT', 'HATTMULT', 'HATTYEAR', 'CVAFIB', 'CVANGIO', 'CVBYPASS', 'CVPACDEF', 'CVPACE', 'CVCHF', 'CVANGINA', 'CVHVALVE', 'CVOTHR', 'CVOTHRX', 'CBSTROKE', 'STROKMUL', 'CBTIA', 'TIAMULT', 'PD', 'PDYR', 'PDOTHR', 'PDOTHRYR', 'SEIZURES', 'NACCTBI', 'TBI', 'TBIBRIEF', 'TRAUMBRF', 'TBIEXTEN', 'TRAUMEXT', 'TBIWOLOS', 'TRAUMCHR', 'TBIYEAR', 'NCOTHR', 'NCOTHRX', 'DIABETES', 'DIABTYPE', 'HYPERTEN', 'HYPERCHO', 'B12DEF', 'THYROID', 'ARTHRIT', 'ARTHTYPE', 'ARTHTYPX', 'ARTHUPEX', 'ARTHLOEX', 'ARTHSPIN', 'ARTHUNK', 'INCONTU', 'INCONTF', 'APNEA', 'RBD', 'INSOMN', 'OTHSLEEP', 'OTHSLEEX', 'ALCOHOL', 'ABUSOTHR', 'ABUSX', 'PTSD', 'BIPOLAR', 'SCHIZ', 'DEP2YRS', 'DEPOTHR', 'ANXIETY', 'OCD', 'NPSYDEV', 'PSYCDIS', 'PSYCDISX', 'HEIGHT', 'WEIGHT', 'BPSYS', 'BPDIAS', 'HRATE', 'VISION', 'VISCORR', 'VISWCORR', 'HEARING', 'HEARAID', 'HEARWAID', 'HACHIN', 'CVDCOG', 'STROKCOG', 'CVDIMAG', 'CVDIMAG1', 'CVDIMAG2', 'CVDIMAG3', 'CVDIMAG4', 'CVDIMAGX', 'PDNORMAL', 'SPEECH', 'SPEECHX', 'FACEXP', 'FACEXPX', 'TRESTFAC', 'TRESTFAX', 'TRESTRHD', 'TRESTRHX', 'TRESTLHD', 'TRESTLHX', 'TRESTRFT', 'TRESTRFX', 'TRESTLFT', 'TRESTLFX', 'TRACTRHD', 'TRACTRHX', 'TRACTLHD', 'TRACTLHX', 'RIGDNECK', 'RIGDNEX', 'RIGDUPRT', 'RIGDUPRX', 'RIGDUPLF', 'RIGDUPLX', 'RIGDLORT', 'RIGDLORX', 'RIGDLOLF', 'RIGDLOLX', 'TAPSRT', 'TAPSRTX', 'TAPSLF', 'TAPSLFX', 'HANDMOVR', 'HANDMVRX', 'HANDMOVL', 'HANDMVLX', 'HANDALTR', 'HANDATRX', 'HANDALTL', 'HANDATLX', 'LEGRT', 'LEGRTX', 'LEGLF', 'LEGLFX', 'ARISING', 'ARISINGX', 'POSTURE', 'POSTUREX', 'GAIT', 'GAITX', 'POSSTAB', 'POSSTABX', 'BRADYKIN', 'BRADYKIX', 'MEMORY', 'ORIENT', 'JUDGMENT', 'COMMUN', 'HOMEHOBB', 'PERSCARE', 'CDRSUM', 'CDRGLOB', 'COMPORT', 'CDRLANG', 'NPIQINFX', 'DEL', 'DELSEV', 'HALL', 'HALLSEV', 'AGIT', 'AGITSEV', 'DEPD', 'DEPDSEV', 'ANX', 'ANXSEV', 'ELAT', 'ELATSEV', 'APA', 'APASEV', 'DISN', 'DISNSEV', 'IRR', 'IRRSEV', 'MOT', 'MOTSEV', 'NITE', 'NITESEV', 'APP', 'APPSEV', 'SATIS', 'DROPACT', 'EMPTY', 'BORED', 'SPIRITS', 'AFRAID', 'HAPPY', 'HELPLESS', 'STAYHOME', 'MEMPROB', 'WONDRFUL', 'WRTHLESS', 'ENERGY', 'HOPELESS', 'BETTER', 'NACCGDS', 'BILLS', 'TAXES', 'SHOPPING', 'GAMES', 'STOVE', 'MEALPREP', 'EVENTS', 'PAYATTN', 'REMDATES', 'TRAVEL', 'NACCNREX', 'FOCLDEF', 'GAITDIS', 'EYEMOVE', 'RESTTRL', 'RESTTRR', 'SLOWINGL', 'SLOWINGR', 'RIGIDL', 'RIGIDR', 'BRADY', 'PARKGAIT', 'POSTINST', 'CORTDEF', 'SIVDFIND', 'CVDMOTL', 'CVDMOTR', 'CORTVISL', 'CORTVISR', 'SOMATL', 'SOMATR', 'EYEPSP', 'DYSPSP', 'AXIALPSP', 'GAITPSP', 'APRAXSP', 'APRAXL', 'APRAXR', 'CORTSENL', 'CORTSENR', 'ATAXL', 'ATAXR', 'ALIENLML', 'ALIENLMR', 'DYSTONL', 'DYSTONR', 'MYOCLLT', 'MYOCLRT', 'OTHNEURX', 'DECSUB', 'DECIN', 'COGMEM', 'COGORI', 'COGJUDG', 'COGLANG', 'COGVIS', 'COGATTN', 'COGFLUC', 'COGFLAGO', 'COGOTHR', 'COGOTHRX', 'NACCCOGF', 'NACCCGFX', 'COGMODE', 'COGMODEX', 'DECAGE', 'BEAPATHY', 'BEDEP', 'BEVHALL', 'BEVWELL', 'BEVHAGO', 'BEAHALL', 'BEDEL', 'BEDISIN', 'BEIRRIT', 'BEAGIT', 'BEPERCH', 'BEREM', 'BEREMAGO', 'BEANX', 'BEOTHRX', 'NACCBEHF', 'NACCBEFX', 'BEMODE', 'BEMODEX', 'BEAGE', 'MOGAIT', 'MOFALLS', 'MOTREM', 'MOSLOW', 'NACCMOTF', 'MOMODE', 'MOMODEX', 'MOMOPARK', 'PARKAGE', 'MOMOALS', 'ALSAGE', 'MOAGE', 'COURSE', 'FRSTCHG', 'MMSELANX', 'MMSEORDA', 'MMSEORLO', 'PENTAGON', 'NACCMMSE', 'NPSYLANX', 'LOGIMO', 'LOGIDAY', 'LOGIYR', 'LOGIPREV', 'LOGIMEM', 'MEMUNITS', 'MEMTIME', 'UDSBENTC', 'UDSBENTD', 'UDSBENRS', 'DIGIF', 'DIGIFLEN', 'DIGIB', 'DIGIBLEN', 'ANIMALS', 'VEG', 'TRAILA', 'TRAILARR', 'TRAILALI', 'TRAILB', 'TRAILBRR', 'TRAILBLI', 'WAIS', 'BOSTON', 'UDSVERFC', 'UDSVERFN', 'UDSVERNF', 'UDSVERLC', 'UDSVERLR', 'UDSVERLN', 'UDSVERTN', 'UDSVERTE', 'UDSVERTI', 'MOCAREAS', 'MOCALANX', 'MOCATOTS', 'MOCATRAI', 'MOCACUBE', 'MOCACLOC', 'MOCACLON', 'MOCACLOH', 'MOCANAMI', 'MOCAREGI', 'MOCADIGI', 'MOCALETT', 'MOCASER7', 'MOCAREPE', 'MOCAFLUE', 'MOCAABST', 'MOCARECN', 'MOCARECC', 'MOCARECR', 'MOCAORDT', 'MOCAORMO', 'MOCAORYR', 'MOCAORDY', 'MOCAORPL', 'MOCAORCT', 'NACCMOCA', 'CRAFTVRS', 'CRAFTURS', 'DIGFORCT', 'DIGFORSL', 'DIGBACCT', 'DIGBACLS', 'CRAFTDVR', 'CRAFTDRE', 'CRAFTDTI', 'MINTTOTS', 'MINTTOTW', 'MINTSCNG', 'MINTSCNC', 'MINTPCNG', 'MINTPCNC', 'MOCBTOTS', 'NACCMOCB', 'REY1REC', 'REY1INT', 'REY2REC', 'REY2INT', 'REY3REC', 'REY3INT', 'REY4REC', 'REY4INT', 'REY5REC', 'REY5INT', 'REY6REC', 'REY6INT', 'OTRAILA', 'OTRLARR', 'OTRLALI', 'OTRAILB', 'OTRLBRR', 'OTRLBLI', 'REYDREC', 'REYDINT', 'REYTCOR', 'REYFPOS', 'VNTTOTW', 'VNTPCNC', 'RESPOTHX', 'AMNDEM', 'PCA', 'NACCPPA', 'NACCPPAG', 'NACCPPME', 'NACCBVFT', 'NACCLBDS', 'NAMNDEM', 'NACCMCIL', 'NACCMCIA', 'NACCMCIE', 'NACCMCIV', 'AMYLPET', 'AMYLCSF', 'FDGAD', 'HIPPATR', 'TAUPETAD', 'CSFTAU', 'FDGFTLD', 'TPETFTLD', 'MRFTLD', 'DATSCAN', 'OTHBIOMX', 'IMAGLINF', 'IMAGLAC', 'IMAGMACH', 'IMAGMICH', 'IMAGMWMH', 'IMAGEWMH', 'OTHMUT', 'OTHMUTX', 'NACCALZD', 'PROBAD', 'PROBADIF', 'POSSAD', 'POSSADIF', 'NACCLBDE', 'MSAIF', 'FTLDMOIF', 'FTLDNOIF', 'FTD', 'FTDIF', 'PPAPH', 'PPAPHIF', 'FTLDSUBT', 'FTLDSUBX', 'CVDIF', 'STROKDEC', 'STKIMAG', 'INFNETW', 'INFWMH', 'VASC', 'VASCIF', 'VASCPS', 'VASCPSIF', 'STROKIF', 'ESSTREIF', 'BRNINCTE', 'EPILEPIF', 'NEOPSTAT', 'HIVIF', 'OTHCOGIF', 'OTHCOGX', 'DEPTREAT', 'BIPOLDIF', 'SCHIZOIF', 'ANXIETIF', 'DELIRIF', 'PTSDDXIF', 'OTHPSYX', 'ALCDEM', 'ALCABUSE', 'IMPSUBIF', 'DEMUN', 'DEMUNIF', 'COGOTHX', 'COGOTH2F', 'COGOTH2X', 'COGOTH3F', 'COGOTH3X', 'NACCETPR', 'CANCER', 'CANCSITE', 'DIABET', 'MYOINF', 'CONGHRT', 'AFIBRILL', 'HYPERT', 'ANGINA', 'HYPCHOL', 'VB12DEF', 'THYDIS', 'ARTH', 'ARTYPE', 'ARTYPEX', 'ARTUPEX', 'ARTLOEX', 'ARTSPIN', 'ARTUNKN', 'URINEINC', 'BOWLINC', 'SLEEPAP', 'REMDIS', 'HYPOSOM', 'SLEEPOTH', 'SLEEPOTX', 'ANGIOCP', 'ANGIOPCI', 'PACEMAKE', 'HVALVE', 'ANTIENC', 'ANTIENCX', 'OTHCONDX', 'NACCAGEB', 'NACCAGE', 'NACCAMD', 'NACCBMI', 'NACCMOD', 'NACCYOD', 'NACCDSMO', 'NACCDSDY', 'NACCDSYR', 'ADGCRND', 'NACCDAGE', 'NACCINT']\n"
          ]
        }
      ],
      "source": [
        "# Calling the function\n",
        "sequential_features = identify_sequential_features(\n",
        "    df=df,\n",
        "    participant_id_column='hashed_NACCID',  # Participant ID column\n",
        "    time_column='NACCVNUM',                 # time column\n",
        "    target_column='NACCUDSD',               # Target column\n",
        "    percentiles=percentiles,                # Set an appropriate threshold\n",
        ")"
      ]
    },
    {
      "cell_type": "code",
      "execution_count": null,
      "metadata": {
        "colab": {
          "base_uri": "https://localhost:8080/"
        },
        "id": "jXVHo3nwCvYR",
        "outputId": "19e9691d-daf4-41c6-a4de-5c3d5ae88ab9"
      },
      "outputs": [
        {
          "output_type": "stream",
          "name": "stdout",
          "text": [
            "['NACCADC', 'VISITMO', 'VISITDAY', 'VISITYR', 'NACCDAYS', 'NACCFDYS', 'BIRTHYR', 'MARISTAT', 'NACCLIVS', 'INDEPEND', 'RESIDENC', 'INBIRMO', 'INBIRYR', 'INHISP', 'INHISPOR', 'INHISPOX', 'NACCNINR', 'INRACE', 'INRACEX', 'INRASEC', 'INRASECX', 'INRATER', 'INRATERX', 'INEDUC', 'INRELTOX', 'INKNOWN', 'INVISITS', 'INCALLS', 'DRUG1', 'DRUG2', 'DRUG3', 'DRUG4', 'DRUG5', 'DRUG6', 'DRUG7', 'DRUG8', 'DRUG9', 'DRUG10', 'DRUG11', 'DRUG12', 'DRUG13', 'DRUG14', 'DRUG15', 'DRUG16', 'DRUG17', 'DRUG18', 'DRUG19', 'DRUG20', 'DRUG21', 'DRUG22', 'DRUG23', 'DRUG24', 'DRUG25', 'DRUG26', 'DRUG27', 'DRUG28', 'DRUG29', 'DRUG30', 'DRUG31', 'DRUG32', 'DRUG33', 'DRUG34', 'DRUG35', 'TOBAC30', 'TOBAC100', 'SMOKYRS', 'PACKSPER', 'QUITSMOK', 'ALCOCCAS', 'ALCFREQ', 'CVHATT', 'HATTMULT', 'HATTYEAR', 'CVAFIB', 'CVANGIO', 'CVBYPASS', 'CVPACDEF', 'CVPACE', 'CVCHF', 'CVANGINA', 'CVHVALVE', 'CVOTHR', 'CVOTHRX', 'CBSTROKE', 'STROKMUL', 'CBTIA', 'TIAMULT', 'PD', 'PDYR', 'PDOTHR', 'PDOTHRYR', 'SEIZURES', 'NACCTBI', 'TBI', 'TBIBRIEF', 'TRAUMBRF', 'TBIEXTEN', 'TRAUMEXT', 'TBIWOLOS', 'TRAUMCHR', 'TBIYEAR', 'NCOTHR', 'NCOTHRX', 'DIABETES', 'DIABTYPE', 'HYPERTEN', 'HYPERCHO', 'B12DEF', 'THYROID', 'ARTHRIT', 'ARTHTYPE', 'ARTHTYPX', 'ARTHUPEX', 'ARTHLOEX', 'ARTHSPIN', 'ARTHUNK', 'INCONTU', 'INCONTF', 'APNEA', 'RBD', 'INSOMN', 'OTHSLEEP', 'OTHSLEEX', 'ALCOHOL', 'ABUSOTHR', 'ABUSX', 'PTSD', 'BIPOLAR', 'SCHIZ', 'DEP2YRS', 'DEPOTHR', 'ANXIETY', 'OCD', 'NPSYDEV', 'PSYCDIS', 'PSYCDISX', 'HEIGHT', 'WEIGHT', 'BPSYS', 'BPDIAS', 'HRATE', 'VISION', 'VISCORR', 'VISWCORR', 'HEARING', 'HEARAID', 'HEARWAID', 'HACHIN', 'CVDCOG', 'STROKCOG', 'CVDIMAG', 'CVDIMAG1', 'CVDIMAG2', 'CVDIMAG3', 'CVDIMAG4', 'CVDIMAGX', 'PDNORMAL', 'SPEECH', 'SPEECHX', 'FACEXP', 'FACEXPX', 'TRESTFAC', 'TRESTFAX', 'TRESTRHD', 'TRESTRHX', 'TRESTLHD', 'TRESTLHX', 'TRESTRFT', 'TRESTRFX', 'TRESTLFT', 'TRESTLFX', 'TRACTRHD', 'TRACTRHX', 'TRACTLHD', 'TRACTLHX', 'RIGDNECK', 'RIGDNEX', 'RIGDUPRT', 'RIGDUPRX', 'RIGDUPLF', 'RIGDUPLX', 'RIGDLORT', 'RIGDLORX', 'RIGDLOLF', 'RIGDLOLX', 'TAPSRT', 'TAPSRTX', 'TAPSLF', 'TAPSLFX', 'HANDMOVR', 'HANDMVRX', 'HANDMOVL', 'HANDMVLX', 'HANDALTR', 'HANDATRX', 'HANDALTL', 'HANDATLX', 'LEGRT', 'LEGRTX', 'LEGLF', 'LEGLFX', 'ARISING', 'ARISINGX', 'POSTURE', 'POSTUREX', 'GAIT', 'GAITX', 'POSSTAB', 'POSSTABX', 'BRADYKIN', 'BRADYKIX', 'MEMORY', 'ORIENT', 'JUDGMENT', 'COMMUN', 'HOMEHOBB', 'PERSCARE', 'CDRSUM', 'CDRGLOB', 'COMPORT', 'CDRLANG', 'NPIQINFX', 'DEL', 'DELSEV', 'HALL', 'HALLSEV', 'AGIT', 'AGITSEV', 'DEPD', 'DEPDSEV', 'ANX', 'ANXSEV', 'ELAT', 'ELATSEV', 'APA', 'APASEV', 'DISN', 'DISNSEV', 'IRR', 'IRRSEV', 'MOT', 'MOTSEV', 'NITE', 'NITESEV', 'APP', 'APPSEV', 'SATIS', 'DROPACT', 'EMPTY', 'BORED', 'SPIRITS', 'AFRAID', 'HAPPY', 'HELPLESS', 'STAYHOME', 'MEMPROB', 'WONDRFUL', 'WRTHLESS', 'ENERGY', 'HOPELESS', 'BETTER', 'NACCGDS', 'BILLS', 'TAXES', 'SHOPPING', 'GAMES', 'STOVE', 'MEALPREP', 'EVENTS', 'PAYATTN', 'REMDATES', 'TRAVEL', 'NACCNREX', 'FOCLDEF', 'GAITDIS', 'EYEMOVE', 'RESTTRL', 'RESTTRR', 'SLOWINGL', 'SLOWINGR', 'RIGIDL', 'RIGIDR', 'BRADY', 'PARKGAIT', 'POSTINST', 'CORTDEF', 'SIVDFIND', 'CVDMOTL', 'CVDMOTR', 'CORTVISL', 'CORTVISR', 'SOMATL', 'SOMATR', 'EYEPSP', 'DYSPSP', 'AXIALPSP', 'GAITPSP', 'APRAXSP', 'APRAXL', 'APRAXR', 'CORTSENL', 'CORTSENR', 'ATAXL', 'ATAXR', 'ALIENLML', 'ALIENLMR', 'DYSTONL', 'DYSTONR', 'MYOCLLT', 'MYOCLRT', 'OTHNEURX', 'DECSUB', 'DECIN', 'COGMEM', 'COGORI', 'COGJUDG', 'COGLANG', 'COGVIS', 'COGATTN', 'COGFLUC', 'COGFLAGO', 'COGOTHR', 'COGOTHRX', 'NACCCOGF', 'NACCCGFX', 'COGMODE', 'COGMODEX', 'DECAGE', 'BEAPATHY', 'BEDEP', 'BEVHALL', 'BEVWELL', 'BEVHAGO', 'BEAHALL', 'BEDEL', 'BEDISIN', 'BEIRRIT', 'BEAGIT', 'BEPERCH', 'BEREM', 'BEREMAGO', 'BEANX', 'BEOTHRX', 'NACCBEHF', 'NACCBEFX', 'BEMODE', 'BEMODEX', 'BEAGE', 'MOGAIT', 'MOFALLS', 'MOTREM', 'MOSLOW', 'NACCMOTF', 'MOMODE', 'MOMODEX', 'MOMOPARK', 'PARKAGE', 'MOMOALS', 'ALSAGE', 'MOAGE', 'COURSE', 'FRSTCHG', 'MMSELANX', 'MMSEORDA', 'MMSEORLO', 'PENTAGON', 'NACCMMSE', 'NPSYLANX', 'LOGIMO', 'LOGIDAY', 'LOGIYR', 'LOGIPREV', 'LOGIMEM', 'MEMUNITS', 'MEMTIME', 'UDSBENTC', 'UDSBENTD', 'UDSBENRS', 'DIGIF', 'DIGIFLEN', 'DIGIB', 'DIGIBLEN', 'ANIMALS', 'VEG', 'TRAILA', 'TRAILARR', 'TRAILALI', 'TRAILB', 'TRAILBRR', 'TRAILBLI', 'WAIS', 'BOSTON', 'UDSVERFC', 'UDSVERFN', 'UDSVERNF', 'UDSVERLC', 'UDSVERLR', 'UDSVERLN', 'UDSVERTN', 'UDSVERTE', 'UDSVERTI', 'MOCAREAS', 'MOCALANX', 'MOCATOTS', 'MOCATRAI', 'MOCACUBE', 'MOCACLOC', 'MOCACLON', 'MOCACLOH', 'MOCANAMI', 'MOCAREGI', 'MOCADIGI', 'MOCALETT', 'MOCASER7', 'MOCAREPE', 'MOCAFLUE', 'MOCAABST', 'MOCARECN', 'MOCARECC', 'MOCARECR', 'MOCAORDT', 'MOCAORMO', 'MOCAORYR', 'MOCAORDY', 'MOCAORPL', 'MOCAORCT', 'NACCMOCA', 'CRAFTVRS', 'CRAFTURS', 'DIGFORCT', 'DIGFORSL', 'DIGBACCT', 'DIGBACLS', 'CRAFTDVR', 'CRAFTDRE', 'CRAFTDTI', 'MINTTOTS', 'MINTTOTW', 'MINTSCNG', 'MINTSCNC', 'MINTPCNG', 'MINTPCNC', 'MOCBTOTS', 'NACCMOCB', 'REY1REC', 'REY1INT', 'REY2REC', 'REY2INT', 'REY3REC', 'REY3INT', 'REY4REC', 'REY4INT', 'REY5REC', 'REY5INT', 'REY6REC', 'REY6INT', 'OTRAILA', 'OTRLARR', 'OTRLALI', 'OTRAILB', 'OTRLBRR', 'OTRLBLI', 'REYDREC', 'REYDINT', 'REYTCOR', 'REYFPOS', 'VNTTOTW', 'VNTPCNC', 'RESPOTHX', 'AMNDEM', 'PCA', 'NACCPPA', 'NACCPPAG', 'NACCPPME', 'NACCBVFT', 'NACCLBDS', 'NAMNDEM', 'NACCMCIL', 'NACCMCIA', 'NACCMCIE', 'NACCMCIV', 'AMYLPET', 'AMYLCSF', 'FDGAD', 'HIPPATR', 'TAUPETAD', 'CSFTAU', 'FDGFTLD', 'TPETFTLD', 'MRFTLD', 'DATSCAN', 'OTHBIOMX', 'IMAGLINF', 'IMAGLAC', 'IMAGMACH', 'IMAGMICH', 'IMAGMWMH', 'IMAGEWMH', 'OTHMUT', 'OTHMUTX', 'NACCALZD', 'PROBAD', 'PROBADIF', 'POSSAD', 'POSSADIF', 'NACCLBDE', 'MSAIF', 'FTLDMOIF', 'FTLDNOIF', 'FTD', 'FTDIF', 'PPAPH', 'PPAPHIF', 'FTLDSUBT', 'FTLDSUBX', 'CVDIF', 'STROKDEC', 'STKIMAG', 'INFNETW', 'INFWMH', 'VASC', 'VASCIF', 'VASCPS', 'VASCPSIF', 'STROKIF', 'ESSTREIF', 'BRNINCTE', 'EPILEPIF', 'NEOPSTAT', 'HIVIF', 'OTHCOGIF', 'OTHCOGX', 'DEPTREAT', 'BIPOLDIF', 'SCHIZOIF', 'ANXIETIF', 'DELIRIF', 'PTSDDXIF', 'OTHPSYX', 'ALCDEM', 'ALCABUSE', 'IMPSUBIF', 'DEMUN', 'DEMUNIF', 'COGOTHX', 'COGOTH2F', 'COGOTH2X', 'COGOTH3F', 'COGOTH3X', 'NACCETPR', 'CANCER', 'CANCSITE', 'DIABET', 'MYOINF', 'CONGHRT', 'AFIBRILL', 'HYPERT', 'ANGINA', 'HYPCHOL', 'VB12DEF', 'THYDIS', 'ARTH', 'ARTYPE', 'ARTYPEX', 'ARTUPEX', 'ARTLOEX', 'ARTSPIN', 'ARTUNKN', 'URINEINC', 'BOWLINC', 'SLEEPAP', 'REMDIS', 'HYPOSOM', 'SLEEPOTH', 'SLEEPOTX', 'ANGIOCP', 'ANGIOPCI', 'PACEMAKE', 'HVALVE', 'ANTIENC', 'ANTIENCX', 'OTHCONDX', 'NACCAGEB', 'NACCAGE', 'NACCAMD', 'NACCBMI', 'NACCMOD', 'NACCYOD', 'NACCDSMO', 'NACCDSDY', 'NACCDSYR', 'ADGCRND', 'NACCDAGE', 'NACCINT']\n",
            "NACCADC     int32\n",
            "VISITMO     int32\n",
            "VISITDAY    int32\n",
            "VISITYR     int32\n",
            "NACCDAYS    int32\n",
            "            ...  \n",
            "NACCDSDY    int32\n",
            "NACCDSYR    int32\n",
            "ADGCRND     int32\n",
            "NACCDAGE    int32\n",
            "NACCINT     int32\n",
            "Length: 594, dtype: object\n"
          ]
        }
      ],
      "source": [
        "print(sequential_features)\n",
        "print(df[sequential_features].dtypes)"
      ]
    },
    {
      "cell_type": "code",
      "execution_count": null,
      "metadata": {
        "colab": {
          "base_uri": "https://localhost:8080/"
        },
        "id": "2VWhO_FPuUUm",
        "outputId": "f8413a52-ae6c-4754-be65-bcce01f7d759"
      },
      "outputs": [
        {
          "output_type": "stream",
          "name": "stdout",
          "text": [
            "False\n",
            "False\n",
            "False\n",
            "False\n"
          ]
        }
      ],
      "source": [
        "# check if sequential_features contains the following columns'hashed_NACCID', 'NACCVNUM', 'NACCUDSD', 'class_description'\n",
        "print('hashed_NACCID' in sequential_features)\n",
        "print('NACCVNUM' in sequential_features)\n",
        "print('NACCUDSD' in sequential_features)\n",
        "print('class_description' in sequential_features)"
      ]
    },
    {
      "cell_type": "code",
      "execution_count": null,
      "metadata": {
        "colab": {
          "base_uri": "https://localhost:8080/"
        },
        "id": "7ozZZumQuHf5",
        "outputId": "032fe137-a684-496a-f081-6b261bc12bef"
      },
      "outputs": [
        {
          "output_type": "stream",
          "name": "stdout",
          "text": [
            "Total Non-Sequential Features: 427\n",
            "Sample Non-Sequential Features: ['PACKET', 'FORMVER', 'NACCAVST', 'NACCNVST', 'NACCCORE', 'NACCREAS', 'NACCREFR', 'BIRTHMO', 'SEX', 'HISPANIC']\n"
          ]
        }
      ],
      "source": [
        "# Define columns to exclude from non-sequential features\n",
        "excluded_columns = sequential_features + ['hashed_NACCID', 'NACCVNUM', 'NACCUDSD', 'class_description']  # Add other irrelevant columns as needed\n",
        "\n",
        "# Identify remaining features not in sequential_features or excluded columns\n",
        "non_sequential_features = [col for col in df.columns if col not in excluded_columns]\n",
        "\n",
        "# Print the number of non-sequential features\n",
        "print(f\"Total Non-Sequential Features: {len(non_sequential_features)}\")\n",
        "print(f\"Sample Non-Sequential Features: {non_sequential_features[:10]}\")  # Display first 10 features"
      ]
    },
    {
      "cell_type": "code",
      "execution_count": null,
      "metadata": {
        "colab": {
          "base_uri": "https://localhost:8080/"
        },
        "id": "vKDYS0TUuvjd",
        "outputId": "dc249c6e-824f-4653-990b-bf69cdc5e9d9"
      },
      "outputs": [
        {
          "output_type": "stream",
          "name": "stdout",
          "text": [
            "0\n"
          ]
        }
      ],
      "source": [
        "# check how many non_sequential_features are in sequential_features\n",
        "print(len(set(non_sequential_features) & set(sequential_features)))"
      ]
    },
    {
      "cell_type": "code",
      "execution_count": null,
      "metadata": {
        "colab": {
          "base_uri": "https://localhost:8080/"
        },
        "id": "F6_wHXyqu-2Z",
        "outputId": "ef842f84-a803-4176-c5d3-c1311d33d114"
      },
      "outputs": [
        {
          "output_type": "stream",
          "name": "stdout",
          "text": [
            "False\n",
            "False\n",
            "False\n",
            "False\n"
          ]
        }
      ],
      "source": [
        "print('hashed_NACCID' in non_sequential_features)\n",
        "print('NACCVNUM' in non_sequential_features)\n",
        "print('NACCUDSD' in non_sequential_features)\n",
        "print('class_description' in non_sequential_features)"
      ]
    },
    {
      "cell_type": "code",
      "execution_count": null,
      "metadata": {
        "colab": {
          "base_uri": "https://localhost:8080/"
        },
        "id": "apNTdTa96lKL",
        "outputId": "83aaab7d-9bb7-4db4-c9f0-f58f0aff9ed5"
      },
      "outputs": [
        {
          "output_type": "stream",
          "name": "stdout",
          "text": [
            "Features retained after pruning:\n",
            "['PACKET', 'FORMVER', 'NACCAVST', 'NACCCORE', 'NACCREAS', 'NACCREFR', 'BIRTHMO', 'SEX', 'HISPANIC', 'HISPOR', 'HISPORX', 'RACE', 'RACEX', 'RACESEC', 'RACESECX', 'RACETER', 'RACETERX', 'PRIMLANG', 'PRIMLANX', 'EDUC', 'HANDED', 'INSEX', 'NEWINF', 'INRELTO', 'INLIVWTH', 'INRELY', 'NACCFAM', 'NACCMOM', 'NACCDAD', 'NACCAM', 'NACCAMX', 'NACCOMSX', 'NACCFADM', 'NACCFFTD', 'ANYMEDS', 'DRUG36', 'DRUG37', 'DRUG38', 'DRUG39', 'NACCSTYR', 'NACCTIYR', 'ABRUPT', 'STEPWISE', 'SOMATIC', 'EMOT', 'HXHYPER', 'HXSTROKE', 'FOCLSYM', 'FOCLSIGN', 'NPIQINF', 'NOGDS', 'NORMEXAM', 'PARKSIGN', 'CVDSIGNS', 'POSTCORT', 'PSPCBS', 'ALSFIND', 'GAITNPH', 'OTHNEUR', 'B9CHG', 'DECCLIN', 'DECCLCOG', 'DECCLBE', 'BEOTHR', 'DECCLMOT', 'LBDEVAL', 'FTLDEVAL', 'MMSECOMP', 'MMSELOC', 'MMSELAN', 'MMSEVIS', 'MMSEHEAR', 'NPSYCLOC', 'NPSYLAN', 'COGSTAT', 'NACCC1', 'MOCACOMP', 'MOCAVIS', 'MOCAHEAR', 'CRAFTCUE', 'NACCC2', 'MODCOMM', 'RESPHEAR', 'RESPDIST', 'RESPINTR', 'RESPDISN', 'RESPFATG', 'RESPEMOT', 'RESPASST', 'RESPOTH', 'WHODIDDX', 'NORMCOG', 'DEMENTED', 'NACCTMCI', 'NACCMCII', 'IMPNOMCI', 'OTHBIOM', 'NACCALZP', 'NACCLBDP', 'PARK', 'MSA', 'PSP', 'PSPIF', 'CORT', 'CORTIF', 'FTLDMO', 'FTLDNOS', 'CVD', 'PREVSTK', 'STROKE', 'ESSTREM', 'DOWNS', 'HUNT', 'PRION', 'BRNINJ', 'BRNINJIF', 'HYCEPH', 'EPILEP', 'NEOP', 'HIV', 'OTHCOG', 'DEP', 'DEPIF', 'BIPOLDX', 'SCHIZOP', 'ANXIET', 'DELIR', 'PTSDDX', 'OTHPSY', 'OTHPSYIF', 'IMPSUB', 'DYSILL', 'DYSILLIF', 'MEDS', 'MEDSIF', 'COGOTH', 'COGOTHIF', 'COGOTH2', 'COGOTH3', 'NACCADMU', 'NACCFTDM', 'OTHCOND', 'NACCNORM', 'NACCAAAS', 'NACCAANX', 'NACCAC', 'NACCACEI', 'NACCADEP', 'NACCADMD', 'NACCAHTN', 'NACCANGI', 'NACCAPSY', 'NACCBETA', 'NACCCCBS', 'NACCDBMD', 'NACCDIUR', 'NACCEMD', 'NACCEPMD', 'NACCHTNC', 'NACCLIPL', 'NACCNSD', 'NACCPDMD', 'NACCVASD', 'NACCDIED', 'NACCACTV', 'NACCNOVS', 'NACCNURP', 'NACCFTD', 'NACCMDSS', 'NACCPAFF', 'NACCLBDM', 'NACCACSF', 'NACCMRSA', 'NACCNMRI', 'NACCAPSA', 'TELCOV', 'ADGCGWAS', 'ADGCEXOM', 'ADGCEXR', 'NGDSGWAS', 'NGDSEXOM', 'NGDSWGS', 'NGDSWES', 'NACCNCRD', 'NACCAPOE', 'NPFORMVER', 'NPPMIH', 'NPFIX', 'NPFIXX', 'NPWBRWT', 'NACCBRNN', 'NPGRCCA', 'NPGRLA', 'NPGRHA', 'NPGRSNH', 'NPGRLCH', 'NACCAVAS', 'NPTAN', 'NPABAN', 'NPABANX', 'NPASAN', 'NPTDPAN', 'NPHISMB', 'NPHISG', 'NPHISSS', 'NPHIST', 'NPHISO', 'NPTHAL', 'NACCDIFF', 'NACCVASC', 'NACCAMY', 'NPINF', 'NPINF1A', 'NPINF1B', 'NPHEMO', 'NPOLD', 'NPOLD1', 'NPOLD2', 'NPOLD3', 'NPOLD4', 'NPOLDD', 'NACCARTE', 'NPWMR', 'NPPATH', 'NACCNEC', 'NPPATH7', 'NPPATH10', 'NPPATHO', 'NACCLEWY', 'NPLBOD', 'NPNLOSS', 'NPHIPSCL', 'NPFTDTAU', 'NPFTDT2', 'NPFTDT5', 'NPFTDT10', 'NPALSMND', 'NPOFTD', 'NPTDPA', 'NPTDPB', 'NPTDPC', 'NPTDPD', 'NPPDXA', 'NPPDXB', 'NACCPRIO', 'NPPDXD', 'NPPDXE', 'NPPDXP', 'NACCOTHP', 'NACCWRI1', 'NACCWRI2', 'NACCWRI3', 'NACCBNKF', 'NPBNKB', 'NACCCSFP', 'NPBNKF', 'NPFAUT', 'NPNIT', 'NPGENE', 'NPFHSPEC', 'NPOTH1X', 'NPOTH2X', 'NPOTH3X', 'NPARTAG', 'NPATGSEV', 'NPATGAMY', 'NPATGAM1', 'NPATGAM2', 'NPATGFRN', 'NPATGFR1']\n"
          ]
        }
      ],
      "source": [
        "# Set correlation threshold\n",
        "correlation_threshold = 0.85\n",
        "\n",
        "# Copy of features for iterative pruning\n",
        "remaining_features = non_sequential_features.copy()\n",
        "\n",
        "# Compute initial correlation matrix\n",
        "corr_matrix = df[remaining_features].corr().abs()\n",
        "\n",
        "while True:\n",
        "    # Select the upper triangle of the correlation matrix\n",
        "    upper_triangle = corr_matrix.where(np.triu(np.ones(corr_matrix.shape), k=1).astype(bool))\n",
        "\n",
        "    # Find the strongest correlation\n",
        "    max_corr = upper_triangle.max().max()\n",
        "\n",
        "    if max_corr < correlation_threshold:\n",
        "        # Stop if no correlations exceed the threshold\n",
        "        break\n",
        "\n",
        "    # Identify the pair of features with the strongest correlation\n",
        "    to_drop = upper_triangle.stack().idxmax()[1]  # Drop 'Feature_2' from the strongest pair\n",
        "\n",
        "    # Remove the feature from the remaining features\n",
        "    remaining_features.remove(to_drop)\n",
        "\n",
        "    # Drop the feature from the correlation matrix\n",
        "    corr_matrix = corr_matrix.loc[remaining_features, remaining_features]\n",
        "\n",
        "# Final filtered DataFrame\n",
        "df_non_sequential_filtered = df[remaining_features]\n",
        "\n",
        "# Print the features that were not eliminated\n",
        "print(\"Features retained after pruning:\")\n",
        "print(remaining_features)"
      ]
    },
    {
      "cell_type": "code",
      "execution_count": null,
      "metadata": {
        "id": "mmvc0pP3m7XR",
        "colab": {
          "base_uri": "https://localhost:8080/"
        },
        "outputId": "052b056f-0377-4935-f745-30b7890c3d4f"
      },
      "outputs": [
        {
          "output_type": "stream",
          "name": "stdout",
          "text": [
            "<class 'pandas.core.frame.DataFrame'>\n",
            "RangeIndex: 183097 entries, 0 to 183096\n",
            "Columns: 270 entries, PACKET to NPATGFR1\n",
            "dtypes: float32(179), int32(91)\n",
            "memory usage: 188.6 MB\n"
          ]
        }
      ],
      "source": [
        "df_non_sequential_filtered.info()"
      ]
    },
    {
      "cell_type": "markdown",
      "metadata": {
        "id": "A9xCWPNBJrXp"
      },
      "source": [
        "#**Building the Model**"
      ]
    },
    {
      "cell_type": "markdown",
      "metadata": {
        "id": "cSqBJzDBL1ZU"
      },
      "source": [
        "##**Preprocessing Sequential data**"
      ]
    },
    {
      "cell_type": "code",
      "execution_count": null,
      "metadata": {
        "id": "Fm9EKGWVERin"
      },
      "outputs": [],
      "source": [
        "def sort_sequential_data(df, participant_id_column, time_column, sequential_features, df_non_sequential_filtered, target_column):\n",
        "    \"\"\"\n",
        "    Sort sequential data by participant ID and time.\n",
        "\n",
        "    Args:\n",
        "        df: The pandas DataFrame containing the sequential data.\n",
        "        participant_id_column: Column indicating participant ID.\n",
        "        time_column: Column indicating visit number.\n",
        "        sequential_features: List of sequential feature columns.\n",
        "        non_sequential_features: List of non-sequential feature columns.\n",
        "        target_column: The name of the target variable column.\n",
        "\n",
        "    Returns:\n",
        "        sorted_seq_data: The sorted sequential data.\n",
        "    \"\"\"\n",
        "\n",
        "\n",
        "    seq_data = df[[participant_id_column, time_column] + sequential_features + non_sequential_features + [target_column]]\n",
        "    sorted_seq_data = seq_data.sort_values(by=[participant_id_column, time_column]).reset_index(drop=True)\n",
        "    return sorted_seq_data\n",
        "participant_id_column = 'hashed_NACCID'  # Define participant_id_column\n",
        "time_column = 'NACCVNUM'                # Define time_column\n",
        "target_column = 'NACCUDSD'              # Define target_column\n",
        "sorted_seq_data = sort_sequential_data(df, participant_id_column, time_column, sequential_features, df_non_sequential_filtered, target_column)"
      ]
    },
    {
      "cell_type": "code",
      "execution_count": null,
      "metadata": {
        "id": "X9x_FIgFEUxI"
      },
      "outputs": [],
      "source": [
        "def split_sequential_data_by_participants(sorted_seq_data, participant_id_column, train_ratio=0.7, val_ratio=0.15, test_ratio=0.15):\n",
        "    \"\"\"\n",
        "    Split sequential data into training, validation, and test sets by participants.\n",
        "\n",
        "    Args:\n",
        "        sorted_seq_data: The sorted sequential data.\n",
        "        participant_id_column: Column indicating participant ID.\n",
        "        train_ratio: Ratio for training set.\n",
        "        val_ratio: Ratio for validation set.\n",
        "        test_ratio: Ratio for test set.\n",
        "\n",
        "        Returns:\n",
        "        train_seq: Training set.\n",
        "        val_seq: Validation set.\n",
        "        test_seq: Test set.\n",
        "    \"\"\"\n",
        "    # Get unique participant IDs and shuffle them\n",
        "    participant_ids = sorted_seq_data[participant_id_column].unique()  # Get unique participant IDs\n",
        "    np.random.seed(42)\n",
        "    np.random.shuffle(participant_ids)\n",
        "    num_participants = len(participant_ids)\n",
        "    train_end = int(train_ratio * num_participants)\n",
        "    val_end = train_end + int(val_ratio * num_participants)\n",
        "    train_ids = participant_ids[:train_end]\n",
        "    val_ids = participant_ids[train_end:val_end]\n",
        "    test_ids = participant_ids[val_end:]\n",
        "    train_seq = sorted_seq_data[sorted_seq_data[participant_id_column].isin(train_ids)].reset_index(drop=True)\n",
        "    val_seq = sorted_seq_data[sorted_seq_data[participant_id_column].isin(val_ids)].reset_index(drop=True)\n",
        "    test_seq = sorted_seq_data[sorted_seq_data[participant_id_column].isin(test_ids)].reset_index(drop=True)\n",
        "    return train_seq, val_seq, test_seq"
      ]
    },
    {
      "cell_type": "code",
      "execution_count": null,
      "metadata": {
        "id": "UzeEJ9Z4EU0X"
      },
      "outputs": [],
      "source": [
        "def normalize_sequential_data(train_seq, val_seq, test_seq, sequential_features, scaler=None):\n",
        "    from sklearn.preprocessing import StandardScaler\n",
        "    if scaler is None:\n",
        "        scaler = StandardScaler()\n",
        "    scaler.fit(train_seq[sequential_features])\n",
        "    train_seq = train_seq.copy()\n",
        "    val_seq = val_seq.copy()\n",
        "    test_seq = test_seq.copy()\n",
        "\n",
        "    # Transform and cast to original dtype for train_seq\n",
        "    transformed_train = scaler.transform(train_seq[sequential_features])\n",
        "    for i, col in enumerate(sequential_features):\n",
        "        train_seq[col] = transformed_train[:, i].astype(train_seq[col].dtype)\n",
        "\n",
        "    # Transform and cast to original dtype for val_seq\n",
        "    transformed_val = scaler.transform(val_seq[sequential_features])\n",
        "    for i, col in enumerate(sequential_features):\n",
        "        val_seq[col] = transformed_val[:, i].astype(val_seq[col].dtype)\n",
        "\n",
        "    # Transform and cast to original dtype for test_seq\n",
        "    transformed_test = scaler.transform(test_seq[sequential_features])\n",
        "    for i, col in enumerate(sequential_features):\n",
        "        test_seq[col] = transformed_test[:, i].astype(test_seq[col].dtype)\n",
        "\n",
        "    return train_seq, val_seq, test_seq, scaler"
      ]
    },
    {
      "cell_type": "code",
      "execution_count": null,
      "metadata": {
        "id": "u8GGFVn7LCer"
      },
      "outputs": [],
      "source": [
        "def prepare_lstm_data(df, sequential_features, target_column, sequence_length):\n",
        "    num_samples = len(df)\n",
        "    num_features = len(sequential_features)\n",
        "    X = np.empty((num_samples, sequence_length, num_features), dtype=np.float32)\n",
        "    y = np.empty(num_samples, dtype=np.float32)\n",
        "    for i in range(num_samples - sequence_length + 1):\n",
        "        X[i] = df.iloc[i:i + sequence_length][sequential_features].values\n",
        "        y[i] = df.loc[df.index[i + sequence_length - 1], target_column]\n",
        "    X[num_samples - sequence_length + 1:] = X[num_samples - sequence_length]\n",
        "    y[num_samples - sequence_length + 1:] = y[num_samples - sequence_length]\n",
        "    return X, y"
      ]
    },
    {
      "cell_type": "markdown",
      "metadata": {
        "id": "hFEkppOR73ZX"
      },
      "source": [
        "#**Intergrate into Pipeline**"
      ]
    },
    {
      "cell_type": "code",
      "execution_count": null,
      "metadata": {
        "id": "2Em8ryqlN6uW"
      },
      "outputs": [],
      "source": [
        "# Intergrate into Pipeline\n",
        "def preprocess_and_split_dataset(df, participant_id_column, time_column, sorted_seq_data, df_non_sequential_filtered, target_column, sequence_length):\n",
        "    # Step 1: Sort dataset\n",
        "    # sorted_seq_data = sort_sequential_data(df, participant_id_column, time_column, sequential_features, non_sequential_features, target_column)\n",
        "\n",
        "    # Step 2: Split dataset by participants\n",
        "    train_seq, val_seq, test_seq = split_sequential_data_by_participants(sorted_seq_data, participant_id_column)\n",
        "\n",
        "    # Step 3: Normalize sequential data\n",
        "    train_seq, val_seq, test_seq, scaler = normalize_sequential_data(train_seq, val_seq, test_seq, sequential_features)\n",
        "\n",
        "    # Step 4: Prepare sequential data for LSTM\n",
        "    X_train_seq, y_train_seq = prepare_lstm_data(train_seq, sequential_features, target_column, sequence_length)\n",
        "    X_val_seq, y_val_seq = prepare_lstm_data(val_seq, sequential_features, target_column, sequence_length)\n",
        "    X_test_seq, y_test_seq = prepare_lstm_data(test_seq, sequential_features, target_column, sequence_length)\n",
        "\n",
        "    # Step 5: Split non-sequential data\n",
        "    X_train_non_seq = train_seq[df_non_sequential_filtered.columns].values\n",
        "    X_val_non_seq = val_seq[df_non_sequential_filtered.columns].values\n",
        "    X_test_non_seq = test_seq[df_non_sequential_filtered.columns].values\n",
        "\n",
        "\n",
        "    return (X_train_seq, y_train_seq, X_val_seq, y_val_seq, X_test_seq, y_test_seq,\n",
        "            X_train_non_seq, X_val_non_seq, X_test_non_seq)"
      ]
    },
    {
      "cell_type": "code",
      "execution_count": null,
      "metadata": {
        "id": "Ne9yYhm5SJ4E"
      },
      "outputs": [],
      "source": [
        "# Call\n",
        "df = df\n",
        "# Call the sort_sequential_data function to create sorted_seq_data\n",
        "sorted_seq_data = sort_sequential_data(df, participant_id_column, time_column, sequential_features, df_non_sequential_filtered, target_column)  # Assign the output to sorted_seq_data\n",
        "df_non_sequential_filtered = df_non_sequential_filtered\n",
        "participant_id_column = 'hashed_NACCID'\n",
        "time_column = 'NACCVNUM'\n",
        "target_column = 'NACCUDSD'\n",
        "sequence_length = 10\n",
        "\n",
        "(X_train_seq, y_train_seq, X_val_seq, y_val_seq, X_test_seq, y_test_seq,\n",
        "            X_train_non_seq, X_val_non_seq, X_test_non_seq) = \\\n",
        "preprocess_and_split_dataset(df, participant_id_column, time_column, sorted_seq_data,\n",
        "                              df_non_sequential_filtered, target_column, sequence_length)"
      ]
    },
    {
      "cell_type": "markdown",
      "metadata": {
        "id": "VnkQaAJoJbtG"
      },
      "source": [
        "#**Build the parellel model**"
      ]
    },
    {
      "cell_type": "code",
      "execution_count": null,
      "metadata": {
        "id": "CyfWUcj_t1IG"
      },
      "outputs": [],
      "source": [
        "def build_parallel_model(input_shape_seq, input_shape_non_seq, num_classes, lstm_units=32, dense_units=16, dropout_rate=0.6):\n",
        "    \"\"\"\n",
        "    Builds a Parallel LSTM and Feedforward Network with Feature Fusion.\n",
        "    \"\"\"\n",
        "    # Sequential Input and LSTM\n",
        "    seq_input = Input(shape=input_shape_seq, name=\"Sequential_Input\")\n",
        "    lstm_out = LSTM(lstm_units, return_sequences=False, kernel_regularizer=l2(1e-4), name=\"LSTM\")(seq_input)\n",
        "    lstm_out = BatchNormalization(name=\"LSTM_BatchNorm\")(lstm_out)\n",
        "    lstm_out = Dropout(dropout_rate, name=\"LSTM_Dropout\")(lstm_out)\n",
        "\n",
        "    # Non-Sequential Input and Feedforward Network\n",
        "    non_seq_input = Input(shape=input_shape_non_seq, name=\"Non_Sequential_Input\")\n",
        "    dense_out = Dense(dense_units, activation=\"relu\", kernel_regularizer=l2(1e-4), name=\"Feedforward\")(non_seq_input)\n",
        "    dense_out = BatchNormalization(name=\"Feedforward_BatchNorm\")(dense_out)\n",
        "    dense_out = Dropout(dropout_rate, name=\"Feedforward_Dropout\")(dense_out)\n",
        "\n",
        "    # Combine Outputs\n",
        "    concatenated = Concatenate(name=\"Feature_Fusion\")([lstm_out, dense_out])\n",
        "\n",
        "    # Add Final Dense Layers\n",
        "    x = Dropout(dropout_rate, name=\"Dropout\")(concatenated)\n",
        "    output = Dense(num_classes, activation=\"softmax\", name=\"Output\")(x)\n",
        "\n",
        "    # Build and Compile Model\n",
        "    model = Model(inputs=[seq_input, non_seq_input], outputs=output)\n",
        "    model.compile(optimizer=\"adam\", loss=\"sparse_categorical_crossentropy\", metrics=[\"accuracy\"])\n",
        "\n",
        "    return model\n"
      ]
    },
    {
      "cell_type": "code",
      "execution_count": null,
      "metadata": {
        "id": "rWaEAwHOL5Av"
      },
      "outputs": [],
      "source": [
        "\n",
        "# Before training, build the model:\n",
        "input_shape_seq = X_train_seq.shape[1:]  # Get the shape of sequential data (excluding batch size)\n",
        "input_shape_non_seq = X_train_non_seq.shape[1:]  # Get the shape of non-sequential data (excluding batch size)\n",
        "num_classes = len(np.unique(y_train_seq))  # Dynamically get the number of unique classes in the target column the NACCUDSD target\n",
        "\n",
        "model = build_parallel_model(input_shape_seq, input_shape_non_seq, num_classes)\n"
      ]
    },
    {
      "cell_type": "markdown",
      "metadata": {
        "id": "gFjQiogVKMjk"
      },
      "source": [
        "#**Train Model**"
      ]
    },
    {
      "cell_type": "code",
      "execution_count": null,
      "metadata": {
        "id": "C24TJq65x8gn",
        "colab": {
          "base_uri": "https://localhost:8080/"
        },
        "outputId": "e7d1c6f2-f3f8-4f2b-e5b4-b70ba15d030f"
      },
      "outputs": [
        {
          "output_type": "stream",
          "name": "stdout",
          "text": [
            "Epoch 1/20\n",
            "\u001b[1m4000/4000\u001b[0m \u001b[32m━━━━━━━━━━━━━━━━━━━━\u001b[0m\u001b[37m\u001b[0m \u001b[1m31s\u001b[0m 7ms/step - accuracy: 0.8136 - loss: 0.6283 - val_accuracy: 0.9959 - val_loss: 0.0466\n",
            "Epoch 2/20\n",
            "\u001b[1m4000/4000\u001b[0m \u001b[32m━━━━━━━━━━━━━━━━━━━━\u001b[0m\u001b[37m\u001b[0m \u001b[1m29s\u001b[0m 7ms/step - accuracy: 0.9592 - loss: 0.1612 - val_accuracy: 0.9976 - val_loss: 0.0432\n",
            "Epoch 3/20\n",
            "\u001b[1m4000/4000\u001b[0m \u001b[32m━━━━━━━━━━━━━━━━━━━━\u001b[0m\u001b[37m\u001b[0m \u001b[1m29s\u001b[0m 7ms/step - accuracy: 0.9675 - loss: 0.1314 - val_accuracy: 0.9981 - val_loss: 0.0422\n",
            "Epoch 4/20\n",
            "\u001b[1m4000/4000\u001b[0m \u001b[32m━━━━━━━━━━━━━━━━━━━━\u001b[0m\u001b[37m\u001b[0m \u001b[1m29s\u001b[0m 7ms/step - accuracy: 0.9701 - loss: 0.1271 - val_accuracy: 0.9980 - val_loss: 0.0406\n",
            "Epoch 5/20\n",
            "\u001b[1m4000/4000\u001b[0m \u001b[32m━━━━━━━━━━━━━━━━━━━━\u001b[0m\u001b[37m\u001b[0m \u001b[1m28s\u001b[0m 7ms/step - accuracy: 0.9710 - loss: 0.1195 - val_accuracy: 0.9984 - val_loss: 0.0417\n",
            "Epoch 6/20\n",
            "\u001b[1m4000/4000\u001b[0m \u001b[32m━━━━━━━━━━━━━━━━━━━━\u001b[0m\u001b[37m\u001b[0m \u001b[1m28s\u001b[0m 7ms/step - accuracy: 0.9718 - loss: 0.1220 - val_accuracy: 0.9983 - val_loss: 0.0389\n",
            "Epoch 7/20\n",
            "\u001b[1m4000/4000\u001b[0m \u001b[32m━━━━━━━━━━━━━━━━━━━━\u001b[0m\u001b[37m\u001b[0m \u001b[1m28s\u001b[0m 7ms/step - accuracy: 0.9716 - loss: 0.1184 - val_accuracy: 0.9982 - val_loss: 0.0396\n",
            "Epoch 8/20\n",
            "\u001b[1m4000/4000\u001b[0m \u001b[32m━━━━━━━━━━━━━━━━━━━━\u001b[0m\u001b[37m\u001b[0m \u001b[1m28s\u001b[0m 7ms/step - accuracy: 0.9721 - loss: 0.1238 - val_accuracy: 0.9983 - val_loss: 0.0385\n",
            "Epoch 9/20\n",
            "\u001b[1m4000/4000\u001b[0m \u001b[32m━━━━━━━━━━━━━━━━━━━━\u001b[0m\u001b[37m\u001b[0m \u001b[1m29s\u001b[0m 7ms/step - accuracy: 0.9726 - loss: 0.1191 - val_accuracy: 0.9985 - val_loss: 0.0403\n",
            "Epoch 10/20\n",
            "\u001b[1m4000/4000\u001b[0m \u001b[32m━━━━━━━━━━━━━━━━━━━━\u001b[0m\u001b[37m\u001b[0m \u001b[1m28s\u001b[0m 7ms/step - accuracy: 0.9712 - loss: 0.1187 - val_accuracy: 0.9983 - val_loss: 0.0391\n",
            "Epoch 11/20\n",
            "\u001b[1m4000/4000\u001b[0m \u001b[32m━━━━━━━━━━━━━━━━━━━━\u001b[0m\u001b[37m\u001b[0m \u001b[1m28s\u001b[0m 7ms/step - accuracy: 0.9729 - loss: 0.1163 - val_accuracy: 0.9984 - val_loss: 0.0378\n",
            "Epoch 12/20\n",
            "\u001b[1m4000/4000\u001b[0m \u001b[32m━━━━━━━━━━━━━━━━━━━━\u001b[0m\u001b[37m\u001b[0m \u001b[1m28s\u001b[0m 7ms/step - accuracy: 0.9717 - loss: 0.1213 - val_accuracy: 0.9985 - val_loss: 0.0406\n",
            "Epoch 13/20\n",
            "\u001b[1m4000/4000\u001b[0m \u001b[32m━━━━━━━━━━━━━━━━━━━━\u001b[0m\u001b[37m\u001b[0m \u001b[1m28s\u001b[0m 7ms/step - accuracy: 0.9748 - loss: 0.1120 - val_accuracy: 0.9984 - val_loss: 0.0380\n",
            "Epoch 14/20\n",
            "\u001b[1m4000/4000\u001b[0m \u001b[32m━━━━━━━━━━━━━━━━━━━━\u001b[0m\u001b[37m\u001b[0m \u001b[1m28s\u001b[0m 7ms/step - accuracy: 0.9733 - loss: 0.1118 - val_accuracy: 0.9985 - val_loss: 0.0376\n",
            "Epoch 15/20\n",
            "\u001b[1m4000/4000\u001b[0m \u001b[32m━━━━━━━━━━━━━━━━━━━━\u001b[0m\u001b[37m\u001b[0m \u001b[1m28s\u001b[0m 7ms/step - accuracy: 0.9700 - loss: 0.1281 - val_accuracy: 0.9982 - val_loss: 0.0410\n",
            "Epoch 16/20\n",
            "\u001b[1m4000/4000\u001b[0m \u001b[32m━━━━━━━━━━━━━━━━━━━━\u001b[0m\u001b[37m\u001b[0m \u001b[1m28s\u001b[0m 7ms/step - accuracy: 0.9724 - loss: 0.1165 - val_accuracy: 0.9983 - val_loss: 0.0382\n",
            "Epoch 17/20\n",
            "\u001b[1m4000/4000\u001b[0m \u001b[32m━━━━━━━━━━━━━━━━━━━━\u001b[0m\u001b[37m\u001b[0m \u001b[1m28s\u001b[0m 7ms/step - accuracy: 0.9728 - loss: 0.1132 - val_accuracy: 0.9984 - val_loss: 0.0363\n",
            "Epoch 18/20\n",
            "\u001b[1m4000/4000\u001b[0m \u001b[32m━━━━━━━━━━━━━━━━━━━━\u001b[0m\u001b[37m\u001b[0m \u001b[1m28s\u001b[0m 7ms/step - accuracy: 0.9733 - loss: 0.1118 - val_accuracy: 0.9981 - val_loss: 0.0366\n",
            "Epoch 19/20\n",
            "\u001b[1m4000/4000\u001b[0m \u001b[32m━━━━━━━━━━━━━━━━━━━━\u001b[0m\u001b[37m\u001b[0m \u001b[1m27s\u001b[0m 7ms/step - accuracy: 0.9731 - loss: 0.1137 - val_accuracy: 0.9984 - val_loss: 0.0368\n",
            "Epoch 20/20\n",
            "\u001b[1m4000/4000\u001b[0m \u001b[32m━━━━━━━━━━━━━━━━━━━━\u001b[0m\u001b[37m\u001b[0m \u001b[1m28s\u001b[0m 7ms/step - accuracy: 0.9658 - loss: 0.1619 - val_accuracy: 0.9983 - val_loss: 0.0394\n",
            "\u001b[1m861/861\u001b[0m \u001b[32m━━━━━━━━━━━━━━━━━━━━\u001b[0m\u001b[37m\u001b[0m \u001b[1m3s\u001b[0m 3ms/step - accuracy: 0.9977 - loss: 0.0392\n",
            "Test Results: Loss = 0.03780093044042587, Accuracy = 0.9979674816131592\n"
          ]
        }
      ],
      "source": [
        "def data_generator(seq_data, non_seq_data, targets, batch_size, shuffle=True):\n",
        "    \"\"\"\n",
        "    Generator for yielding aligned batches of sequential and non-sequential data.\n",
        "\n",
        "    Parameters:\n",
        "        seq_data (ndarray): Sequential input data (e.g., LSTM input).\n",
        "        non_seq_data (ndarray): Non-sequential input data (e.g., feedforward input).\n",
        "        targets (ndarray): Target labels.\n",
        "        batch_size (int): Number of samples per batch.\n",
        "        shuffle (bool): Whether to shuffle data at the start of each epoch.\n",
        "\n",
        "    Yields:\n",
        "        (tuple): Batch of sequential data, non-sequential data, and targets.\n",
        "    \"\"\"\n",
        "    num_samples = len(seq_data)\n",
        "    assert len(seq_data) == len(non_seq_data) == len(targets), \"Input arrays must have the same length\"\n",
        "\n",
        "    indices = np.arange(num_samples)  # Index array\n",
        "\n",
        "    while True:\n",
        "        if shuffle:\n",
        "            np.random.shuffle(indices)  # Shuffle indices at the start of each epoch\n",
        "\n",
        "        for start in range(0, num_samples, batch_size):\n",
        "            end = min(start + batch_size, num_samples)\n",
        "            batch_indices = indices[start:end]\n",
        "\n",
        "            yield (\n",
        "                (seq_data[batch_indices], non_seq_data[batch_indices]),\n",
        "                targets[batch_indices]\n",
        "            )\n",
        "\n",
        "# Define batch size\n",
        "batch_size = 32\n",
        "\n",
        "# Training and validation data generators\n",
        "train_generator = data_generator(X_train_seq, X_train_non_seq, y_train_seq, batch_size, shuffle=True)\n",
        "val_generator = data_generator(X_val_seq, X_val_non_seq, y_val_seq, batch_size, shuffle=False)  # Shuffle set to false No need to shuffle validation.\n",
        "\n",
        "# Steps per epoch\n",
        "steps_per_epoch_train = np.ceil(len(X_train_seq) / batch_size).astype(int)\n",
        "steps_per_epoch_val = np.ceil(len(X_val_seq) / batch_size).astype(int)\n",
        "\n",
        "# Test generator (no shuffling needed)\n",
        "test_generator = data_generator(X_test_seq, X_test_non_seq, y_test_seq, batch_size, shuffle=False)\n",
        "steps_per_test = np.ceil(len(X_test_seq) / batch_size).astype(int)\n",
        "\n",
        "# Define output signatures for the generators\n",
        "output_signature = (\n",
        "    (\n",
        "        tf.TensorSpec(shape=(None, *X_train_seq.shape[1:]), dtype=tf.float32),  # Sequential input signature\n",
        "        tf.TensorSpec(shape=(None, *X_train_non_seq.shape[1:]), dtype=tf.float32)  # Non-sequential input signature\n",
        "    ),\n",
        "    tf.TensorSpec(shape=(None,), dtype=tf.float32)  # Target signature\n",
        ")\n",
        "\n",
        "# Create data generators with output_signature\n",
        "train_generator = tf.data.Dataset.from_generator(\n",
        "    lambda: data_generator(X_train_seq, X_train_non_seq, y_train_seq, batch_size, shuffle=True),\n",
        "    output_signature=output_signature\n",
        ")\n",
        "\n",
        "val_generator = tf.data.Dataset.from_generator(\n",
        "    lambda: data_generator(X_val_seq, X_val_non_seq, y_val_seq, batch_size, shuffle=False),\n",
        "    output_signature=output_signature\n",
        ")\n",
        "\n",
        "test_generator = tf.data.Dataset.from_generator(\n",
        "    lambda: data_generator(X_test_seq, X_test_non_seq, y_test_seq, batch_size, shuffle=False),\n",
        "    output_signature=output_signature\n",
        ")\n",
        "\n",
        "# Train the model using the generators\n",
        "history = model.fit(\n",
        "    train_generator,\n",
        "    steps_per_epoch=steps_per_epoch_train,\n",
        "    validation_data=val_generator,\n",
        "    validation_steps=steps_per_epoch_val,\n",
        "    epochs=20,\n",
        "    callbacks=[  # Callbacks added for better training control\n",
        "        EarlyStopping(monitor='val_loss', patience=5, restore_best_weights=True),\n",
        "        ModelCheckpoint('best_model.keras', save_best_only=True, monitor='val_loss')\n",
        "    ]\n",
        ")\n",
        "# Evaluate the model on the test set\n",
        "steps_per_test = len(y_test_seq) // batch_size  # Adjust based on test set size and batch size\n",
        "evaluation_results = model.evaluate(test_generator, steps=steps_per_test)\n",
        "print(f\"Test Results: Loss = {evaluation_results[0]}, Accuracy = {evaluation_results[1]}\")"
      ]
    },
    {
      "cell_type": "code",
      "source": [
        "# Function to plot training and validation trends\n",
        "def plot_training_history(history):\n",
        "    \"\"\"\n",
        "    Plot training and validation accuracy and loss over epochs.\n",
        "\n",
        "    Parameters:\n",
        "        history (History object): The training history returned by model.fit().\n",
        "    \"\"\"\n",
        "    # Extract metrics\n",
        "    acc = history.history.get('accuracy', None)\n",
        "    val_acc = history.history.get('val_accuracy', None)\n",
        "    loss = history.history.get('loss', None)\n",
        "    val_loss = history.history.get('val_loss', None)\n",
        "\n",
        "    epochs = range(1, len(loss) + 1)\n",
        "\n",
        "    # Plot accuracy\n",
        "    if acc and val_acc:\n",
        "        plt.figure(figsize=(12, 5))\n",
        "\n",
        "        # Accuracy subplot\n",
        "        plt.subplot(1, 2, 1)\n",
        "        plt.plot(epochs, acc, 'b-', label='Training Accuracy')\n",
        "        plt.plot(epochs, val_acc, 'r-', label='Validation Accuracy')\n",
        "        plt.title('Training and Validation Accuracy')\n",
        "        plt.xlabel('Epochs')\n",
        "        plt.ylabel('Accuracy')\n",
        "        plt.legend()\n",
        "\n",
        "    # Plot loss\n",
        "    if loss and val_loss:\n",
        "        # Loss subplot\n",
        "        plt.subplot(1, 2, 2)\n",
        "        plt.plot(epochs, loss, 'b-', label='Training Loss')\n",
        "        plt.plot(epochs, val_loss, 'r-', label='Validation Loss')\n",
        "        plt.title('Training and Validation Loss')\n",
        "        plt.xlabel('Epochs')\n",
        "        plt.ylabel('Loss')\n",
        "        plt.legend()\n",
        "\n",
        "    plt.tight_layout()\n",
        "    plt.show()\n",
        "\n",
        "# Call the plotting function with the history object\n",
        "plot_training_history(history)\n"
      ],
      "metadata": {
        "colab": {
          "base_uri": "https://localhost:8080/",
          "height": 507
        },
        "id": "LKvRITdd70bo",
        "outputId": "cac6b78b-6db5-4f4f-c24b-69f8615b7a8f"
      },
      "execution_count": null,
      "outputs": [
        {
          "output_type": "display_data",
          "data": {
            "text/plain": [
              "<Figure size 1200x500 with 2 Axes>"
            ],
            "image/png": "[encoded data removed]"
          },
          "metadata": {}
        }
      ]
    },
    {
      "cell_type": "markdown",
      "metadata": {
        "id": "sIVGIWJvKb0n"
      },
      "source": [
        "#**Custom Metrics and Confusion Matrix with Predictions**"
      ]
    },
    {
      "cell_type": "code",
      "execution_count": null,
      "metadata": {
        "id": "_gaI2HaKKacS",
        "colab": {
          "base_uri": "https://localhost:8080/",
          "height": 790
        },
        "outputId": "ccd19f47-83e5-4343-ae33-b51d45b845be"
      },
      "outputs": [
        {
          "output_type": "stream",
          "name": "stdout",
          "text": [
            "\u001b[1m861/861\u001b[0m \u001b[32m━━━━━━━━━━━━━━━━━━━━\u001b[0m\u001b[37m\u001b[0m \u001b[1m3s\u001b[0m 3ms/step\n",
            "Precision: 0.9980\n",
            "Recall: 0.9980\n",
            "F1 Score: 0.9979\n"
          ]
        },
        {
          "output_type": "display_data",
          "data": {
            "text/plain": [
              "<Figure size 1000x800 with 2 Axes>"
            ],
            "image/png": "[encoded data removed]"
          },
          "metadata": {}
        }
      ],
      "source": [
        "# Define class names corresponding to the mapped values in the target column\n",
        "# Example: Replace the values below with the actual class names in your dataset\n",
        "class_names = [ 'Normal cognition', 'Impaired-not-MCI', 'MCI', 'AD']  # Replace with your actual feature names\n",
        "\n",
        "# Get predictions\n",
        "y_pred_probs = model.predict(test_generator, steps=steps_per_test)\n",
        "y_pred = np.argmax(y_pred_probs, axis=1)\n",
        "\n",
        "# Calculate additional metrics\n",
        "\n",
        "# Acessess y_test_seq to confirm it matches generator output\n",
        "precision = precision_score(y_test_seq[:len(y_pred)], y_pred, average='weighted')\n",
        "recall = recall_score(y_test_seq[:len(y_pred)], y_pred, average='weighted')\n",
        "f1 = f1_score(y_test_seq[:len(y_pred)], y_pred, average='weighted')\n",
        "cm = confusion_matrix(y_test_seq[:len(y_pred)], y_pred)\n",
        "\n",
        "print(f\"Precision: {precision:.4f}\")\n",
        "print(f\"Recall: {recall:.4f}\")\n",
        "print(f\"F1 Score: {f1:.4f}\")\n",
        "\n",
        "# Confusion Matrix Plot with feature names\n",
        "plt.figure(figsize=(10, 8))\n",
        "sns.heatmap(cm, annot=True, fmt='d', cmap='Blues', xticklabels=class_names, yticklabels=class_names)\n",
        "plt.xlabel('Predicted')\n",
        "plt.ylabel('True')\n",
        "plt.title('Confusion Matrix')\n",
        "plt.show()\n"
      ]
    },
    {
      "cell_type": "code",
      "execution_count": null,
      "metadata": {
        "id": "ahyFzIANK9kQ"
      },
      "outputs": [],
      "source": [
        "model.save('Hybrid_LSTM&Feedforward.keras')"
      ]
    },
    {
      "cell_type": "code",
      "source": [],
      "metadata": {
        "id": "ieP3LmcVCyZB"
      },
      "execution_count": null,
      "outputs": []
    },
    {
      "cell_type": "code",
      "source": [],
      "metadata": {
        "id": "-KY2BeriCybu"
      },
      "execution_count": null,
      "outputs": []
    }
  ],
  "metadata": {
    "colab": {
      "machine_shape": "hm",
      "provenance": []
    },
    "kernelspec": {
      "display_name": "Python 3",
      "name": "python3"
    },
    "language_info": {
      "name": "python"
    }
  },
  "nbformat": 4,
  "nbformat_minor": 0
}